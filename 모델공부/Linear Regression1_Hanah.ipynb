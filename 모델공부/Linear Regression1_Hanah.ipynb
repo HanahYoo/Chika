{
 "cells": [
  {
   "cell_type": "code",
   "execution_count": 1,
   "id": "0bf78982",
   "metadata": {},
   "outputs": [],
   "source": [
    "import numpy as np\n",
    "import pandas as pd\n",
    "import cv2\n",
    "import matplotlib.pyplot as plt\n",
    "from sklearn.linear_model import LinearRegression\n",
    "import seaborn as sns"
   ]
  },
  {
   "cell_type": "code",
   "execution_count": 2,
   "id": "cdb203f9",
   "metadata": {},
   "outputs": [],
   "source": [
    "df = np.load('C:/Users/hanah/Desktop/MBA/Python/Datasets/Right_DLB_p_1.npy')"
   ]
  },
  {
   "cell_type": "code",
   "execution_count": 3,
   "id": "e5336dde",
   "metadata": {
    "scrolled": true
   },
   "outputs": [
    {
     "data": {
      "text/plain": [
       "array([[[ 3.05489957e-01,  4.10173893e-01,  4.72139597e-01],\n",
       "        [ 4.94243473e-01,  4.88745481e-01,  3.87815386e-01],\n",
       "        [ 4.19656754e-01,  4.41579491e-01,  4.30601388e-01],\n",
       "        ...,\n",
       "        [-4.39051539e-02, -1.00964913e-03, -4.90558855e-02],\n",
       "        [-5.04005551e-02, -3.42188366e-02, -1.78175680e-02],\n",
       "        [-5.40936142e-02, -4.95546274e-02, -3.45208049e-02]],\n",
       "\n",
       "       [[ 2.92366624e-01,  4.01417911e-01,  4.59860951e-01],\n",
       "        [ 4.82890874e-01,  4.78592724e-01,  3.77225250e-01],\n",
       "        [ 4.11365449e-01,  4.32975799e-01,  4.19372946e-01],\n",
       "        ...,\n",
       "        [-2.91846972e-02,  1.15325712e-02, -3.51323038e-02],\n",
       "        [-3.93516719e-02, -2.47297958e-02, -7.59774214e-03],\n",
       "        [-4.24442291e-02, -3.77006270e-02, -2.24357545e-02]],\n",
       "\n",
       "       [[ 2.85510093e-01,  3.96437794e-01,  4.52020466e-01],\n",
       "        [ 4.74772036e-01,  4.72394288e-01,  3.69577587e-01],\n",
       "        [ 4.05875027e-01,  4.28829074e-01,  4.14597511e-01],\n",
       "        ...,\n",
       "        [-2.21747905e-02,  2.16450337e-02, -2.49095820e-02],\n",
       "        [-3.31724137e-02, -2.06075553e-02, -2.70073684e-07],\n",
       "        [-3.37189138e-02, -2.99229994e-02, -1.52230524e-02]],\n",
       "\n",
       "       ...,\n",
       "\n",
       "       [[ 1.43340617e-01,  1.89182550e-01,  2.90301263e-01],\n",
       "        [ 3.78386885e-01,  4.36259031e-01,  3.23579431e-01],\n",
       "        [ 4.39265311e-01,  4.66707647e-01,  4.68601346e-01],\n",
       "        ...,\n",
       "        [-6.67715585e-03, -2.84698308e-02, -2.63994895e-02],\n",
       "        [-1.74962934e-02, -1.13542443e-02, -5.96245527e-02],\n",
       "        [-4.21676710e-02, -2.24441458e-02, -7.98775628e-03]],\n",
       "\n",
       "       [[ 1.40911162e-01,  1.94744855e-01,  2.97957033e-01],\n",
       "        [ 3.91900837e-01,  4.45906073e-01,  3.34069163e-01],\n",
       "        [ 4.74192947e-01,  4.75318104e-01,  4.52164918e-01],\n",
       "        ...,\n",
       "        [-2.55085323e-02, -4.06406634e-02, -4.34568785e-02],\n",
       "        [-3.34648900e-02, -2.77339518e-02, -7.09602907e-02],\n",
       "        [-5.65496571e-02, -3.81417722e-02, -2.58583315e-02]],\n",
       "\n",
       "       [[ 1.45020843e-01,  2.05293804e-01,  3.05859149e-01],\n",
       "        [ 3.94361317e-01,  4.50815082e-01,  3.49349976e-01],\n",
       "        [ 4.89720106e-01,  4.80400562e-01,  4.47676122e-01],\n",
       "        ...,\n",
       "        [-2.10382324e-02, -3.56030054e-02, -3.69444415e-02],\n",
       "        [-2.60864589e-02, -2.01857053e-02, -6.49295226e-02],\n",
       "        [-5.04426025e-02, -3.21754590e-02, -1.98964532e-02]]])"
      ]
     },
     "execution_count": 3,
     "metadata": {},
     "output_type": "execute_result"
    }
   ],
   "source": [
    "df"
   ]
  },
  {
   "cell_type": "code",
   "execution_count": 4,
   "id": "748ab2ec",
   "metadata": {
    "scrolled": true
   },
   "outputs": [
    {
     "data": {
      "text/plain": [
       "array([0.34629655, 0.33876276, 0.33215231, 0.33005521, 0.32887235,\n",
       "       0.33497712, 0.33893481, 0.35067534, 0.36229074, 0.37163907,\n",
       "       0.37250131, 0.37358534, 0.3657746 , 0.3493619 , 0.33498806,\n",
       "       0.29657558, 0.29390708, 0.30523056, 0.3249287 , 0.36019641,\n",
       "       0.36184463, 0.35941854, 0.36332399, 0.34841055, 0.34005088,\n",
       "       0.34108424, 0.34322864, 0.35487017, 0.35964248, 0.35014126,\n",
       "       0.34041867, 0.3390654 , 0.33903769, 0.36499277, 0.37407932,\n",
       "       0.36936578, 0.35525078, 0.35648394, 0.36521697, 0.37899682,\n",
       "       0.37777862, 0.37361592, 0.37587106, 0.37530425, 0.37748089,\n",
       "       0.37918311, 0.39503813, 0.39190751, 0.36945498, 0.359604  ,\n",
       "       0.35829458, 0.36345771, 0.36636776, 0.38200784, 0.3855195 ,\n",
       "       0.3755866 , 0.36825362, 0.37180275, 0.39745003, 0.39593735,\n",
       "       0.38581812, 0.38830331, 0.39563686, 0.39562839, 0.41666791,\n",
       "       0.43189314, 0.42692029, 0.41119969, 0.40260252, 0.40659598,\n",
       "       0.43028975, 0.42954534, 0.4149335 , 0.41535839, 0.4005824 ,\n",
       "       0.40243825, 0.40982637, 0.42065522, 0.41453075, 0.39200518,\n",
       "       0.36838755, 0.36308104, 0.38141367, 0.38009408, 0.37122533,\n",
       "       0.34427562, 0.31792733, 0.30456579, 0.31181711, 0.31909797,\n",
       "       0.31535658, 0.30189395, 0.28865147, 0.28547519, 0.28979644,\n",
       "       0.29605106, 0.298087  , 0.28719324, 0.28169408, 0.28157896,\n",
       "       0.2816267 , 0.28628492, 0.29233858, 0.28847381, 0.27614179,\n",
       "       0.27262914, 0.27690804, 0.28499958, 0.29195428, 0.2977497 ,\n",
       "       0.29698846, 0.2879836 , 0.28189993, 0.28819105, 0.30216116,\n",
       "       0.30870616, 0.30385298, 0.28558484, 0.26908112, 0.2727626 ,\n",
       "       0.28838953, 0.30157211, 0.30737916, 0.29101336, 0.27763233,\n",
       "       0.2830348 , 0.29083517, 0.30542716, 0.30907372, 0.29430264,\n",
       "       0.27979693, 0.27521065, 0.28029501, 0.29187569, 0.29025933,\n",
       "       0.2801089 , 0.26416099, 0.25016814, 0.25525016, 0.26034087,\n",
       "       0.27113131, 0.27873075, 0.27810651, 0.27553627, 0.2685518 ,\n",
       "       0.27184677, 0.2777169 , 0.28566486, 0.2896688 , 0.28089237,\n",
       "       0.26971111, 0.26951116, 0.27988875, 0.2966398 , 0.3057501 ,\n",
       "       0.32555842, 0.33409452, 0.34348804, 0.35161451, 0.36190081,\n",
       "       0.36852199, 0.37409472, 0.37980008, 0.3883509 , 0.3899914 ,\n",
       "       0.39853573, 0.39993832, 0.4028272 , 0.40395844, 0.40395492,\n",
       "       0.40622389, 0.40918893, 0.4056887 , 0.39934337, 0.38346168,\n",
       "       0.3688201 , 0.36832812, 0.36424583, 0.37969476, 0.39864486,\n",
       "       0.40805966, 0.40622646, 0.39221817, 0.38219833, 0.37808037,\n",
       "       0.3803927 , 0.3788721 , 0.40408504, 0.41778401, 0.42452818,\n",
       "       0.40010265, 0.38894549, 0.38569587, 0.38861343, 0.39848658,\n",
       "       0.39442906, 0.39488572, 0.3995398 , 0.40757746, 0.42058304,\n",
       "       0.43017089, 0.42282984, 0.39533243, 0.39830679, 0.40210047,\n",
       "       0.4055137 , 0.40909314, 0.40816966, 0.40410525, 0.40257457,\n",
       "       0.40258738, 0.40336311, 0.40368381, 0.39578211, 0.39937627,\n",
       "       0.39687148, 0.39822653, 0.3961919 , 0.39559114, 0.39097354,\n",
       "       0.38823152, 0.38370478, 0.38452762, 0.39075938, 0.40322757,\n",
       "       0.41523197, 0.40659121, 0.40766576, 0.38725084, 0.3744655 ,\n",
       "       0.37421879, 0.38148659, 0.39088354, 0.403685  , 0.40803608,\n",
       "       0.4053764 , 0.39330786, 0.38962743, 0.38693339, 0.38471764,\n",
       "       0.3698574 , 0.35400757, 0.32777533, 0.30681509, 0.30251437,\n",
       "       0.29116198, 0.27952522, 0.28396121, 0.28897595, 0.30948707,\n",
       "       0.31365195, 0.31793451, 0.31346205, 0.31915373, 0.32107782,\n",
       "       0.31485978, 0.31851506, 0.32359773, 0.32178423, 0.30676988,\n",
       "       0.29891372, 0.30140707, 0.30853772, 0.32105371, 0.33839619,\n",
       "       0.33660388, 0.3203561 , 0.31280586, 0.31738862, 0.3242749 ,\n",
       "       0.34054416, 0.34354371, 0.33309573, 0.32463142, 0.32610995,\n",
       "       0.33343551, 0.33606163, 0.33754703, 0.3337287 , 0.31918606,\n",
       "       0.31064883, 0.30928352, 0.31860188, 0.33213067, 0.34476307,\n",
       "       0.35174108, 0.36090609, 0.36729291, 0.36139852, 0.35398412,\n",
       "       0.35978043, 0.35491344, 0.3586463 , 0.36458182, 0.3625713 ,\n",
       "       0.35691863, 0.3554447 , 0.35450158, 0.36079839, 0.3704758 ,\n",
       "       0.3711006 , 0.36773503, 0.35687959, 0.34475854, 0.34780687,\n",
       "       0.3545498 , 0.36031166, 0.37207177, 0.3657397 , 0.34858978,\n",
       "       0.33657071, 0.33453146, 0.33727157, 0.34792334, 0.35429096,\n",
       "       0.34725028, 0.33557501, 0.33180743, 0.33959165, 0.34613493,\n",
       "       0.34532192, 0.3678484 , 0.36428815, 0.35745871, 0.34648365,\n",
       "       0.34449831, 0.34938824, 0.34721962, 0.34904045, 0.34756577,\n",
       "       0.34669447, 0.34211823, 0.33772585, 0.32427138, 0.34603542,\n",
       "       0.38096899, 0.40570951, 0.41012686, 0.39709938, 0.3800405 ,\n",
       "       0.36803797, 0.37284836, 0.37455532, 0.38929445, 0.39115569,\n",
       "       0.39028519, 0.35949105, 0.35467625, 0.35275051, 0.36660549,\n",
       "       0.37560248, 0.3768152 , 0.37890825, 0.37309119, 0.35518318,\n",
       "       0.34215966, 0.33040252, 0.32813668, 0.32503292, 0.32212296,\n",
       "       0.31484756, 0.31523162, 0.30837044, 0.30904078, 0.30726618,\n",
       "       0.3040272 , 0.30181593, 0.30216482, 0.30235529, 0.29916608,\n",
       "       0.30604374, 0.3040742 , 0.30455887, 0.30491629, 0.30144459,\n",
       "       0.29762304, 0.30620924, 0.29935384, 0.29831669, 0.30305368,\n",
       "       0.30518827, 0.30938613, 0.31626102, 0.33011878, 0.33859578,\n",
       "       0.33956903, 0.3516295 , 0.35872072, 0.37106431, 0.38454437,\n",
       "       0.39579958, 0.40476245, 0.40735576, 0.41212183, 0.41431764,\n",
       "       0.42001343, 0.42324576, 0.4123705 , 0.39244327, 0.37674576,\n",
       "       0.36753538, 0.37117887, 0.38567287, 0.39722276, 0.40413165,\n",
       "       0.40208155, 0.3891387 , 0.38542992, 0.38597944, 0.38200486,\n",
       "       0.38315654, 0.37864324, 0.35984027, 0.34879899, 0.33671823,\n",
       "       0.34918022, 0.36463174, 0.37592345, 0.38257271, 0.39456597,\n",
       "       0.39511439, 0.39498571, 0.40129894, 0.39846882, 0.39958927,\n",
       "       0.39904648, 0.38436097, 0.3741363 , 0.36323079, 0.34443003,\n",
       "       0.34352231, 0.34555653, 0.34808311, 0.359914  , 0.3724089 ,\n",
       "       0.36959356, 0.36615366, 0.36445954, 0.3622874 , 0.36054897,\n",
       "       0.35895079, 0.35563022, 0.35984054, 0.36020735, 0.36615625,\n",
       "       0.35951981, 0.35409158, 0.34727111, 0.3453736 , 0.34497294,\n",
       "       0.34305507, 0.34679502, 0.35565838, 0.35462704, 0.36138785,\n",
       "       0.35114402, 0.3446916 , 0.34488529, 0.34925506, 0.35095027,\n",
       "       0.35820264, 0.36399901, 0.34640956, 0.33021313, 0.33512962,\n",
       "       0.31973401, 0.32130015, 0.32579103, 0.34046531, 0.34523466,\n",
       "       0.34276447, 0.34263852, 0.32944164, 0.32697144, 0.33164096,\n",
       "       0.33147639, 0.3411938 , 0.35473537, 0.35178518, 0.34362271,\n",
       "       0.33778086, 0.33442122, 0.34175581, 0.34816995, 0.35976875,\n",
       "       0.36164027, 0.36528212, 0.35399032, 0.34501082, 0.34557778,\n",
       "       0.35527143, 0.36513197, 0.37526727, 0.38596633, 0.37402803,\n",
       "       0.37198722, 0.36449394, 0.35414413, 0.3581568 , 0.3734566 ])"
      ]
     },
     "execution_count": 4,
     "metadata": {},
     "output_type": "execute_result"
    }
   ],
   "source": [
    "x1 = df[:,3,0]\n",
    "x1"
   ]
  },
  {
   "cell_type": "code",
   "execution_count": 5,
   "id": "915aa33a",
   "metadata": {},
   "outputs": [],
   "source": [
    "x2 = df[:,7,0]\n",
    "x3 = df[:,11,0]\n",
    "y1 = df[:,3,1]\n",
    "y2 = df[:,7,1]\n",
    "y3 = df[:,11,1]"
   ]
  },
  {
   "cell_type": "code",
   "execution_count": 6,
   "id": "103185c9",
   "metadata": {},
   "outputs": [],
   "source": [
    "X = np.column_stack((x1,x2,x3))\n",
    "X = pd.DataFrame(X)\n",
    "X.columns = ['엄지', '검지', '중지']"
   ]
  },
  {
   "cell_type": "code",
   "execution_count": 7,
   "id": "28d4113f",
   "metadata": {},
   "outputs": [],
   "source": [
    "Y = np.column_stack((y1,y2,y3))\n",
    "Y = pd.DataFrame(Y)\n",
    "Y.columns = ['엄지', '검지', '중지']"
   ]
  },
  {
   "cell_type": "code",
   "execution_count": 10,
   "id": "eeee2ce4",
   "metadata": {},
   "outputs": [],
   "source": [
    "X1=X.loc[0]\n",
    "Y1=Y.loc[0]"
   ]
  },
  {
   "cell_type": "code",
   "execution_count": 21,
   "id": "6d3f6a29",
   "metadata": {},
   "outputs": [
    {
     "data": {
      "text/plain": [
       "<AxesSubplot:xlabel='0', ylabel='0'>"
      ]
     },
     "execution_count": 21,
     "metadata": {},
     "output_type": "execute_result"
    },
    {
     "data": {
      "image/png": "[encoded data removed]",
      "text/plain": [
       "<Figure size 432x288 with 1 Axes>"
      ]
     },
     "metadata": {
      "needs_background": "light"
     },
     "output_type": "display_data"
    }
   ],
   "source": [
    "sns.regplot(X1, Y1, order=1, ci=None, scatter_kws={'color':'b', 's':9})"
   ]
  },
  {
   "cell_type": "code",
   "execution_count": null,
   "id": "c23f984a",
   "metadata": {},
   "outputs": [],
   "source": []
  }
 ],
 "metadata": {
  "kernelspec": {
   "display_name": "Python 3 (ipykernel)",
   "language": "python",
   "name": "python3"
  },
  "language_info": {
   "codemirror_mode": {
    "name": "ipython",
    "version": 3
   },
   "file_extension": ".py",
   "mimetype": "text/x-python",
   "name": "python",
   "nbconvert_exporter": "python",
   "pygments_lexer": "ipython3",
   "version": "3.9.12"
  }
 },
 "nbformat": 4,
 "nbformat_minor": 5
}
