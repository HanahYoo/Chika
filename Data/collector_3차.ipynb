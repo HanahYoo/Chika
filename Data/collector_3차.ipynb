{
 "cells": [
  {
   "cell_type": "markdown",
   "id": "0f9b8ea9-4bc9-4715-8bbc-1996206f0e9c",
   "metadata": {},
   "source": [
    "## 10fps로 바꾸는 것까지 진행 완료"
   ]
  },
  {
   "cell_type": "code",
   "execution_count": 6,
   "id": "50c5681a-27c9-4278-b722-159d0056dec8",
   "metadata": {},
   "outputs": [],
   "source": [
    "import cv2\n",
    "import mediapipe as mp\n",
    "import numpy as np\n",
    "import os\n",
    "import time"
   ]
  },
  {
   "cell_type": "code",
   "execution_count": 7,
   "id": "906c6f32-84b7-4338-8354-77501b7fc01a",
   "metadata": {},
   "outputs": [],
   "source": [
    "mp_hands = mp.solutions.hands\n",
    "mp_face_detection = mp.solutions.face_detection\n",
    "mp_drawing = mp.solutions.drawing_utils\n",
    "mp_drawing_styles = mp.solutions.drawing_styles\n",
    "\n",
    "os.makedirs('Datasets/', exist_ok=True)"
   ]
  },
  {
   "cell_type": "code",
   "execution_count": 8,
   "id": "bbf4d02a-1122-4d6d-b00c-dd204d9e1973",
   "metadata": {},
   "outputs": [],
   "source": [
    "study_frame=300 # 10fps 기준으로 10초\n",
    "FPS = 30\n",
    "prev_time = 0\n",
    "hand=\"Right\" \n",
    "pause_time=5\n",
    "gesture_list = ['NONE', 'URF', 'UMF', 'ULF', 'DLF', 'DMF', 'DRF', 'URB', 'UMB', 'ULB', 'DLB', 'DMB', 'DRB','URO', 'ULO', 'DLO', 'DRO']\n",
    "session=1\n",
    "gesture=gesture_list[1]"
   ]
  },
  {
   "cell_type": "code",
   "execution_count": 1,
   "id": "c4841f54",
   "metadata": {
    "collapsed": true,
    "jupyter": {
     "outputs_hidden": true
    }
   },
   "outputs": [
    {
     "ename": "NameError",
     "evalue": "name 'position' is not defined",
     "output_type": "error",
     "traceback": [
      "\u001b[0;31m---------------------------------------------------------------------------\u001b[0m",
      "\u001b[0;31mNameError\u001b[0m                                 Traceback (most recent call last)",
      "\u001b[0;32m/var/folders/s4/7x4zrn_n0klgd6vbnf75pkn80000gn/T/ipykernel_74779/2777735603.py\u001b[0m in \u001b[0;36m<module>\u001b[0;34m\u001b[0m\n\u001b[0;32m----> 1\u001b[0;31m \u001b[0mposition\u001b[0m\u001b[0;34m\u001b[0m\u001b[0;34m\u001b[0m\u001b[0m\n\u001b[0m",
      "\u001b[0;31mNameError\u001b[0m: name 'position' is not defined"
     ]
    }
   ],
   "source": [
    "position"
   ]
  },
  {
   "cell_type": "code",
   "execution_count": 5,
   "id": "1f974403-dea9-4ad1-9d7d-70146065fd4a",
   "metadata": {
    "tags": []
   },
   "outputs": [
    {
     "name": "stdout",
     "output_type": "stream",
     "text": [
      "::Brushing teeth  Procedure::\n",
      "Right\tNONE->URF->UMF->ULF->DLF->DMF->DRF->URB->UMB->ULB->DLB->DMB->DRB->URO->ULO->DLO->DRO\n",
      "::Right NONE Ready.... \n",
      "5\n",
      "4\n",
      "3\n",
      "2\n",
      "1\n",
      "Start\n",
      "Finished\n",
      "::Right URF Ready.... \n",
      "5\n",
      "4\n",
      "3\n",
      "2\n",
      "1\n",
      "Start\n"
     ]
    },
    {
     "ename": "KeyboardInterrupt",
     "evalue": "",
     "output_type": "error",
     "traceback": [
      "\u001b[0;31m---------------------------------------------------------------------------\u001b[0m",
      "\u001b[0;31mKeyboardInterrupt\u001b[0m                         Traceback (most recent call last)",
      "\u001b[0;32m/var/folders/s4/7x4zrn_n0klgd6vbnf75pkn80000gn/T/ipykernel_32032/1836449938.py\u001b[0m in \u001b[0;36m<module>\u001b[0;34m\u001b[0m\n\u001b[1;32m     34\u001b[0m         \u001b[0;32mwhile\u001b[0m \u001b[0mlen\u001b[0m\u001b[0;34m(\u001b[0m\u001b[0mposition\u001b[0m\u001b[0;34m)\u001b[0m \u001b[0;34m<=\u001b[0m \u001b[0mstudy_frame\u001b[0m\u001b[0;34m:\u001b[0m\u001b[0;34m\u001b[0m\u001b[0;34m\u001b[0m\u001b[0m\n\u001b[1;32m     35\u001b[0m \u001b[0;34m\u001b[0m\u001b[0m\n\u001b[0;32m---> 36\u001b[0;31m             \u001b[0msuccess\u001b[0m\u001b[0;34m,\u001b[0m \u001b[0mframe\u001b[0m \u001b[0;34m=\u001b[0m \u001b[0mcap\u001b[0m\u001b[0;34m.\u001b[0m\u001b[0mread\u001b[0m\u001b[0;34m(\u001b[0m\u001b[0;34m)\u001b[0m\u001b[0;34m\u001b[0m\u001b[0;34m\u001b[0m\u001b[0m\n\u001b[0m\u001b[1;32m     37\u001b[0m             \u001b[0mcurrent_time\u001b[0m \u001b[0;34m=\u001b[0m \u001b[0mtime\u001b[0m\u001b[0;34m.\u001b[0m\u001b[0mtime\u001b[0m\u001b[0;34m(\u001b[0m\u001b[0;34m)\u001b[0m \u001b[0;34m-\u001b[0m \u001b[0mprev_time\u001b[0m\u001b[0;34m\u001b[0m\u001b[0;34m\u001b[0m\u001b[0m\n\u001b[1;32m     38\u001b[0m \u001b[0;34m\u001b[0m\u001b[0m\n",
      "\u001b[0;31mKeyboardInterrupt\u001b[0m: "
     ]
    }
   ],
   "source": [
    "print('::Brushing teeth  Procedure::')\n",
    "print(hand, end='\\t')\n",
    "for gesture in gesture_list:\n",
    "    if gesture==gesture_list[-1]:\n",
    "        print(gesture, end='')\n",
    "    else:\n",
    "        print(gesture, end='')\n",
    "        print('->', end='')\n",
    "print()\n",
    "\n",
    "for gesture in gesture_list:\n",
    "    cap = cv2.VideoCapture(0)\n",
    "\n",
    "    position = np.zeros((1,21,3))\n",
    "    res=np.zeros((1,21,3))\n",
    "\n",
    "    with mp_hands.Hands(model_complexity=1,\n",
    "                        max_num_hands=1,\n",
    "                        min_detection_confidence=0.5,\n",
    "                        min_tracking_confidence=0.5) as hands:\n",
    "\n",
    "\n",
    "\n",
    "        print('::{} {} Ready.... '.format(hand,gesture))\n",
    "        cnt=pause_time\n",
    "\n",
    "        for i in [1000]*pause_time:\n",
    "            print(cnt)\n",
    "            cv2.waitKey(i)\n",
    "            cnt-=1\n",
    "\n",
    "        print('Start')\n",
    "\n",
    "        while len(position) <= study_frame:\n",
    "\n",
    "            success, frame = cap.read()\n",
    "            current_time = time.time() - prev_time\n",
    "            \n",
    "            if not success:\n",
    "                break\n",
    "\n",
    "            frame = cv2.cvtColor(frame, cv2.COLOR_BGR2RGB)\n",
    "            results = hands.process(frame)\n",
    "            frame = cv2.cvtColor(frame, cv2.COLOR_RGB2BGR)\n",
    "\n",
    "            if results.multi_hand_landmarks:\n",
    "                for hand_landmarks in results.multi_hand_landmarks:\n",
    "                    mp_drawing.draw_landmarks(frame,hand_landmarks,mp_hands.HAND_CONNECTIONS,\n",
    "                                              mp_drawing_styles.get_default_hand_landmarks_style(),\n",
    "                                              mp_drawing_styles.get_default_hand_connections_style())\n",
    "\n",
    "            frame_vector_x = []\n",
    "            frame_vector_y = []\n",
    "            frame_vector_z = []\n",
    "            if results.multi_hand_landmarks:\n",
    "                for point in results.multi_hand_landmarks[0].landmark:\n",
    "                    frame_vector_x.append(point.x)\n",
    "                    frame_vector_y.append(point.y)\n",
    "                    frame_vector_z.append(point.z)\n",
    "                frame_array = np.vstack((frame_vector_x,frame_vector_y,frame_vector_z)).reshape(1,21,3)\n",
    "\n",
    "                position = np.vstack((position,frame_array))\n",
    "\n",
    "            if (success is True) and (current_time > 1./FPS):\n",
    "                prev_time = time.time()\n",
    "                cv2.putText(frame,'Dataset Count : %d' % (position.shape[0]-1),(20,40),cv2.FONT_HERSHEY_SIMPLEX,1,(0,0,0))\n",
    "                cv2.imshow('frame', frame)\n",
    "\n",
    "                if cv2.waitKey(1) == ord('q'):\n",
    "                    break\n",
    "\n",
    "        position=position[1:]\n",
    "\n",
    "        np.save('Datasets/%s_%s_p_%d' % (hand,gesture,session), position)\n",
    "        cv2.waitKey(1000)\n",
    "\n",
    "\n",
    "    cap.release()\n",
    "    cv2.destroyAllWindows()\n",
    "    print('Finished')"
   ]
  },
  {
   "cell_type": "code",
   "execution_count": null,
   "id": "03a09b6c-0d9e-4119-92e8-99501cff4c7b",
   "metadata": {},
   "outputs": [],
   "source": []
  }
 ],
 "metadata": {
  "kernelspec": {
   "display_name": "Python 3 (ipykernel)",
   "language": "python",
   "name": "python3"
  },
  "language_info": {
   "codemirror_mode": {
    "name": "ipython",
    "version": 3
   },
   "file_extension": ".py",
   "mimetype": "text/x-python",
   "name": "python",
   "nbconvert_exporter": "python",
   "pygments_lexer": "ipython3",
   "version": "3.9.7"
  }
 },
 "nbformat": 4,
 "nbformat_minor": 5
}
