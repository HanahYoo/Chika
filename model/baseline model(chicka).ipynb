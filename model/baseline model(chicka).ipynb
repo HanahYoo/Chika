{
 "cells": [
  {
   "cell_type": "code",
   "execution_count": null,
   "id": "7b0cc1be",
   "metadata": {},
   "outputs": [],
   "source": [
    "import torch\n",
    "import torch.nn as nn"
   ]
  },
  {
   "cell_type": "code",
   "execution_count": null,
   "id": "474b0ecb",
   "metadata": {},
   "outputs": [],
   "source": [
    "class LSTM_Chicka(nn.Module):\n",
    "    def __init__(self, num_classes, input_size, hidden_size, num_layers, seq_length,dropout_rate):\n",
    "        super(LSTM_Chicka,self).__init__()\n",
    "        self.num_classes = num_classes\n",
    "        self.num_layers = num_layers\n",
    "        self.input_size = input_size\n",
    "        self.hidden_size = hidden_size\n",
    "        self.seq_length = seq_length\n",
    "        dropout_rate = dropout_rate\n",
    "        self.lstm =  nn.LSTM(input_size = input_size, hidden_size = hidden_size, num_layers = num_layers, batch_first = True,dropout = dropout_rate)\n",
    "        self.layer_1 = nn.Linear(hidden_size, 256)\n",
    "        self.layer_2 = nn.Linear(256,64)\n",
    "        self.layer_3 = nn.Linear(64,16)\n",
    "        self.layer_out = nn.Linear(16, num_classes) \n",
    "        self.relu = nn.ReLU()  \n",
    "    def forward(self,x):\n",
    "        h_0 = torch.tensor(torch.zeros(self.num_layers,x.size(0), self.hidden_size)) # x.size(0) batch size \n",
    "        c_0 = torch.tensor(torch.zeros(self.num_layers, x.size(0), self.hidden_size))\n",
    "        \n",
    "        output, (hn,cn) = self.lstm(x,(h_0,c_0))\n",
    "        \n",
    "        hn = hn.view(-1, self.hidden_size)\n",
    "        out = self.relu(hn)\n",
    "        out = self.layer_1(out) \n",
    "        out = self.relu(out) \n",
    "        out = self.layer_2(out)\n",
    "        out = self.relu(out)\n",
    "        out = self.layer_3(out)\n",
    "        out = self.relu(out)\n",
    "        out = self.layer_out(out) \n",
    "\n",
    "        return out\n",
    "        "
   ]
  },
  {
   "cell_type": "code",
   "execution_count": null,
   "id": "0f9e3746",
   "metadata": {},
   "outputs": [],
   "source": [
    "model = LSTM_Chicka(num_classes,input_size, hidden_size, num_layers, seq_length,dropout_rate)\n",
    "criterion = torch.nn.BCELoss\n",
    "optimizer = torch.optim.Adam(model.parameters(), lr=0.01, momentum=0.9)\n",
    "scheduler = torch.optim.lr_scheduler.ReduceLROnPlateau(optimizer= optimizer)"
   ]
  },
  {
   "cell_type": "code",
   "execution_count": null,
   "id": "c008b8a0",
   "metadata": {},
   "outputs": [],
   "source": [
    "num_epochs = 100 \n",
    "\n",
    "for epoch in range(num_epochs) : \n",
    "\n",
    "    outputs = LSTM_Chicka.forward(train_x_tensor_final)\n",
    "\n",
    "    optimizer.zero_grad()\n",
    "\n",
    "    loss = criterion(outputs, train_y_tensor)\n",
    "\n",
    "    loss.backward()\n",
    "\n",
    "    optimizer.step() # improve from loss = back propagation\n",
    "\n",
    "    if epoch % 200 == 0 :\n",
    "\n",
    "        print(\"Epoch : %d, loss : %1.5f\" % (epoch, loss.item()))"
   ]
  },
  {
   "cell_type": "code",
   "execution_count": null,
   "id": "c664e857",
   "metadata": {},
   "outputs": [],
   "source": [
    "test_predict = LSTM_Chicka(train_x_tensor_final) "
   ]
  }
 ],
 "metadata": {
  "kernelspec": {
   "display_name": "Python 3 (ipykernel)",
   "language": "python",
   "name": "python3"
  },
  "language_info": {
   "codemirror_mode": {
    "name": "ipython",
    "version": 3
   },
   "file_extension": ".py",
   "mimetype": "text/x-python",
   "name": "python",
   "nbconvert_exporter": "python",
   "pygments_lexer": "ipython3",
   "version": "3.9.12"
  }
 },
 "nbformat": 4,
 "nbformat_minor": 5
}
