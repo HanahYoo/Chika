{
 "cells": [
  {
   "cell_type": "code",
   "execution_count": 32,
   "id": "b9864c39",
   "metadata": {},
   "outputs": [],
   "source": [
    "import numpy as np\n",
    "import pandas as pd\n",
    "df = np.load('C://jmchika/Right_ULF_p_1.npy')"
   ]
  },
  {
   "cell_type": "code",
   "execution_count": 33,
   "id": "42aa8606",
   "metadata": {},
   "outputs": [
    {
     "data": {
      "text/plain": [
       "300"
      ]
     },
     "execution_count": 33,
     "metadata": {},
     "output_type": "execute_result"
    }
   ],
   "source": [
    "len(df[:300])"
   ]
  },
  {
   "cell_type": "code",
   "execution_count": 34,
   "id": "802b7884",
   "metadata": {},
   "outputs": [],
   "source": [
    "df_D = pd.DataFrame(df[:300,3,:])\n",
    "df_D = df_D.assign(category = \"first\")\n",
    "df_D = df_D.set_index(['category'])\n",
    "df_D.columns= ['x','y','z']"
   ]
  },
  {
   "cell_type": "code",
   "execution_count": 35,
   "id": "2473de4f",
   "metadata": {},
   "outputs": [],
   "source": [
    "df_E = pd.DataFrame(df[:300,7,:])\n",
    "df_E = df_E.assign(category = \"second\")\n",
    "df_E = df_E.set_index(['category'])\n",
    "df_E.columns= ['x','y','z']"
   ]
  },
  {
   "cell_type": "code",
   "execution_count": 36,
   "id": "9f08fb5c",
   "metadata": {
    "scrolled": true
   },
   "outputs": [],
   "source": [
    "df_F = pd.DataFrame(df[:300,11,:])\n",
    "df_F = df_F.assign(category = \"third\")\n",
    "df_F = df_F.set_index(['category'])\n",
    "df_F.columns= ['x','y','z']"
   ]
  },
  {
   "cell_type": "code",
   "execution_count": 37,
   "id": "2c60c75d",
   "metadata": {},
   "outputs": [],
   "source": [
    "a =[]\n",
    "for i in range(100):\n",
    "     a.append(df_D[3*i:3*(i+1)].mean())"
   ]
  },
  {
   "cell_type": "code",
   "execution_count": 38,
   "id": "7d2a1346",
   "metadata": {},
   "outputs": [],
   "source": [
    "b =[]\n",
    "for i in range(100):\n",
    "     b.append(df_E[3*i:3*(i+1)].mean())"
   ]
  },
  {
   "cell_type": "code",
   "execution_count": 39,
   "id": "f3273bd8",
   "metadata": {},
   "outputs": [],
   "source": [
    "c =[]\n",
    "for i in range(100):\n",
    "     c.append(df_F[3*i:3*(i+1)].mean())"
   ]
  },
  {
   "cell_type": "code",
   "execution_count": 40,
   "id": "56aa8e99",
   "metadata": {},
   "outputs": [],
   "source": [
    "import matplotlib.pyplot as plt\n",
    "%matplotlib inline \n",
    "from mpl_toolkits.mplot3d import Axes3D\n",
    "from sklearn.linear_model import LinearRegression\n",
    "import seaborn as sns\n",
    "#from statsmodels.formula.api import ols"
   ]
  },
  {
   "cell_type": "code",
   "execution_count": 41,
   "id": "83ce62b9",
   "metadata": {},
   "outputs": [],
   "source": [
    "da1 = pd.DataFrame([[a[0][0],a[0][1],a[0][2]]], columns=['x','y','z'])\n",
    "da2 = pd.DataFrame([[b[0][0],b[0][1],b[0][2]]], columns=['x','y','z'])\n",
    "da3 = pd.DataFrame([[c[0][0],c[0][1],c[0][2]]], columns=['x','y','z'])\n",
    "da = pd.concat([da1,da2,da3])"
   ]
  },
  {
   "cell_type": "code",
   "execution_count": 42,
   "id": "bcb4005d",
   "metadata": {
    "scrolled": true
   },
   "outputs": [
    {
     "data": {
      "text/plain": [
       "<AxesSubplot:xlabel='x', ylabel='y'>"
      ]
     },
     "execution_count": 42,
     "metadata": {},
     "output_type": "execute_result"
    },
    {
     "data": {
      "image/png": "[encoded data removed]",
      "text/plain": [
       "<Figure size 432x288 with 1 Axes>"
      ]
     },
     "metadata": {
      "needs_background": "light"
     },
     "output_type": "display_data"
    }
   ],
   "source": [
    "sns.regplot(x=\"x\", y=\"y\", data=da, order=1, ci=None, scatter_kws={'color':'b', 's':9})"
   ]
  },
  {
   "cell_type": "code",
   "execution_count": 43,
   "id": "4fc00386",
   "metadata": {},
   "outputs": [],
   "source": [
    "dat = pd.DataFrame()\n",
    "data = pd.DataFrame()\n",
    "for i in range(100):\n",
    "    da1 = pd.DataFrame([[a[i][0],a[i][1],a[i][2]]], columns=['first_x','first_y','first_z'])\n",
    "    da2 = pd.DataFrame([[b[i][0],b[i][1],b[i][2]]], columns=['second_x','second_y','second_z'])\n",
    "    da3 = pd.DataFrame([[c[i][0],c[i][1],c[i][2]]], columns=['third_x','third_y','third_z'])\n",
    "    dat = pd.concat([da1, da2, da3], axis =1)\n",
    "    data = pd.concat([data, dat])"
   ]
  },
  {
   "cell_type": "code",
   "execution_count": 44,
   "id": "3b136b92",
   "metadata": {},
   "outputs": [
    {
     "data": {
      "text/html": [
       "<div>\n",
       "<style scoped>\n",
       "    .dataframe tbody tr th:only-of-type {\n",
       "        vertical-align: middle;\n",
       "    }\n",
       "\n",
       "    .dataframe tbody tr th {\n",
       "        vertical-align: top;\n",
       "    }\n",
       "\n",
       "    .dataframe thead th {\n",
       "        text-align: right;\n",
       "    }\n",
       "</style>\n",
       "<table border=\"1\" class=\"dataframe\">\n",
       "  <thead>\n",
       "    <tr style=\"text-align: right;\">\n",
       "      <th></th>\n",
       "      <th>first_x</th>\n",
       "      <th>first_y</th>\n",
       "      <th>first_z</th>\n",
       "      <th>second_x</th>\n",
       "      <th>second_y</th>\n",
       "      <th>second_z</th>\n",
       "      <th>third_x</th>\n",
       "      <th>third_y</th>\n",
       "      <th>third_z</th>\n",
       "    </tr>\n",
       "  </thead>\n",
       "  <tbody>\n",
       "    <tr>\n",
       "      <th>0</th>\n",
       "      <td>0.276467</td>\n",
       "      <td>0.357904</td>\n",
       "      <td>0.357117</td>\n",
       "      <td>0.978835</td>\n",
       "      <td>0.958698</td>\n",
       "      <td>0.916726</td>\n",
       "      <td>0.917934</td>\n",
       "      <td>0.831079</td>\n",
       "      <td>0.856390</td>\n",
       "    </tr>\n",
       "    <tr>\n",
       "      <th>1</th>\n",
       "      <td>0.272159</td>\n",
       "      <td>0.355869</td>\n",
       "      <td>0.353319</td>\n",
       "      <td>1.005806</td>\n",
       "      <td>0.971796</td>\n",
       "      <td>0.918168</td>\n",
       "      <td>0.914743</td>\n",
       "      <td>0.822329</td>\n",
       "      <td>0.844599</td>\n",
       "    </tr>\n",
       "    <tr>\n",
       "      <th>2</th>\n",
       "      <td>0.277548</td>\n",
       "      <td>0.361795</td>\n",
       "      <td>0.357851</td>\n",
       "      <td>1.014163</td>\n",
       "      <td>0.976318</td>\n",
       "      <td>0.921959</td>\n",
       "      <td>0.918024</td>\n",
       "      <td>0.824290</td>\n",
       "      <td>0.849048</td>\n",
       "    </tr>\n",
       "    <tr>\n",
       "      <th>3</th>\n",
       "      <td>0.281013</td>\n",
       "      <td>0.364906</td>\n",
       "      <td>0.361204</td>\n",
       "      <td>1.012416</td>\n",
       "      <td>0.971560</td>\n",
       "      <td>0.917214</td>\n",
       "      <td>0.915121</td>\n",
       "      <td>0.820981</td>\n",
       "      <td>0.844637</td>\n",
       "    </tr>\n",
       "    <tr>\n",
       "      <th>4</th>\n",
       "      <td>0.285725</td>\n",
       "      <td>0.371424</td>\n",
       "      <td>0.369091</td>\n",
       "      <td>1.015244</td>\n",
       "      <td>0.972819</td>\n",
       "      <td>0.917689</td>\n",
       "      <td>0.912886</td>\n",
       "      <td>0.820749</td>\n",
       "      <td>0.843952</td>\n",
       "    </tr>\n",
       "    <tr>\n",
       "      <th>...</th>\n",
       "      <td>...</td>\n",
       "      <td>...</td>\n",
       "      <td>...</td>\n",
       "      <td>...</td>\n",
       "      <td>...</td>\n",
       "      <td>...</td>\n",
       "      <td>...</td>\n",
       "      <td>...</td>\n",
       "      <td>...</td>\n",
       "    </tr>\n",
       "    <tr>\n",
       "      <th>95</th>\n",
       "      <td>0.197118</td>\n",
       "      <td>0.308250</td>\n",
       "      <td>0.306947</td>\n",
       "      <td>0.916111</td>\n",
       "      <td>0.861175</td>\n",
       "      <td>0.799277</td>\n",
       "      <td>0.799794</td>\n",
       "      <td>0.683510</td>\n",
       "      <td>0.712174</td>\n",
       "    </tr>\n",
       "    <tr>\n",
       "      <th>96</th>\n",
       "      <td>0.199034</td>\n",
       "      <td>0.311633</td>\n",
       "      <td>0.311882</td>\n",
       "      <td>0.933485</td>\n",
       "      <td>0.874916</td>\n",
       "      <td>0.810004</td>\n",
       "      <td>0.813336</td>\n",
       "      <td>0.698293</td>\n",
       "      <td>0.724960</td>\n",
       "    </tr>\n",
       "    <tr>\n",
       "      <th>97</th>\n",
       "      <td>0.193796</td>\n",
       "      <td>0.307241</td>\n",
       "      <td>0.301895</td>\n",
       "      <td>0.936416</td>\n",
       "      <td>0.881531</td>\n",
       "      <td>0.819616</td>\n",
       "      <td>0.821142</td>\n",
       "      <td>0.701002</td>\n",
       "      <td>0.737136</td>\n",
       "    </tr>\n",
       "    <tr>\n",
       "      <th>98</th>\n",
       "      <td>0.189581</td>\n",
       "      <td>0.298714</td>\n",
       "      <td>0.294889</td>\n",
       "      <td>0.922774</td>\n",
       "      <td>0.870814</td>\n",
       "      <td>0.809211</td>\n",
       "      <td>0.811692</td>\n",
       "      <td>0.691254</td>\n",
       "      <td>0.726100</td>\n",
       "    </tr>\n",
       "    <tr>\n",
       "      <th>99</th>\n",
       "      <td>0.189461</td>\n",
       "      <td>0.293903</td>\n",
       "      <td>0.294666</td>\n",
       "      <td>0.903188</td>\n",
       "      <td>0.848906</td>\n",
       "      <td>0.787595</td>\n",
       "      <td>0.790329</td>\n",
       "      <td>0.674137</td>\n",
       "      <td>0.702176</td>\n",
       "    </tr>\n",
       "  </tbody>\n",
       "</table>\n",
       "<p>100 rows × 9 columns</p>\n",
       "</div>"
      ],
      "text/plain": [
       "     first_x   first_y   first_z  second_x  second_y  second_z   third_x  \\\n",
       "0   0.276467  0.357904  0.357117  0.978835  0.958698  0.916726  0.917934   \n",
       "1   0.272159  0.355869  0.353319  1.005806  0.971796  0.918168  0.914743   \n",
       "2   0.277548  0.361795  0.357851  1.014163  0.976318  0.921959  0.918024   \n",
       "3   0.281013  0.364906  0.361204  1.012416  0.971560  0.917214  0.915121   \n",
       "4   0.285725  0.371424  0.369091  1.015244  0.972819  0.917689  0.912886   \n",
       "..       ...       ...       ...       ...       ...       ...       ...   \n",
       "95  0.197118  0.308250  0.306947  0.916111  0.861175  0.799277  0.799794   \n",
       "96  0.199034  0.311633  0.311882  0.933485  0.874916  0.810004  0.813336   \n",
       "97  0.193796  0.307241  0.301895  0.936416  0.881531  0.819616  0.821142   \n",
       "98  0.189581  0.298714  0.294889  0.922774  0.870814  0.809211  0.811692   \n",
       "99  0.189461  0.293903  0.294666  0.903188  0.848906  0.787595  0.790329   \n",
       "\n",
       "     third_y   third_z  \n",
       "0   0.831079  0.856390  \n",
       "1   0.822329  0.844599  \n",
       "2   0.824290  0.849048  \n",
       "3   0.820981  0.844637  \n",
       "4   0.820749  0.843952  \n",
       "..       ...       ...  \n",
       "95  0.683510  0.712174  \n",
       "96  0.698293  0.724960  \n",
       "97  0.701002  0.737136  \n",
       "98  0.691254  0.726100  \n",
       "99  0.674137  0.702176  \n",
       "\n",
       "[100 rows x 9 columns]"
      ]
     },
     "execution_count": 44,
     "metadata": {},
     "output_type": "execute_result"
    }
   ],
   "source": [
    "data.reset_index(drop=True)"
   ]
  },
  {
   "cell_type": "code",
   "execution_count": 45,
   "id": "1c95bea0",
   "metadata": {},
   "outputs": [
    {
     "data": {
      "text/plain": [
       "<AxesSubplot:>"
      ]
     },
     "execution_count": 45,
     "metadata": {},
     "output_type": "execute_result"
    },
    {
     "data": {
      "image/png": "[encoded data removed]",
      "text/plain": [
       "<Figure size 432x288 with 1 Axes>"
      ]
     },
     "metadata": {
      "needs_background": "light"
     },
     "output_type": "display_data"
    }
   ],
   "source": [
    "data.reset_index(drop='True').plot.line()"
   ]
  },
  {
   "cell_type": "code",
   "execution_count": 17,
   "id": "c4c5f3c3",
   "metadata": {},
   "outputs": [
    {
     "data": {
      "text/plain": [
       "<AxesSubplot:>"
      ]
     },
     "execution_count": 17,
     "metadata": {},
     "output_type": "execute_result"
    },
    {
     "data": {
      "image/png": "[encoded data removed]",
      "text/plain": [
       "<Figure size 432x288 with 1 Axes>"
      ]
     },
     "metadata": {
      "needs_background": "light"
     },
     "output_type": "display_data"
    }
   ],
   "source": [
    "data.boxplot()"
   ]
  },
  {
   "cell_type": "code",
   "execution_count": 16,
   "id": "6b5520e6",
   "metadata": {},
   "outputs": [
    {
     "data": {
      "text/plain": [
       "first_x     0\n",
       "first_y     0\n",
       "first_z     0\n",
       "second_x    0\n",
       "second_y    0\n",
       "second_z    0\n",
       "third_x     0\n",
       "third_y     0\n",
       "third_z     0\n",
       "dtype: int64"
      ]
     },
     "execution_count": 16,
     "metadata": {},
     "output_type": "execute_result"
    }
   ],
   "source": [
    "data.isnull().sum()"
   ]
  },
  {
   "cell_type": "code",
   "execution_count": null,
   "id": "1d6a9ac1",
   "metadata": {
    "scrolled": true
   },
   "outputs": [],
   "source": []
  },
  {
   "cell_type": "code",
   "execution_count": 17,
   "id": "b573df72",
   "metadata": {},
   "outputs": [
    {
     "ename": "NameError",
     "evalue": "name 'linearReg' is not defined",
     "output_type": "error",
     "traceback": [
      "\u001b[1;31m---------------------------------------------------------------------------\u001b[0m",
      "\u001b[1;31mNameError\u001b[0m                                 Traceback (most recent call last)",
      "Input \u001b[1;32mIn [17]\u001b[0m, in \u001b[0;36m<cell line: 1>\u001b[1;34m()\u001b[0m\n\u001b[1;32m----> 1\u001b[0m \u001b[43mlinearReg\u001b[49m[:, \u001b[38;5;241m1\u001b[39m]\n",
      "\u001b[1;31mNameError\u001b[0m: name 'linearReg' is not defined"
     ]
    }
   ],
   "source": [
    "linearReg[:, 1]"
   ]
  },
  {
   "cell_type": "code",
   "execution_count": null,
   "id": "96a8f553",
   "metadata": {},
   "outputs": [],
   "source": [
    "import cv2\n",
    "import mediapipe as mp\n",
    "mp_hands = mp.solutions.hands\n",
    "mp_drawing = mp.solutions.drawing_utils\n",
    "mp_drawing_styles = mp.solutions.drawing_styles"
   ]
  },
  {
   "cell_type": "code",
   "execution_count": null,
   "id": "cfba4ec4",
   "metadata": {},
   "outputs": [],
   "source": [
    "cap = cv2.VideoCapture(0)\n",
    "position=np.zeros((1,21,2))\n",
    "with mp_hands.Hands(\n",
    "    model_complexity=0,\n",
    "    min_detection_confidence=0.5,\n",
    "    min_tracking_confidence=0.5) as hands:\n",
    "  while cap.isOpened():\n",
    "    success, image = cap.read()\n",
    "    if not success:\n",
    "      print(\"Ignoring empty camera frame.\")\n",
    "      # If loading a video, use 'break' instead of 'continue'.\n",
    "      continue\n",
    "\n",
    "    # To improve performance, optionally mark the image as not writeable to\n",
    "    # pass by reference.\n",
    "    image.flags.writeable = False\n",
    "    image = cv2.cvtColor(image, cv2.COLOR_BGR2RGB)\n",
    "    image_height, image_width, _ = image.shape\n",
    "    results = hands.process(image)\n",
    "\n",
    "    # Draw the hand annotations on the image.\n",
    "    image.flags.writeable = True\n",
    "    image = cv2.cvtColor(image, cv2.COLOR_RGB2BGR)\n",
    "    annotated_image = image.copy()\n",
    "    x=[]\n",
    "    y=[]\n",
    "    \n",
    "    if results.multi_hand_landmarks:  \n",
    "        for hand_landmarks in results.multi_hand_landmarks:\n",
    "            mp_drawing.draw_landmarks(\n",
    "                image,\n",
    "                hand_landmarks,\n",
    "                mp_hands.HAND_CONNECTIONS,\n",
    "                mp_drawing_styles.get_default_hand_landmarks_style(),\n",
    "                mp_drawing_styles.get_default_hand_connections_style())\n",
    "\n",
    "            box2=[]\n",
    "            for point in mp_hands.HandLandmark:\n",
    "                #상대좌표 (0~1)\n",
    "                normalizedLandmark = hand_landmarks.landmark[point]\n",
    "                box2.append((int(normalizedLandmark.x*image_width), int(normalizedLandmark.y*image_height)))\n",
    "                x.append(normalizedLandmark.x)\n",
    "                y.append(normalizedLandmark.y)\n",
    "            #frame_array=np.vstack((x,y)).reshape(1,21,2)\n",
    "            #position=np.vstack((position,frame_array))\n",
    "            #data1 = pd.DataFrame(x[3],x)\n",
    "            cv2.line(annotated_image, box2[3], box2[6], (0,0,255), 5)\n",
    "    #data preprocessing\n",
    "                \n",
    "    # Flip the image horizontally for a selfie-view display.\n",
    "  # cv2.line(image, (10,10),(350,10),(0,0,255),5)\n",
    "    cv2.imshow('MediaPipe Hands', cv2.flip(annotated_image, 1))\n",
    "    if cv2.waitKey(5) & 0xFF == 27:\n",
    "      break\n",
    "cap.release()"
   ]
  },
  {
   "cell_type": "code",
   "execution_count": null,
   "id": "e2dbccc7",
   "metadata": {},
   "outputs": [],
   "source": [
    "image_files = ['C:/Users/hanah/Desktop/MBA/pytorch/image.jpg']\n",
    "with mp_hands.Hands(\n",
    "    static_image_mode=True,\n",
    "    max_num_hands=2,\n",
    "    min_detection_confidence=0.7) as hands:\n",
    "  for idx, file in enumerate(image_files):\n",
    "    #이미지를 읽어들이고, 보기 편하게 이미지 좌우 반전\n",
    "    image = cv2.flip(cv2.imread(file),1)\n",
    "    #작업 전에 BGR -> RGB 변환\n",
    "    results = hands.process(cv2.cvtColor(image,cv2.COLOR_BGR2RGB))\n",
    "    \n",
    "    # 손으로 프린트하고 이미지에 손 랜드마크를 그립니다.\n",
    "    print('Handedness:', results.multi_handedness)\n",
    "    if not results.multi_hand_landmarks:\n",
    "      continue\n",
    "    image_height, image_width, _ = image.shape\n",
    "    annotated_image = image.copy()\n",
    "    x=[]\n",
    "    y=[]\n",
    "    z=[]\n",
    "    for hand_landmarks in results.multi_hand_landmarks:\n",
    "        print('hand_landmarks:', hand_landmarks)\n",
    "        for point in results.multi_hand_landmarks[0].landmark:\n",
    "            x.append(point.x)\n",
    "            y.append(point.y)\n",
    "            z.append(point.z)\n",
    "        mp_drawing.draw_landmarks(\n",
    "            annotated_image,\n",
    "            hand_landmarks,\n",
    "            mp_hands.HAND_CONNECTIONS,\n",
    "            mp_drawing_styles.get_default_hand_landmarks_style(),\n",
    "            mp_drawing_styles.get_default_hand_connections_style())\n",
    "        frame_array = np.vstack((x,y,z))"
   ]
  },
  {
   "cell_type": "code",
   "execution_count": null,
   "id": "74cdd481",
   "metadata": {},
   "outputs": [],
   "source": [
    "fa = frame_array"
   ]
  },
  {
   "cell_type": "code",
   "execution_count": null,
   "id": "00569733",
   "metadata": {},
   "outputs": [],
   "source": [
    "ju1 = pd.DataFrame([[fa[0][3],fa[1][3],fa[2][3]]], columns=['x','y','z'])\n",
    "ju2 = pd.DataFrame([[fa[0][7],fa[1][7],fa[2][7]]], columns=['x','y','z'])\n",
    "ju3 = pd.DataFrame([[fa[0][11],fa[1][11],fa[2][11]]], columns=['x','y','z'])\n",
    "ju = pd.concat([ju1,ju2,ju3])  "
   ]
  },
  {
   "cell_type": "code",
   "execution_count": null,
   "id": "1ec67fba",
   "metadata": {
    "scrolled": true
   },
   "outputs": [],
   "source": [
    "ju"
   ]
  },
  {
   "cell_type": "code",
   "execution_count": null,
   "id": "d4466e7e",
   "metadata": {
    "scrolled": true
   },
   "outputs": [],
   "source": [
    "fig = plt.figure(figsize=(10,10))\n",
    "ax = fig.add_subplot(111, projection='3d')\n",
    "J = ju[['x', 'y', 'z']].values\n",
    "Jlen = J.shape[0]\n",
    "avgPointCloud = 1 / Jlen * np.array([np.sum(J[:, 0]), np.sum(J[:, 1]), np.sum(J[:, 2])])\n",
    "Jmean = J - avgPointCloud\n",
    "\n",
    "cov = 1 / Jlen * J.T.dot(Jmean)\n",
    "\n",
    "t = np.arange(-500, 500, 1)\n",
    "linearReg = avgPointCloud + cov[:, 0] * np.vstack(t)\n",
    "\n",
    "ax.scatter(ju['x'],ju['y'],ju['z'])\n",
    "ax.plot(linearReg[:, 0], linearReg[:, 1], linearReg[:, 2], 'r', label='Linear Regression')\n",
    "ax.legend()\n",
    "ax.view_init(90, 90)\n",
    "plt.show()"
   ]
  },
  {
   "cell_type": "code",
   "execution_count": null,
   "id": "eef5d0ad",
   "metadata": {},
   "outputs": [],
   "source": [
    "linearReg[:, 0]"
   ]
  },
  {
   "cell_type": "code",
   "execution_count": null,
   "id": "9e60ef4c",
   "metadata": {},
   "outputs": [],
   "source": [
    "linearReg[:, 1]"
   ]
  },
  {
   "cell_type": "code",
   "execution_count": null,
   "id": "13e6bacd",
   "metadata": {},
   "outputs": [],
   "source": [
    "img = cv2.imread('C:/Users/hanah/Desktop/MBA/pytorch/image.jpg')\n",
    "img = cv2.resize(img,(640,480))  "
   ]
  },
  {
   "cell_type": "code",
   "execution_count": null,
   "id": "dc50ea3a",
   "metadata": {},
   "outputs": [],
   "source": [
    "def calculate():\n",
    "    a=round(linearReg[0][0]*640)\n",
    "    b=round(linearReg[-1][0]*640)\n",
    "    c=round(linearReg[0][1]*480)\n",
    "    d=round(linearReg[-1][1]*480)\n",
    "    return (a,c), (b,d)"
   ]
  },
  {
   "cell_type": "code",
   "execution_count": null,
   "id": "30da4619",
   "metadata": {},
   "outputs": [],
   "source": [
    "cv2.line(img,calculate()[0],calculate()[1],(0,0,255))    \n",
    "cv2.imshow('Line',img)\n",
    "#cv2.waitKey()\n",
    "#cv2.destroyAllWindows()"
   ]
  },
  {
   "cell_type": "code",
   "execution_count": null,
   "id": "a12456ed",
   "metadata": {},
   "outputs": [],
   "source": []
  },
  {
   "cell_type": "code",
   "execution_count": null,
   "id": "b57c6c9b",
   "metadata": {},
   "outputs": [],
   "source": []
  }
 ],
 "metadata": {
  "kernelspec": {
   "display_name": "Python 3 (ipykernel)",
   "language": "python",
   "name": "python3"
  },
  "language_info": {
   "codemirror_mode": {
    "name": "ipython",
    "version": 3
   },
   "file_extension": ".py",
   "mimetype": "text/x-python",
   "name": "python",
   "nbconvert_exporter": "python",
   "pygments_lexer": "ipython3",
   "version": "3.7.13"
  }
 },
 "nbformat": 4,
 "nbformat_minor": 5
}
