{
 "cells": [
  {
   "cell_type": "code",
   "execution_count": 271,
   "id": "8144f43c-afef-40f6-add9-fed4e8b7d841",
   "metadata": {},
   "outputs": [
    {
     "name": "stdout",
     "output_type": "stream",
     "text": [
      "/Users/choejuhui/Desktop/jupyter/Rhythm-of-Chika-data/Datasets\n"
     ]
    }
   ],
   "source": [
    "cd/Users/choejuhui/Desktop/jupyter/Rhythm-of-Chika-data/Datasets"
   ]
  },
  {
   "cell_type": "code",
   "execution_count": 272,
   "id": "1e628e8f-c2f7-48e4-beae-9c3d916a2e76",
   "metadata": {},
   "outputs": [],
   "source": [
    "import numpy as np\n",
    "import pandas as pd\n",
    "import seaborn as sns\n",
    "import matplotlib.pyplot as plt"
   ]
  },
  {
   "cell_type": "code",
   "execution_count": 303,
   "id": "fbdcbd45-9848-43e9-98b4-813e1a66e482",
   "metadata": {},
   "outputs": [],
   "source": [
    "position = np.load('Left_DMF_p_3.npy')\n",
    "position_2 = np.load('Left_UMF_p_3.npy')"
   ]
  },
  {
   "cell_type": "code",
   "execution_count": 233,
   "id": "31002194-2829-4f85-a50f-512b60167370",
   "metadata": {},
   "outputs": [
    {
     "data": {
      "text/plain": [
       "(300, 21, 3)"
      ]
     },
     "execution_count": 233,
     "metadata": {},
     "output_type": "execute_result"
    }
   ],
   "source": [
    "position.shape #300프레임, 21개 랜드마크, xyz값"
   ]
  },
  {
   "cell_type": "code",
   "execution_count": 304,
   "id": "898834f7-e54b-4273-b560-9e7fc1246b25",
   "metadata": {},
   "outputs": [],
   "source": [
    "velocity = np.zeros((1,21,3))\n",
    "acceleration = np.zeros((1,21,3))\n",
    "\n",
    "for i in range(len(position)-1):\n",
    "    current_velocity = position[i+1] - position[i]\n",
    "    velocity = np.vstack((velocity, current_velocity.reshape(1,21,3)))\n",
    "\n",
    "velocity = velocity[1:]\n",
    "\n",
    "for i in range(len(velocity)-1):\n",
    "    current_acceleration = velocity[i+1] - velocity[i]\n",
    "    acceleration = np.vstack((acceleration, current_acceleration.reshape(1,21,3)))\n",
    "\n",
    "acceleration = acceleration[1:]"
   ]
  },
  {
   "cell_type": "code",
   "execution_count": 305,
   "id": "56e033bc-130a-4906-8839-ff4ff64f17d4",
   "metadata": {},
   "outputs": [],
   "source": [
    "velocity = np.zeros((1,21,3))\n",
    "acceleration_2 = np.zeros((1,21,3))\n",
    "\n",
    "for i in range(len(position_2)-1):\n",
    "    current_velocity = position_2[i+1] - position_2[i]\n",
    "    velocity = np.vstack((velocity, current_velocity.reshape(1,21,3)))\n",
    "\n",
    "velocity = velocity[1:]\n",
    "\n",
    "for i in range(len(velocity)-1):\n",
    "    current_acceleration = velocity[i+1] - velocity[i]\n",
    "    acceleration_2 = np.vstack((acceleration_2, current_acceleration.reshape(1,21,3)))\n",
    "\n",
    "acceleration_2 = acceleration_2[1:]"
   ]
  },
  {
   "cell_type": "markdown",
   "id": "36b19732-7673-4812-a7da-5c539877e8a6",
   "metadata": {},
   "source": [
    "## 이상치 제거 1안"
   ]
  },
  {
   "cell_type": "code",
   "execution_count": 306,
   "id": "7a52f48b-b099-4c53-9a32-44992e4c8d6c",
   "metadata": {},
   "outputs": [],
   "source": [
    "#dataframe\n",
    "d1 = pd.DataFrame(acceleration[:,4,:], columns=['x','y','z']) #4번 랜드마크 DMF\n",
    "d2 = pd.DataFrame(acceleration[:,8,:], columns=['x','y','z']) #8번 랜드마크\n",
    "d3 = pd.DataFrame(acceleration[:,13,:], columns=['x','y','z']) #13번 랜드마크\n",
    "d1_2 = pd.DataFrame(acceleration_2[:,4,:], columns=['x','y','z']) #4번 랜드마크 UMF\n",
    "\n",
    "d1.plot()\n",
    "d2.plot()\n",
    "d3.plot()\n"
   ]
  },
  {
   "cell_type": "code",
   "execution_count": 309,
   "id": "9defe3c7-8a93-49f2-86e6-d6dc6e0c5c18",
   "metadata": {},
   "outputs": [
    {
     "data": {
      "text/html": [
       "<div>\n",
       "<style scoped>\n",
       "    .dataframe tbody tr th:only-of-type {\n",
       "        vertical-align: middle;\n",
       "    }\n",
       "\n",
       "    .dataframe tbody tr th {\n",
       "        vertical-align: top;\n",
       "    }\n",
       "\n",
       "    .dataframe thead th {\n",
       "        text-align: right;\n",
       "    }\n",
       "</style>\n",
       "<table border=\"1\" class=\"dataframe\">\n",
       "  <thead>\n",
       "    <tr style=\"text-align: right;\">\n",
       "      <th></th>\n",
       "      <th>x</th>\n",
       "      <th>y</th>\n",
       "      <th>z</th>\n",
       "    </tr>\n",
       "  </thead>\n",
       "  <tbody>\n",
       "    <tr>\n",
       "      <th>count</th>\n",
       "      <td>298.000000</td>\n",
       "      <td>298.000000</td>\n",
       "      <td>298.000000</td>\n",
       "    </tr>\n",
       "    <tr>\n",
       "      <th>mean</th>\n",
       "      <td>0.000004</td>\n",
       "      <td>-0.000007</td>\n",
       "      <td>-0.000014</td>\n",
       "    </tr>\n",
       "    <tr>\n",
       "      <th>std</th>\n",
       "      <td>0.004475</td>\n",
       "      <td>0.004343</td>\n",
       "      <td>0.003590</td>\n",
       "    </tr>\n",
       "    <tr>\n",
       "      <th>min</th>\n",
       "      <td>-0.014186</td>\n",
       "      <td>-0.013934</td>\n",
       "      <td>-0.013586</td>\n",
       "    </tr>\n",
       "    <tr>\n",
       "      <th>25%</th>\n",
       "      <td>-0.002557</td>\n",
       "      <td>-0.002580</td>\n",
       "      <td>-0.002037</td>\n",
       "    </tr>\n",
       "    <tr>\n",
       "      <th>50%</th>\n",
       "      <td>0.000067</td>\n",
       "      <td>0.000385</td>\n",
       "      <td>0.000221</td>\n",
       "    </tr>\n",
       "    <tr>\n",
       "      <th>75%</th>\n",
       "      <td>0.002748</td>\n",
       "      <td>0.003000</td>\n",
       "      <td>0.002426</td>\n",
       "    </tr>\n",
       "    <tr>\n",
       "      <th>max</th>\n",
       "      <td>0.017376</td>\n",
       "      <td>0.010031</td>\n",
       "      <td>0.008361</td>\n",
       "    </tr>\n",
       "  </tbody>\n",
       "</table>\n",
       "</div>"
      ],
      "text/plain": [
       "                x           y           z\n",
       "count  298.000000  298.000000  298.000000\n",
       "mean     0.000004   -0.000007   -0.000014\n",
       "std      0.004475    0.004343    0.003590\n",
       "min     -0.014186   -0.013934   -0.013586\n",
       "25%     -0.002557   -0.002580   -0.002037\n",
       "50%      0.000067    0.000385    0.000221\n",
       "75%      0.002748    0.003000    0.002426\n",
       "max      0.017376    0.010031    0.008361"
      ]
     },
     "execution_count": 309,
     "metadata": {},
     "output_type": "execute_result"
    }
   ],
   "source": [
    "d1.describe() #아래 가운데 앞면"
   ]
  },
  {
   "cell_type": "code",
   "execution_count": 310,
   "id": "a94cbc4c-9137-4918-8de7-08b9a39fc711",
   "metadata": {},
   "outputs": [
    {
     "data": {
      "text/html": [
       "<div>\n",
       "<style scoped>\n",
       "    .dataframe tbody tr th:only-of-type {\n",
       "        vertical-align: middle;\n",
       "    }\n",
       "\n",
       "    .dataframe tbody tr th {\n",
       "        vertical-align: top;\n",
       "    }\n",
       "\n",
       "    .dataframe thead th {\n",
       "        text-align: right;\n",
       "    }\n",
       "</style>\n",
       "<table border=\"1\" class=\"dataframe\">\n",
       "  <thead>\n",
       "    <tr style=\"text-align: right;\">\n",
       "      <th></th>\n",
       "      <th>x</th>\n",
       "      <th>y</th>\n",
       "      <th>z</th>\n",
       "    </tr>\n",
       "  </thead>\n",
       "  <tbody>\n",
       "    <tr>\n",
       "      <th>count</th>\n",
       "      <td>298.000000</td>\n",
       "      <td>298.000000</td>\n",
       "      <td>298.000000</td>\n",
       "    </tr>\n",
       "    <tr>\n",
       "      <th>mean</th>\n",
       "      <td>-0.000012</td>\n",
       "      <td>-0.000012</td>\n",
       "      <td>-0.000008</td>\n",
       "    </tr>\n",
       "    <tr>\n",
       "      <th>std</th>\n",
       "      <td>0.003824</td>\n",
       "      <td>0.004183</td>\n",
       "      <td>0.003031</td>\n",
       "    </tr>\n",
       "    <tr>\n",
       "      <th>min</th>\n",
       "      <td>-0.010234</td>\n",
       "      <td>-0.014206</td>\n",
       "      <td>-0.007032</td>\n",
       "    </tr>\n",
       "    <tr>\n",
       "      <th>25%</th>\n",
       "      <td>-0.002250</td>\n",
       "      <td>-0.002279</td>\n",
       "      <td>-0.002014</td>\n",
       "    </tr>\n",
       "    <tr>\n",
       "      <th>50%</th>\n",
       "      <td>-0.000062</td>\n",
       "      <td>-0.000457</td>\n",
       "      <td>-0.000118</td>\n",
       "    </tr>\n",
       "    <tr>\n",
       "      <th>75%</th>\n",
       "      <td>0.002460</td>\n",
       "      <td>0.001833</td>\n",
       "      <td>0.002071</td>\n",
       "    </tr>\n",
       "    <tr>\n",
       "      <th>max</th>\n",
       "      <td>0.011971</td>\n",
       "      <td>0.018790</td>\n",
       "      <td>0.008236</td>\n",
       "    </tr>\n",
       "  </tbody>\n",
       "</table>\n",
       "</div>"
      ],
      "text/plain": [
       "                x           y           z\n",
       "count  298.000000  298.000000  298.000000\n",
       "mean    -0.000012   -0.000012   -0.000008\n",
       "std      0.003824    0.004183    0.003031\n",
       "min     -0.010234   -0.014206   -0.007032\n",
       "25%     -0.002250   -0.002279   -0.002014\n",
       "50%     -0.000062   -0.000457   -0.000118\n",
       "75%      0.002460    0.001833    0.002071\n",
       "max      0.011971    0.018790    0.008236"
      ]
     },
     "execution_count": 310,
     "metadata": {},
     "output_type": "execute_result"
    }
   ],
   "source": [
    "d1_2.describe() #위 가운데 앞면"
   ]
  },
  {
   "cell_type": "code",
   "execution_count": 291,
   "id": "7c9689a9-cdaa-4eb6-839b-e6ec5b4c63ca",
   "metadata": {},
   "outputs": [],
   "source": [
    "#이상치 제거\n",
    "idx_list=[]\n",
    "axis = ['x','y','z']\n",
    "for i in axis:\n",
    "    q3=d1['%s' % (i)].quantile(0.75)\n",
    "    q1=d1['%s' % (i)].quantile(0.25)\n",
    "    iqr=q3-q1\n",
    "    outlier_top=q3+1.5*iqr\n",
    "    outlier_bottom=q1-1.5*iqr\n",
    "\n",
    "    idx=d1[(d1['%s' % (i)]<outlier_bottom) | (d1['%s' % (i)]>outlier_top)].index\n",
    "    for i in idx:\n",
    "        idx_list.append(str(i))\n",
    "    idx_list.append('end')\n",
    "    #d1=d1.drop(idx)"
   ]
  },
  {
   "cell_type": "code",
   "execution_count": 292,
   "id": "7efb72a9-3bcb-4ef6-8884-2be9d577848c",
   "metadata": {},
   "outputs": [],
   "source": [
    "idx_string = ' '.join(idx_list)\n",
    "idx_string_split = idx_string.split('end')\n",
    "x_outlier_str = idx_string_split[0].strip()\n",
    "y_outlier_str = idx_string_split[1].strip()\n",
    "z_outlier_str = idx_string_split[2].strip()\n",
    "\n",
    "\n",
    "z_outlier_str.split(' ')[:-1]\n",
    "\n",
    "#np.where 안에 넣을 인덱스(int)\n",
    "x_outlier = list(map(int, x_outlier_str.split(' ')[:-1]))\n",
    "y_outlier = list(map(int, y_outlier_str.split(' ')[:-1]))\n",
    "z_outlier = list(map(int, z_outlier_str.split(' ')[:-1]))"
   ]
  },
  {
   "cell_type": "code",
   "execution_count": 293,
   "id": "41900883-29f4-419c-af6b-f12691970fc2",
   "metadata": {},
   "outputs": [
    {
     "data": {
      "text/plain": [
       "[28, 36, 68, 69, 188, 224, 244, 251, 252, 258, 260]"
      ]
     },
     "execution_count": 293,
     "metadata": {},
     "output_type": "execute_result"
    }
   ],
   "source": [
    "x_outlier"
   ]
  },
  {
   "cell_type": "markdown",
   "id": "d17905ea-1a24-4791-98d9-5c81f231605d",
   "metadata": {},
   "source": [
    "## 이상치 제거 2안"
   ]
  },
  {
   "cell_type": "code",
   "execution_count": 294,
   "id": "670c6bef-bb25-4c64-9a48-9e509b326c46",
   "metadata": {},
   "outputs": [],
   "source": [
    "#numpy\n",
    "d4 = acceleration[:,4,:]\n",
    "d5 = acceleration[:,8,:]\n",
    "d6 = acceleration[:,13,:]"
   ]
  },
  {
   "cell_type": "code",
   "execution_count": 295,
   "id": "532d8e0a-9433-4d9b-878a-e9f3517d1ae6",
   "metadata": {},
   "outputs": [
    {
     "data": {
      "text/plain": [
       "0.006337940692901611"
      ]
     },
     "execution_count": 295,
     "metadata": {},
     "output_type": "execute_result"
    }
   ],
   "source": [
    "d4[39][0]"
   ]
  },
  {
   "cell_type": "code",
   "execution_count": 296,
   "id": "ab4d6611-5e17-467d-84a4-02c7bd636d7a",
   "metadata": {},
   "outputs": [],
   "source": [
    "#이상치 보정\n",
    "for i in range(len(d4)-1):\n",
    "    if i in x_outlier:\n",
    "        d4[i][0] = (d4[i-1][0] + d4[i+1][0])/2 \n",
    "    if i in y_outlier:\n",
    "        d4[i][1] = (d4[i-1][1] + d4[i+1][1])/2 \n",
    "    if i in z_outlier:\n",
    "        d4[i][2] = (d4[i-1][2] + d4[i+1][2])/2 \n",
    "        \n",
    "for i in range(len(d5)-1):\n",
    "    if i in x_outlier:\n",
    "        d5[i][0] = (d5[i-1][0] + d5[i+1][0])/2 \n",
    "    if i in y_outlier:\n",
    "        d5[i][1] = (d5[i-1][1] + d5[i+1][1])/2 \n",
    "    if i in z_outlier:\n",
    "        d5[i][2] = (d5[i-1][2] + d5[i+1][2])/2 \n",
    "        \n",
    "for i in range(len(d6)-1):\n",
    "    if i in x_outlier:\n",
    "        d6[i][0] = (d6[i-1][0] + d6[i+1][0])/2 \n",
    "    if i in y_outlier:\n",
    "        d6[i][1] = (d6[i-1][1] + d6[i+1][1])/2 \n",
    "    if i in z_outlier:\n",
    "        d6[i][2] = (d6[i-1][2] + d6[i+1][2])/2 "
   ]
  },
  {
   "cell_type": "code",
   "execution_count": 283,
   "id": "be30307c-7b88-42db-a1c6-dc3e293f1827",
   "metadata": {},
   "outputs": [
    {
     "data": {
      "text/plain": [
       "(0.0014780163764953613, 0.0032573938369750977, 0.005036771297454834)"
      ]
     },
     "execution_count": 283,
     "metadata": {},
     "output_type": "execute_result"
    }
   ],
   "source": [
    "d4[38][0], d4[39][0], d4[40][0]"
   ]
  },
  {
   "cell_type": "code",
   "execution_count": 246,
   "id": "4ff5a5c8-0043-4674-937c-f35bfc689e70",
   "metadata": {},
   "outputs": [
    {
     "data": {
      "text/plain": [
       "(0.0014780163764953613, -0.02270185947418213, 0.005036771297454834)"
      ]
     },
     "execution_count": 246,
     "metadata": {},
     "output_type": "execute_result"
    }
   ],
   "source": [
    "d4[38][0], d4[39][0], d4[40][0]"
   ]
  },
  {
   "cell_type": "code",
   "execution_count": null,
   "id": "2f57b550-4622-4a57-acff-eb1197102bcb",
   "metadata": {},
   "outputs": [],
   "source": []
  }
 ],
 "metadata": {
  "kernelspec": {
   "display_name": "Python 3 (ipykernel)",
   "language": "python",
   "name": "python3"
  },
  "language_info": {
   "codemirror_mode": {
    "name": "ipython",
    "version": 3
   },
   "file_extension": ".py",
   "mimetype": "text/x-python",
   "name": "python",
   "nbconvert_exporter": "python",
   "pygments_lexer": "ipython3",
   "version": "3.9.7"
  }
 },
 "nbformat": 4,
 "nbformat_minor": 5
}
