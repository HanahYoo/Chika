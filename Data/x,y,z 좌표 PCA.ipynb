{
 "cells": [
  {
   "cell_type": "code",
   "execution_count": 8,
   "id": "96769631",
   "metadata": {},
   "outputs": [],
   "source": [
    "import numpy as np\n",
    "import pandas as pd\n",
    "from sklearn.decomposition import PCA\n",
    "from sklearn.preprocessing import StandardScaler\n",
    "from sklearn.linear_model import LinearRegression\n",
    "pca = PCA(n_components=2)"
   ]
  },
  {
   "cell_type": "code",
   "execution_count": 9,
   "id": "f256a74a",
   "metadata": {},
   "outputs": [],
   "source": [
    "gesture_list = ['URF','UMF','ULF','DLF','DMF','DRF','URB','UMB','ULB','DLB','DMB','DRB','URO','ULO','DLO','DRO']"
   ]
  },
  {
   "cell_type": "code",
   "execution_count": 10,
   "id": "28aae0f0",
   "metadata": {},
   "outputs": [],
   "source": [
    "coef = []\n",
    "final = []\n",
    "for name in gesture_list:\n",
    "    df = np.load('C:/Users/82102/Datasets/session3/Right_%s_p_1.npy' %(name))\n",
    "    for i in range(100,300):\n",
    "        chi=pd.DataFrame(df[i], columns=['x','y','z'])\n",
    "        chi = chi[:14]\n",
    "        x = chi.values \n",
    "        x = StandardScaler().fit_transform(x)\n",
    "        printcipalComponents = pca.fit_transform(x)\n",
    "        printcipalComponents = pca.fit_transform(x)\n",
    "        pdf = pd.DataFrame(data=printcipalComponents, columns = ['principal component1', 'principal component2'])\n",
    "        pdf = pdf.loc[[4, 8, 13]]\n",
    "        X = pdf['principal component1']\n",
    "        Y = pdf['principal component2']\n",
    "        line_fitter=LinearRegression()\n",
    "        line_fitter.fit(X.values.reshape(-1,1),Y)\n",
    "        coef.append(line_fitter.coef_)\n",
    "    coef_mean=pd.DataFrame(coef,columns=['mean'])\n",
    "    final.append(coef_mean['mean'].mean())    "
   ]
  },
  {
   "cell_type": "code",
   "execution_count": null,
   "id": "215b2855",
   "metadata": {},
   "outputs": [],
   "source": []
  }
 ],
 "metadata": {
  "kernelspec": {
   "display_name": "Python 3 (ipykernel)",
   "language": "python",
   "name": "python3"
  },
  "language_info": {
   "codemirror_mode": {
    "name": "ipython",
    "version": 3
   },
   "file_extension": ".py",
   "mimetype": "text/x-python",
   "name": "python",
   "nbconvert_exporter": "python",
   "pygments_lexer": "ipython3",
   "version": "3.9.12"
  }
 },
 "nbformat": 4,
 "nbformat_minor": 5
}
