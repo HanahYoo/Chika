{
 "cells": [
  {
   "cell_type": "code",
   "execution_count": 1,
   "id": "9029f06b",
   "metadata": {},
   "outputs": [],
   "source": [
    "import torch\n",
    "from torch.utils.data import Dataset, DataLoader, random_split\n",
    "import pandas as pd\n",
    "import numpy as np\n",
    "import torch.nn as nn\n",
    "import os\n",
    "import matplotlib.pyplot as plt\n",
    "from sklearn.preprocessing import StandardScaler\n"
   ]
  },
  {
   "cell_type": "code",
   "execution_count": 2,
   "id": "12dae837",
   "metadata": {},
   "outputs": [
    {
     "name": "stdout",
     "output_type": "stream",
     "text": [
      "C:\\Users\\82102\\Desktop\\Datasets(Right) 최종-20220824T025446Z-001\\Datasets(Right) 최종\n"
     ]
    }
   ],
   "source": [
    "cd C:/Users/82102/Desktop/Datasets(Right) 최종-20220824T025446Z-001/Datasets(Right) 최종"
   ]
  },
  {
   "cell_type": "code",
   "execution_count": 3,
   "id": "5765005c",
   "metadata": {},
   "outputs": [],
   "source": [
    "def distance(x1, y1, x2, y2):\n",
    "    m = (y2-y1) / (x2-x1)\n",
    "    return m"
   ]
  },
  {
   "cell_type": "code",
   "execution_count": 4,
   "id": "76992aab",
   "metadata": {},
   "outputs": [],
   "source": [
    "def Coefficient(df): \n",
    "    coef = []\n",
    "    for i in range(49, 351):\n",
    "        frame1 = df[i][gradlab1][0:2]\n",
    "        frame2 = df[i][gradlab2][0:2]\n",
    "        coef.append(distance(frame1[0], frame1[1], frame2[0], frame2[1]))\n",
    "    coef = pd.DataFrame(coef, columns= ['coef'])\n",
    "    \n",
    "    q3=coef['coef'].quantile(0.75)\n",
    "    q1=coef['coef'].quantile(0.25)\n",
    "    iqr=q3-q1\n",
    "    outlier_top=q3+1.5*iqr\n",
    "    outlier_bottom=q1-1.5*iqr\n",
    "    idx=coef[(coef['coef']<outlier_bottom) | (coef['coef']>outlier_top)].index\n",
    "    \n",
    "    idx_list=[]\n",
    "    for i in idx:\n",
    "        idx_list.append(str(i))\n",
    "    idx_list.append('end')\n",
    "\n",
    "    idx_string = ' '.join(idx_list)\n",
    "    idx_string_split = idx_string.split('end')\n",
    "    outlier_str = idx_string_split[0].strip()\n",
    "    outlier = list(map(int, outlier_str.split(' ')[:-1]))\n",
    "\n",
    "    for i in range(len(coef)-1):\n",
    "        if i in outlier:\n",
    "            if i == 0:\n",
    "                continue\n",
    "            elif i != (len(coef)-1):\n",
    "                coef['coef'][i] = (coef['coef'][i-1] + coef['coef'][i+1])/2\n",
    "            else:\n",
    "                break\n",
    "                \n",
    "    coef = np.array(coef)[1:301]\n",
    "    \n",
    "    return coef\n"
   ]
  },
  {
   "cell_type": "code",
   "execution_count": 5,
   "id": "64139fea",
   "metadata": {},
   "outputs": [],
   "source": [
    "def Acceleration(pos_1, array_1, acclab):\n",
    "    df = pd.DataFrame(array_1[:,acclab,:], columns=['x','y','z'])\n",
    "    idx_list=[]\n",
    "    for i in ['x','y','z']:\n",
    "        q3=df[i].quantile(0.75)\n",
    "        q1=df[i].quantile(0.25)\n",
    "        iqr=q3-q1\n",
    "        outlier_top=q3+1.5*iqr\n",
    "        outlier_bottom=q1-1.5*iqr\n",
    "\n",
    "        idx=df[(df[i]<outlier_bottom) | (df[i]>outlier_top)].index\n",
    "        for i in idx:\n",
    "            idx_list.append(str(i))\n",
    "        idx_list.append('end')\n",
    "    \n",
    "    idx_string = ' '.join(idx_list)\n",
    "    idx_string_split = idx_string.split('end')\n",
    "    x_outlier_str = idx_string_split[0].strip()\n",
    "    y_outlier_str = idx_string_split[1].strip()\n",
    "    x_outlier = list(map(int, x_outlier_str.split(' ')[:-1]))\n",
    "    y_outlier = list(map(int, y_outlier_str.split(' ')[:-1]))\n",
    "    \n",
    "    acc_1_parsed = array_1[:,acclab,:]\n",
    "    for i in range(len(pos_1)-1):\n",
    "        if i in x_outlier:\n",
    "            acc_1_parsed[i][0] = (acc_1_parsed[i-1][0] + acc_1_parsed[i+1][0])/2 \n",
    "        if i in y_outlier:\n",
    "            acc_1_parsed[i][1] = (acc_1_parsed[i-1][1] + acc_1_parsed[i+1][1])/2 \n",
    "       \n",
    "    final_df = pd.DataFrame(acc_1_parsed, columns = ['x','y','z'])\n",
    "    acc_array = StandardScaler().fit_transform(final_df)\n",
    "    acc_array = acc_array[49:349,:]\n",
    "    \n",
    "    return acc_array[:,:2] "
   ]
  },
  {
   "cell_type": "code",
   "execution_count": 6,
   "id": "fc0ef2d6",
   "metadata": {},
   "outputs": [],
   "source": [
    "def preprocessing(gesture,num_session):\n",
    "    data2 = np.zeros((1,300,6))\n",
    "    for i in range(1, num_session+1):\n",
    "        data = np.zeros((300,1))\n",
    "        pos = np.load('%s_%s_p_%d.npy' % (hand, gesture, i))\n",
    "        acc = np.load('%s_%s_a_%d.npy' % (hand, gesture, i))\n",
    "        acc1 = Acceleration(pos, acc, acclab1)\n",
    "        acc2 = Acceleration(pos, acc, acclab2)\n",
    "        coef = Coefficient(pos)\n",
    "        if gesture == right_gesture:\n",
    "            label = np.ones((300,1))\n",
    "        else:\n",
    "            label = np.zeros((300,1))\n",
    "        data = np.hstack((data,acc1,acc2,coef,label))\n",
    "        data = data[:, 1:].reshape((1,300,6))\n",
    "        data2 = np.vstack((data2,data))\n",
    "        \n",
    "    return data2"
   ]
  },
  {
   "cell_type": "code",
   "execution_count": 7,
   "id": "6dbd941b",
   "metadata": {},
   "outputs": [],
   "source": [
    "num_session = 21\n",
    "gesture_list = ['URF','UMF','ULF','DLF','DMF','DRF','URB','UMB','ULB','DLB','DMB','DRB','URO','ULO','DLO','DRO']\n",
    "right_gesture = gesture_list[0]\n",
    "hand = 'Right'\n",
    "\n",
    "acclab1 = 8\n",
    "acclab2 = 12\n",
    "gradlab1 = 8\n",
    "gradlab2 = 12"
   ]
  },
  {
   "cell_type": "code",
   "execution_count": null,
   "id": "21a4bd09",
   "metadata": {},
   "outputs": [],
   "source": [
    "data = np.vstack((target_data[1:], error_data[1:]))\n",
    "data.shape"
   ]
  },
  {
   "cell_type": "code",
   "execution_count": null,
   "id": "48794343",
   "metadata": {},
   "outputs": [],
   "source": [
    "np.save('data_URF_DLB.npy', data)"
   ]
  },
  {
   "cell_type": "code",
   "execution_count": null,
   "id": "0feccf40",
   "metadata": {},
   "outputs": [],
   "source": [
    "gesture_list "
   ]
  },
  {
   "cell_type": "code",
   "execution_count": 21,
   "id": "0cd7eae1",
   "metadata": {},
   "outputs": [],
   "source": [
    "error_data = np.empty((1,300,6))\n",
    "gesture_list = ['URF','UMF','ULF','DLF','DMF','DRF','URB','UMB','ULB','DLB','DMB','DRB','URO','ULO','DLO','DRO']\n",
    "target_data = preprocessing(gesture_list[0],25)\n",
    "gesture_list.pop(0)\n",
    "for j in range(15):\n",
    "    error_data = np.vstack((error_data,preprocessing(gesture_list[j],1)[1:]))"
   ]
  },
  {
   "cell_type": "code",
   "execution_count": 22,
   "id": "e500ff28",
   "metadata": {},
   "outputs": [
    {
     "data": {
      "text/plain": [
       "((26, 300, 6), (16, 300, 6))"
      ]
     },
     "execution_count": 22,
     "metadata": {},
     "output_type": "execute_result"
    }
   ],
   "source": [
    "target_data.shape, error_data.shape"
   ]
  },
  {
   "cell_type": "code",
   "execution_count": 25,
   "id": "c468d095",
   "metadata": {},
   "outputs": [
    {
     "data": {
      "text/plain": [
       "array([[[-0.2803368 ,  0.02026211,  0.87871036,  1.26208221,\n",
       "          6.01742496,  0.        ],\n",
       "        [-0.74370233, -0.70692696,  0.92014241,  0.29219323,\n",
       "          7.15660883,  0.        ],\n",
       "        [ 0.66182169,  0.77048402,  0.24068244,  0.51286197,\n",
       "          4.33856799,  0.        ],\n",
       "        ...,\n",
       "        [ 1.13963415,  0.79638294,  0.34046096,  0.14146042,\n",
       "          3.56285254,  0.        ],\n",
       "        [-0.6116564 , -0.74727352, -0.94227983, -0.38867595,\n",
       "          4.00234801,  0.        ],\n",
       "        [-1.62595564, -1.00478409, -0.62659917, -0.85916246,\n",
       "          5.00715596,  0.        ]],\n",
       "\n",
       "       [[ 2.34758992,  2.254597  ,  0.69870308,  0.09413947,\n",
       "          3.59444015,  0.        ],\n",
       "        [-1.40562749, -1.57125402, -0.85284586,  0.2117603 ,\n",
       "          3.62727783,  0.        ],\n",
       "        [ 0.39701684,  0.3147265 ,  1.69117772, -0.08931622,\n",
       "          3.60416548,  0.        ],\n",
       "        ...,\n",
       "        [-0.26470746,  1.17301308, -1.66577155, -0.86418833,\n",
       "          2.38172137,  0.        ],\n",
       "        [-0.89079896, -1.80874316, -1.13981326, -0.8663213 ,\n",
       "          2.1772672 ,  0.        ],\n",
       "        [-0.09693824, -0.88389767, -0.2764991 , -0.12300275,\n",
       "          2.28529176,  0.        ]],\n",
       "\n",
       "       [[-1.10021557, -1.31312604, -0.54367871, -0.47913245,\n",
       "          1.50624745,  0.        ],\n",
       "        [ 1.72937334,  1.82816978,  0.39228857,  0.11977279,\n",
       "          1.50746618,  0.        ],\n",
       "        [-0.93887653, -1.35073324,  1.53817495,  0.93512558,\n",
       "          1.50670866,  0.        ],\n",
       "        ...,\n",
       "        [ 0.39763849,  0.82276946,  1.13332594,  0.02915836,\n",
       "          1.66601154,  0.        ],\n",
       "        [ 0.70111639,  0.40369266,  0.93610618,  2.08064449,\n",
       "          1.57387319,  0.        ],\n",
       "        [ 1.0045943 , -0.01538415, -0.15338664, -1.74227615,\n",
       "          1.50423417,  0.        ]],\n",
       "\n",
       "       ...,\n",
       "\n",
       "       [[ 2.02071157,  2.34969433,  0.41741017, -0.57382313,\n",
       "          9.16227034,  0.        ],\n",
       "        [-2.55123723,  1.30024563,  0.65673746,  0.32588692,\n",
       "          9.15918521,  0.        ],\n",
       "        [ 0.03669732,  0.25079692, -1.25617057, -0.17118208,\n",
       "          9.15610008,  0.        ],\n",
       "        ...,\n",
       "        [-0.27323067, -0.53289012, -0.72578947,  0.59996763,\n",
       "          6.57268619,  0.        ],\n",
       "        [ 0.7652645 ,  1.15370936,  0.62275553,  0.06193974,\n",
       "          5.10387772,  0.        ],\n",
       "        [ 0.2817719 , -0.28162083, -1.36095977, -0.29651628,\n",
       "          4.14836355,  0.        ]],\n",
       "\n",
       "       [[ 2.40349083,  0.66628535,  0.49499674,  0.97479102,\n",
       "          2.15340441,  0.        ],\n",
       "        [ 0.5205137 , -1.45069976, -0.01595776, -0.67884555,\n",
       "          2.0804961 ,  0.        ],\n",
       "        [-1.36246343,  0.21744499, -1.67916191, -2.12687287,\n",
       "          2.00758778,  0.        ],\n",
       "        ...,\n",
       "        [-1.09877086, -0.4913343 , -2.22605823, -1.79916508,\n",
       "          1.04532531,  0.        ],\n",
       "        [-0.42191734, -0.25261138, -0.29584708, -0.41552792,\n",
       "          1.09310074,  0.        ],\n",
       "        [ 0.2604282 ,  0.61115046, -0.46944493, -0.45165731,\n",
       "          1.11749021,  0.        ]],\n",
       "\n",
       "       [[ 0.023394  , -0.17594799,  0.01138889,  0.37905873,\n",
       "          0.53597732,  0.        ],\n",
       "        [ 0.40634226,  0.52241512,  0.64025132,  0.54870485,\n",
       "          0.53480787,  0.        ],\n",
       "        [-1.39791254, -2.18609898, -1.13593869, -1.01648871,\n",
       "          0.51094061,  0.        ],\n",
       "        ...,\n",
       "        [-1.32670707,  0.89375377,  1.58213896,  2.27401593,\n",
       "          0.68436408,  0.        ],\n",
       "        [-0.82616149,  0.01559209,  0.62097016,  0.62507054,\n",
       "          0.71967101,  0.        ],\n",
       "        [-0.32561591, -0.86256959, -0.36220608, -0.83792055,\n",
       "          0.5693155 ,  0.        ]]])"
      ]
     },
     "execution_count": 25,
     "metadata": {},
     "output_type": "execute_result"
    }
   ],
   "source": [
    "error_data[1:]"
   ]
  },
  {
   "cell_type": "code",
   "execution_count": 26,
   "id": "b344d811",
   "metadata": {},
   "outputs": [
    {
     "data": {
      "text/plain": [
       "array([[[-9.00372812e-01, -4.19423456e-01,  9.44906915e-01,\n",
       "          7.99437642e-01, -1.57831751e+01,  1.00000000e+00],\n",
       "        [-3.32484235e-01, -8.64761249e-02,  1.05114560e+00,\n",
       "          1.17093223e+00, -6.84319743e+00,  1.00000000e+00],\n",
       "        [ 1.27287226e+00,  1.46969375e+00,  1.18887804e-01,\n",
       "          1.01647564e-02,  2.09678023e+00,  1.00000000e+00],\n",
       "        ...,\n",
       "        [-2.09570158e+00,  1.27662747e+00, -2.22521911e+00,\n",
       "         -1.95951852e+00,  1.57005377e+00,  1.00000000e+00],\n",
       "        [ 8.49257608e-02,  1.10908138e+00,  2.41333253e+00,\n",
       "         -1.80648271e+00, -9.36748478e-01,  1.00000000e+00],\n",
       "        [ 1.97634944e-01,  9.41535286e-01, -1.67184151e+00,\n",
       "         -1.65344691e+00,  1.72804132e+00,  1.00000000e+00]],\n",
       "\n",
       "       [[ 2.16896375e-01,  2.10021455e+00, -1.50500668e+00,\n",
       "         -1.64138991e+00,  2.61205505e+00,  1.00000000e+00],\n",
       "        [ 1.20883276e-01, -2.45661133e-01, -7.03490858e-02,\n",
       "          3.82926780e-01,  1.90768866e+00,  1.00000000e+00],\n",
       "        [-1.42856921e-01, -2.76332175e-01, -1.21552857e+00,\n",
       "         -1.39083755e+00,  1.77943470e+00,  1.00000000e+00],\n",
       "        ...,\n",
       "        [-1.50387568e-01,  1.06012207e-01,  2.33498190e+00,\n",
       "          2.14466878e+00,  3.78350696e-01,  1.00000000e+00],\n",
       "        [ 3.43254103e-01, -1.96693469e-01, -1.69111152e+00,\n",
       "         -1.24131808e+00,  5.56851560e+00,  1.00000000e+00],\n",
       "        [ 8.36895775e-01, -4.99399145e-01, -5.07453480e-01,\n",
       "         -5.95189199e-01,  3.17488661e+00,  1.00000000e+00]],\n",
       "\n",
       "       [[-6.21593174e-01, -1.65271057e-01, -2.29351445e-01,\n",
       "         -8.65185313e-02,  2.46922852e-01,  1.00000000e+00],\n",
       "        [-1.06385488e-01, -2.66693665e-01,  6.95365882e-01,\n",
       "          4.27222088e-01,  2.67017756e-01,  1.00000000e+00],\n",
       "        [-7.02005401e-01, -5.91916505e-01, -1.51745330e+00,\n",
       "         -1.15809882e+00,  1.80155097e-01,  1.00000000e+00],\n",
       "        ...,\n",
       "        [ 2.84617078e-01, -1.07445479e-02, -2.08023827e-01,\n",
       "          1.92514409e-01,  1.62509750e+00,  1.00000000e+00],\n",
       "        [ 3.61426621e-01,  8.48715557e-01,  1.60243114e+00,\n",
       "          1.71725731e+00,  3.23421007e+00,  1.00000000e+00],\n",
       "        [-3.84746518e-01, -6.94004738e-01, -8.18852891e-01,\n",
       "         -1.28571938e+00,  2.34854454e+00,  1.00000000e+00]],\n",
       "\n",
       "       ...,\n",
       "\n",
       "       [[ 3.68808911e-01,  3.57179198e-01,  5.24181626e-01,\n",
       "          6.84426137e-01,  9.38382524e-01,  1.00000000e+00],\n",
       "        [-8.99236869e-01, -8.59014672e-01, -1.62871792e-01,\n",
       "         -3.92791112e-01,  8.19287105e-01,  1.00000000e+00],\n",
       "        [-6.83178975e-02, -6.53424774e-02, -9.70736163e-01,\n",
       "         -8.52986853e-01,  9.33226156e-01,  1.00000000e+00],\n",
       "        ...,\n",
       "        [-2.17522640e-01, -4.02483139e-01,  2.09830399e+00,\n",
       "          1.99204684e+00,  9.82836936e-01,  1.00000000e+00],\n",
       "        [ 1.54810940e+00,  1.58011696e+00, -9.90306065e-01,\n",
       "         -9.00476207e-01,  1.08249943e+00,  1.00000000e+00],\n",
       "        [-1.17440969e+00, -1.05400277e+00, -7.32381616e-01,\n",
       "         -7.27454279e-01,  8.14024027e-01,  1.00000000e+00]],\n",
       "\n",
       "       [[ 2.56080979e+00,  2.66492160e+00, -1.41594915e+00,\n",
       "         -3.93444291e-01, -6.82746989e+00,  1.00000000e+00],\n",
       "        [ 6.30089193e-01,  7.86746027e-01, -5.76486469e-01,\n",
       "          2.03545106e+00, -5.07436323e+00,  1.00000000e+00],\n",
       "        [-1.30063140e+00, -1.09142955e+00,  2.62976211e-01,\n",
       "          1.40074672e-01, -2.07432125e+00,  1.00000000e+00],\n",
       "        ...,\n",
       "        [-7.87520991e-01, -2.73257359e-01,  1.71986114e-01,\n",
       "          1.36255162e-01,  7.79999145e+00,  1.00000000e+00],\n",
       "        [ 6.62285307e-01,  7.91681064e-01, -8.04771539e-01,\n",
       "         -8.85221871e-01,  3.66618096e+00,  1.00000000e+00],\n",
       "        [-1.23307690e+00, -1.45630624e+00,  7.22741134e-01,\n",
       "          9.08558968e-01,  3.21767992e+00,  1.00000000e+00]],\n",
       "\n",
       "       [[ 5.08224318e-01,  5.71341858e-01, -2.10786269e+00,\n",
       "         -1.78302079e+00, -5.41145582e+00,  1.00000000e+00],\n",
       "        [ 6.45694287e-02,  4.65187110e-02,  2.07789185e+00,\n",
       "          1.95041339e+00, -5.51650616e+00,  1.00000000e+00],\n",
       "        [-3.79085461e-01, -4.78304436e-01,  4.08828094e-02,\n",
       "         -2.18406373e-02, -7.17822480e+00,  1.00000000e+00],\n",
       "        ...,\n",
       "        [-1.62410437e+00, -1.61593167e+00, -6.94080973e-01,\n",
       "         -9.19256517e-01,  5.41859720e+00,  1.00000000e+00],\n",
       "        [ 1.09974517e+00,  1.27248072e+00,  6.95733501e-01,\n",
       "          6.27161518e-01,  6.23858758e+00,  1.00000000e+00],\n",
       "        [ 1.66842843e+00,  1.25495486e+00, -7.76279538e-02,\n",
       "         -4.38927922e-01,  6.31574117e+00,  1.00000000e+00]]])"
      ]
     },
     "execution_count": 26,
     "metadata": {},
     "output_type": "execute_result"
    }
   ],
   "source": [
    "target_data[1:]"
   ]
  },
  {
   "cell_type": "code",
   "execution_count": null,
   "id": "6bf35771",
   "metadata": {},
   "outputs": [],
   "source": [
    "class CustomDataset(Dataset):\n",
    "    def __init__(self, file_name, transform=None,  target_transform=None):\n",
    "        df = np.load(file_name)\n",
    "        self.x_data = df[:,:,:-1]\n",
    "        self.y_data = df[:,:,-1]\n",
    "        #self.transform = transform\n",
    "        #self.target_transform = target_transform\n",
    "        \n",
    "\n",
    "    def __getitem__(self, idx):\n",
    "        x_data = torch.FloatTensor([self.x_data[idx]])\n",
    "        y_data = torch.Tensor(self.y_data[idx])\n",
    "        \n",
    "        return x_data, y_data\n",
    "        \n",
    "    def __len__(self):\n",
    "        return len(self.x_data) #데이터셋 크기 리턴\n",
    "               \n",
    "        #i번째 샘플을 찾는데 사용됨. "
   ]
  },
  {
   "cell_type": "code",
   "execution_count": null,
   "id": "5a210653",
   "metadata": {},
   "outputs": [],
   "source": [
    "dataset = CustomDataset('data_URF_DLB.npy')\n",
    "dataset_size = len(dataset)\n",
    "train_size = int(dataset_size * 0.8)\n",
    "validation_size = int(dataset_size * 0.1)\n",
    "test_size = dataset_size - train_size - validation_size\n",
    "train_dataset, val_dataset, test_dataset = random_split(dataset, [train_size, validation_size, test_size])"
   ]
  },
  {
   "cell_type": "code",
   "execution_count": null,
   "id": "6e5752f5",
   "metadata": {},
   "outputs": [],
   "source": [
    "train_dataloader = DataLoader(train_dataset, shuffle=True)\n",
    "val_dataloader = DataLoader(val_dataset, shuffle = True)\n",
    "test_dataloader = DataLoader(test_dataset, shuffle = True)"
   ]
  },
  {
   "cell_type": "code",
   "execution_count": null,
   "id": "42a61b4b",
   "metadata": {},
   "outputs": [],
   "source": [
    "train_x, train_y = next(iter(train_dataloader))\n",
    "train_x = train_x.squeeze(dim=1)\n",
    "train_y = train_y[:,-1].unsqueeze(dim=1)\n",
    "train_x.size(), train_y.size()"
   ]
  },
  {
   "cell_type": "code",
   "execution_count": null,
   "id": "cdf15a95",
   "metadata": {},
   "outputs": [],
   "source": [
    "batch_size = 25 \n",
    "input_size= 5\n",
    "hidden_size = 64\n",
    "num_layers = 2\n",
    "dropout_rate= 0.5\n",
    "num_classes = 1"
   ]
  },
  {
   "cell_type": "code",
   "execution_count": null,
   "id": "5a01b99d",
   "metadata": {},
   "outputs": [],
   "source": [
    "class LSTM_Chicka(nn.Module):\n",
    "    def __init__(self, num_classes, input_size, hidden_size, num_layers, dropout_rate):\n",
    "        super(LSTM_Chicka,self).__init__()\n",
    "        self.num_classes = num_classes #number of classes\n",
    "        self.num_layers = num_layers #layers\n",
    "        self.input_size = input_size #input size\n",
    "        self.hidden_size = hidden_size #hidden state\n",
    "        self.dropout_rate = dropout_rate\n",
    "        self.lstm =  nn.LSTM(input_size = input_size, hidden_size = hidden_size, num_layers = num_layers, dropout = dropout_rate, batch_first = True)\n",
    "        self.layer_out = nn.Linear(hidden_size, num_classes) \n",
    "        self.sigmoid = nn.Sigmoid()\n",
    "        \n",
    "    def forward(self,x):\n",
    "        out, _status = self.lstm(x)\n",
    "        out = self.layer_out(out[:, -1]) \n",
    "        out = self.sigmoid(out)\n",
    "\n",
    "        return out"
   ]
  },
  {
   "cell_type": "code",
   "execution_count": null,
   "id": "2b975c9b",
   "metadata": {},
   "outputs": [],
   "source": [
    "model = LSTM_Chicka(num_classes, input_size, hidden_size, num_layers, dropout_rate)\n",
    "criterion = torch.nn.BCELoss()\n",
    "optimizer = torch.optim.Adam(model.parameters(), lr=0.001)\n",
    "scheduler = torch.optim.lr_scheduler.ReduceLROnPlateau(optimizer= optimizer)"
   ]
  },
  {
   "cell_type": "code",
   "execution_count": null,
   "id": "cbde117c",
   "metadata": {},
   "outputs": [],
   "source": [
    "val_x, val_y = next(iter(val_dataloader))\n",
    "val_x = val_x.squeeze(dim=1)\n",
    "val_y = val_y[:,-1].unsqueeze(dim=1)\n",
    "val_x.size(), val_y.size()"
   ]
  },
  {
   "cell_type": "code",
   "execution_count": null,
   "id": "884e024c",
   "metadata": {},
   "outputs": [],
   "source": [
    "train_iterations = []\n",
    "train_losses = []\n",
    "val_iterations = []\n",
    "val_losses = []"
   ]
  },
  {
   "cell_type": "code",
   "execution_count": null,
   "id": "6f985021",
   "metadata": {},
   "outputs": [],
   "source": [
    "def train(num_epochs):\n",
    "\n",
    "    print(\"Begin training...\") \n",
    "    for epoch in range(1, num_epochs+1): \n",
    "        running_train_loss = 0.0 \n",
    "        running_accuracy = 0.0 \n",
    "        running_vall_loss = 0.0 \n",
    "        total = 0 \n",
    "        \n",
    "         # Training Loop \n",
    "        for data in train_dataloader: \n",
    "        #for data in enumerate(train_loader, 0): \n",
    "            inputs, outputs = data  # get the input and real species as outputs; data is a list of [inputs, outputs] \n",
    "            inputs = inputs.squeeze(dim=1)\n",
    "            outputs = outputs[:,-1].unsqueeze(dim=1)\n",
    "            optimizer.zero_grad()   # zero the parameter gradients          \n",
    "            predicted_outputs = model(inputs)   # predict output from the model \n",
    "            train_loss = criterion(predicted_outputs, outputs)   # calculate loss for the predicted output  \n",
    "            train_loss.backward()   # backpropagate the loss \n",
    "            optimizer.step()        # adjust parameters based on the calculated gradients \n",
    "            running_train_loss +=train_loss.item()  # track the loss value \n",
    "        \n",
    "        # Calculate training loss value \n",
    "        train_loss_value = running_train_loss/len(train_dataloader)\n",
    "        train_iterations.append(epoch)\n",
    "        train_losses.append(train_loss_value)\n",
    "            \n",
    "        # Validation Loop \n",
    "        with torch.no_grad(): \n",
    "            model.eval() \n",
    "            for data in val_dataloader: \n",
    "                inputs, outputs = data\n",
    "                inputs = inputs.squeeze(dim=1)\n",
    "                outputs = outputs[:,-1].unsqueeze(dim=1)\n",
    "                predicted_outputs = model(inputs) \n",
    "                val_loss = criterion(predicted_outputs, outputs) \n",
    "             \n",
    "               # The label with the highest value will be our prediction \n",
    "                _, predicted = torch.max(predicted_outputs, 1) \n",
    "                running_vall_loss += val_loss.item()  \n",
    "                total += outputs.size(0) \n",
    "                running_accuracy += (predicted == outputs).sum().item() \n",
    "        \n",
    "        # Calculate validation loss value \n",
    "        val_loss_value = running_vall_loss/len(val_dataloader) \n",
    "        val_iterations.append(epoch)\n",
    "        val_losses.append(val_loss_value)        \n",
    "        # Calculate accuracy as the number of correct predictions in the validation batch divided by the total number of predictions done.  \n",
    "        accuracy = (100 * running_accuracy / total)     \n",
    " \n",
    "        # Save the model if the accuracy is the best \n",
    "        #if accuracy > best_accuracy:\n",
    "        #    best_accuracy = accuracy \n",
    "         \n",
    "        # Print the statistics of the epoch \n",
    "        print('Completed training batch', epoch, 'Training Loss is: %.4f' %train_loss_value, 'Validation Loss is: %.4f' %val_loss_value, 'Accuracy is %d %%' % (accuracy))"
   ]
  },
  {
   "cell_type": "code",
   "execution_count": null,
   "id": "daa2a06b",
   "metadata": {},
   "outputs": [],
   "source": [
    "train(100)"
   ]
  },
  {
   "cell_type": "code",
   "execution_count": null,
   "id": "c1f2c8f0",
   "metadata": {},
   "outputs": [],
   "source": [
    "plt.plot(range(1, len(train_iterations)+1), train_losses, 'b--')\n",
    "plt.plot(range(1, len(val_iterations)+1), val_losses, 'b--')\n",
    "\n",
    "plt.xlabel('epochs')\n",
    "plt.ylabel('loss')\n",
    "plt.xlim(0, len(train_iterations)+1) # 일정한 scale\n",
    "plt.grid(True)\n",
    "plt.tight_layout()\n",
    "plt.show()"
   ]
  }
 ],
 "metadata": {
  "kernelspec": {
   "display_name": "Python 3 (ipykernel)",
   "language": "python",
   "name": "python3"
  },
  "language_info": {
   "codemirror_mode": {
    "name": "ipython",
    "version": 3
   },
   "file_extension": ".py",
   "mimetype": "text/x-python",
   "name": "python",
   "nbconvert_exporter": "python",
   "pygments_lexer": "ipython3",
   "version": "3.9.12"
  }
 },
 "nbformat": 4,
 "nbformat_minor": 5
}
