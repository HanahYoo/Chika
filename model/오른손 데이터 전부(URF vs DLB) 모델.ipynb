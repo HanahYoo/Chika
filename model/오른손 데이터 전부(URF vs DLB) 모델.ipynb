{
 "cells": [
  {
   "cell_type": "code",
   "execution_count": 1,
   "id": "408d0c8e",
   "metadata": {},
   "outputs": [],
   "source": [
    "import torch\n",
    "from torch.utils.data import Dataset, DataLoader, random_split\n",
    "import pandas as pd\n",
    "import numpy as np\n",
    "import torch.nn as nn\n",
    "import os\n",
    "import matplotlib.pyplot as plt\n",
    "from sklearn.preprocessing import StandardScaler"
   ]
  },
  {
   "cell_type": "code",
   "execution_count": 2,
   "id": "855267b7",
   "metadata": {},
   "outputs": [
    {
     "name": "stdout",
     "output_type": "stream",
     "text": [
      "/Users/choejuhui/Desktop/Datasets(Right)\n"
     ]
    }
   ],
   "source": [
    "cd/Users/choejuhui/Desktop/Datasets(Right)"
   ]
  },
  {
   "cell_type": "code",
   "execution_count": 3,
   "id": "26a97f9e",
   "metadata": {},
   "outputs": [],
   "source": [
    "class CustomDataset(Dataset):\n",
    "    def __init__(self, file_name, transform=None,  target_transform=None):\n",
    "        df = np.load(file_name)\n",
    "        self.x_data = df[:,:,:-1]\n",
    "        self.y_data = df[:,:,-1]\n",
    "        #self.transform = transform\n",
    "        #self.target_transform = target_transform\n",
    "        \n",
    "\n",
    "    def __getitem__(self, idx):\n",
    "        x_data = torch.FloatTensor([self.x_data[idx]])\n",
    "        y_data = torch.Tensor(self.y_data[idx])\n",
    "        \n",
    "        return x_data, y_data\n",
    "        \n",
    "    def __len__(self):\n",
    "        return len(self.x_data) #데이터셋 크기 리턴\n",
    "               \n",
    "        #i번째 샘플을 찾는데 사용됨. "
   ]
  },
  {
   "cell_type": "code",
   "execution_count": 4,
   "id": "291084c6",
   "metadata": {},
   "outputs": [],
   "source": [
    "dataset = CustomDataset('data_URF_DLB.npy')\n",
    "dataset_size = len(dataset)\n",
    "train_size = int(dataset_size * 0.8)\n",
    "validation_size = int(dataset_size * 0.1)\n",
    "test_size = dataset_size - train_size - validation_size\n",
    "train_dataset, val_dataset, test_dataset = random_split(dataset, [train_size, validation_size, test_size])"
   ]
  },
  {
   "cell_type": "code",
   "execution_count": 5,
   "id": "125935d0",
   "metadata": {},
   "outputs": [
    {
     "data": {
      "text/plain": [
       "33"
      ]
     },
     "execution_count": 5,
     "metadata": {},
     "output_type": "execute_result"
    }
   ],
   "source": [
    "len(train_dataset)"
   ]
  },
  {
   "cell_type": "code",
   "execution_count": 6,
   "id": "ce6ae9eb",
   "metadata": {},
   "outputs": [
    {
     "data": {
      "text/plain": [
       "4"
      ]
     },
     "execution_count": 6,
     "metadata": {},
     "output_type": "execute_result"
    }
   ],
   "source": [
    "len(val_dataset)"
   ]
  },
  {
   "cell_type": "code",
   "execution_count": 7,
   "id": "bc8c30fe",
   "metadata": {},
   "outputs": [
    {
     "data": {
      "text/plain": [
       "5"
      ]
     },
     "execution_count": 7,
     "metadata": {},
     "output_type": "execute_result"
    }
   ],
   "source": [
    "len(test_dataset)"
   ]
  },
  {
   "cell_type": "code",
   "execution_count": 8,
   "id": "5def5b64",
   "metadata": {},
   "outputs": [],
   "source": [
    "train_dataloader = DataLoader(train_dataset, shuffle=True)\n",
    "val_dataloader = DataLoader(val_dataset, shuffle = True)\n",
    "test_dataloader = DataLoader(test_dataset, shuffle = True)"
   ]
  },
  {
   "cell_type": "code",
   "execution_count": 9,
   "id": "64fa88a2",
   "metadata": {},
   "outputs": [
    {
     "name": "stderr",
     "output_type": "stream",
     "text": [
      "/var/folders/s4/7x4zrn_n0klgd6vbnf75pkn80000gn/T/ipykernel_55422/1330978244.py:11: UserWarning: Creating a tensor from a list of numpy.ndarrays is extremely slow. Please consider converting the list to a single numpy.ndarray with numpy.array() before converting to a tensor. (Triggered internally at  /Users/runner/work/pytorch/pytorch/pytorch/torch/csrc/utils/tensor_new.cpp:204.)\n",
      "  x_data = torch.FloatTensor([self.x_data[idx]])\n"
     ]
    },
    {
     "data": {
      "text/plain": [
       "(torch.Size([1, 300, 5]), torch.Size([1, 1]))"
      ]
     },
     "execution_count": 9,
     "metadata": {},
     "output_type": "execute_result"
    }
   ],
   "source": [
    "train_x, train_y = next(iter(train_dataloader))\n",
    "train_x = train_x.squeeze(dim=1)\n",
    "train_y = train_y[:,-1].unsqueeze(dim=1)\n",
    "train_x.size(), train_y.size()"
   ]
  },
  {
   "cell_type": "code",
   "execution_count": 10,
   "id": "ee110013",
   "metadata": {},
   "outputs": [],
   "source": [
    "input_size= 5\n",
    "hidden_size = 64\n",
    "num_layers = 2\n",
    "dropout_rate= 0.5\n",
    "num_classes = 1"
   ]
  },
  {
   "cell_type": "code",
   "execution_count": 11,
   "id": "b581e3c0",
   "metadata": {},
   "outputs": [],
   "source": [
    "class LSTM_Chicka(nn.Module):\n",
    "    def __init__(self, num_classes, input_size, hidden_size, num_layers, dropout_rate):\n",
    "        super(LSTM_Chicka,self).__init__()\n",
    "        self.num_classes = num_classes #number of classes\n",
    "        self.num_layers = num_layers #layers\n",
    "        self.input_size = input_size #input size\n",
    "        self.hidden_size = hidden_size #hidden state\n",
    "        self.dropout_rate = dropout_rate\n",
    "        self.lstm =  nn.LSTM(input_size = input_size, hidden_size = hidden_size, num_layers = num_layers, dropout = dropout_rate, batch_first = True)\n",
    "        self.layer_out = nn.Linear(hidden_size, num_classes) \n",
    "        self.sigmoid = nn.Sigmoid()\n",
    "        \n",
    "    def forward(self,x):\n",
    "        out, _status = self.lstm(x)\n",
    "        out = self.layer_out(out[:, -1]) \n",
    "        out = self.sigmoid(out)\n",
    "\n",
    "        return out"
   ]
  },
  {
   "cell_type": "code",
   "execution_count": 32,
   "id": "2d415dc2",
   "metadata": {},
   "outputs": [],
   "source": [
    "model = LSTM_Chicka(num_classes, input_size, hidden_size, num_layers, dropout_rate)\n",
    "criterion = torch.nn.BCELoss()\n",
    "optimizer = torch.optim.Adam(model.parameters(), lr=0.001)\n",
    "scheduler = torch.optim.lr_scheduler.ReduceLROnPlateau(optimizer= optimizer)"
   ]
  },
  {
   "cell_type": "code",
   "execution_count": 25,
   "id": "379333b0",
   "metadata": {},
   "outputs": [
    {
     "data": {
      "text/plain": [
       "(torch.Size([1, 300, 5]), torch.Size([1, 1]))"
      ]
     },
     "execution_count": 25,
     "metadata": {},
     "output_type": "execute_result"
    }
   ],
   "source": [
    "val_x, val_y = next(iter(val_dataloader))\n",
    "val_x = val_x.squeeze(dim=1)\n",
    "val_y = val_y[:,-1].unsqueeze(dim=1)\n",
    "val_x.size(), val_y.size()"
   ]
  },
  {
   "cell_type": "code",
   "execution_count": 33,
   "id": "7c0a2d38",
   "metadata": {},
   "outputs": [],
   "source": [
    "train_iterations = []\n",
    "train_losses = []\n",
    "val_iterations = []\n",
    "val_losses = []"
   ]
  },
  {
   "cell_type": "code",
   "execution_count": 36,
   "id": "b3794ea6",
   "metadata": {},
   "outputs": [],
   "source": [
    "def train(num_epochs):\n",
    "\n",
    "    print(\"Begin training...\") \n",
    "    for epoch in range(1, num_epochs+1): \n",
    "        running_train_loss = 0.0 \n",
    "        running_accuracy = 0.0 \n",
    "        running_vall_loss = 0.0 \n",
    "        total = 0 \n",
    "        \n",
    "         # Training Loop \n",
    "        for data in train_dataloader: \n",
    "        #for data in enumerate(train_loader, 0): \n",
    "            inputs, outputs = data  # get the input and real species as outputs; data is a list of [inputs, outputs] \n",
    "            inputs = inputs.squeeze(dim=1)\n",
    "            outputs = outputs[:,-1].unsqueeze(dim=1)\n",
    "            optimizer.zero_grad()   # zero the parameter gradients          \n",
    "            predicted_outputs = model(inputs)   # predict output from the model \n",
    "            train_loss = criterion(predicted_outputs, outputs)   # calculate loss for the predicted output  \n",
    "            train_loss.backward()   # backpropagate the loss \n",
    "            optimizer.step()        # adjust parameters based on the calculated gradients \n",
    "            running_train_loss +=train_loss.item()  # track the loss value \n",
    "        \n",
    "        # Calculate training loss value \n",
    "        train_loss_value = running_train_loss/len(train_dataloader)\n",
    "        train_iterations.append(epoch)\n",
    "        train_losses.append(train_loss_value)\n",
    "            \n",
    "        # Validation Loop \n",
    "        with torch.no_grad(): \n",
    "            model.eval() \n",
    "            for data in val_dataloader: \n",
    "                inputs, outputs = data\n",
    "                inputs = inputs.squeeze(dim=1)\n",
    "                outputs = outputs[:,-1].unsqueeze(dim=1)\n",
    "                predicted_outputs = model(inputs) \n",
    "                val_loss = criterion(predicted_outputs, outputs) \n",
    "             \n",
    "               # The label with the highest value will be our prediction \n",
    "                _, predicted = torch.max(predicted_outputs, 1) \n",
    "                running_vall_loss += val_loss.item()  \n",
    "                total += outputs.size(0) \n",
    "                running_accuracy += (predicted == outputs).sum().item() \n",
    "        \n",
    "        # Calculate validation loss value \n",
    "        val_loss_value = running_vall_loss/len(val_dataloader) \n",
    "        val_iterations.append(epoch)\n",
    "        val_losses.append(val_loss_value)        \n",
    "        # Calculate accuracy as the number of correct predictions in the validation batch divided by the total number of predictions done.  \n",
    "        accuracy = (100 * running_accuracy / total)     \n",
    " \n",
    "        # Save the model if the accuracy is the best \n",
    "        #if accuracy > best_accuracy:\n",
    "        #    best_accuracy = accuracy \n",
    "         \n",
    "        # Print the statistics of the epoch \n",
    "        print('Completed training batch', epoch, 'Training Loss is: %.4f' %train_loss_value, 'Validation Loss is: %.4f' %val_loss_value, 'Accuracy is %d %%' % (accuracy))"
   ]
  },
  {
   "cell_type": "code",
   "execution_count": null,
   "id": "af8d7f9d",
   "metadata": {},
   "outputs": [
    {
     "name": "stdout",
     "output_type": "stream",
     "text": [
      "Begin training...\n",
      "Completed training batch 1 Training Loss is: 0.6925 Validation Loss is: 0.7131 Accuracy is 75 %\n",
      "Completed training batch 2 Training Loss is: 0.6926 Validation Loss is: 0.6916 Accuracy is 75 %\n",
      "Completed training batch 3 Training Loss is: 0.6857 Validation Loss is: 0.7020 Accuracy is 75 %\n",
      "Completed training batch 4 Training Loss is: 0.6673 Validation Loss is: 0.6302 Accuracy is 75 %\n",
      "Completed training batch 5 Training Loss is: 0.6593 Validation Loss is: 0.8286 Accuracy is 75 %\n",
      "Completed training batch 6 Training Loss is: 0.6431 Validation Loss is: 0.5396 Accuracy is 75 %\n"
     ]
    }
   ],
   "source": [
    "train(100)"
   ]
  },
  {
   "cell_type": "code",
   "execution_count": 21,
   "id": "1d32471e",
   "metadata": {},
   "outputs": [
    {
     "data": {
      "image/png": "[encoded data removed]",
      "text/plain": [
       "<Figure size 432x288 with 1 Axes>"
      ]
     },
     "metadata": {
      "needs_background": "light"
     },
     "output_type": "display_data"
    }
   ],
   "source": [
    "plt.plot(range(1, len(train_iterations)+1), train_losses, 'b--')\n",
    "plt.plot(range(1, len(val_iterations)+1), val_losses, 'b--')\n",
    "\n",
    "plt.xlabel('epochs')\n",
    "plt.ylabel('loss')\n",
    "plt.xlim(0, len(train_iterations)+1) # 일정한 scale\n",
    "plt.grid(True)\n",
    "plt.tight_layout()\n",
    "plt.show()"
   ]
  },
  {
   "cell_type": "code",
   "execution_count": null,
   "id": "be65e4f7",
   "metadata": {},
   "outputs": [],
   "source": [
    "train_iterations"
   ]
  },
  {
   "cell_type": "code",
   "execution_count": null,
   "id": "ee4008a8",
   "metadata": {},
   "outputs": [],
   "source": []
  }
 ],
 "metadata": {
  "kernelspec": {
   "display_name": "Python 3 (ipykernel)",
   "language": "python",
   "name": "python3"
  },
  "language_info": {
   "codemirror_mode": {
    "name": "ipython",
    "version": 3
   },
   "file_extension": ".py",
   "mimetype": "text/x-python",
   "name": "python",
   "nbconvert_exporter": "python",
   "pygments_lexer": "ipython3",
   "version": "3.9.7"
  }
 },
 "nbformat": 4,
 "nbformat_minor": 5
}
