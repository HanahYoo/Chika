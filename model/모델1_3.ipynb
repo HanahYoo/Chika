{
 "cells": [
  {
   "cell_type": "code",
   "execution_count": 151,
   "id": "d6018d97-b089-4e7c-ba49-d8919d985f7d",
   "metadata": {},
   "outputs": [],
   "source": [
    "import torch\n",
    "import torch.nn as nn\n",
    "import numpy as np\n",
    "import pandas as pd\n",
    "from sklearn.preprocessing import StandardScaler"
   ]
  },
  {
   "cell_type": "code",
   "execution_count": 152,
   "id": "56c5a16f-35bd-463b-97e6-745170e3e847",
   "metadata": {},
   "outputs": [
    {
     "name": "stdout",
     "output_type": "stream",
     "text": [
      "C:\\Users\\0105l\\Desktop\\데이터\n"
     ]
    }
   ],
   "source": [
    "cd C:/Users/0105l/Desktop/데이터/"
   ]
  },
  {
   "cell_type": "code",
   "execution_count": 154,
   "id": "c7bcab8b-962a-4b96-999c-47b6c4bb79ed",
   "metadata": {},
   "outputs": [],
   "source": [
    "def distance(x1, y1, x2, y2):\n",
    "    m = (y2-y1) / (x2-x1)\n",
    "    return m"
   ]
  },
  {
   "cell_type": "code",
   "execution_count": 155,
   "id": "bd9428bd-dc98-4aa1-8ff6-ceca556e3e37",
   "metadata": {},
   "outputs": [],
   "source": [
    "# 포지션 => 기울기로 변환\n",
    "# coef.shape = (300,1)\n",
    "def Coefficient(df): \n",
    "    coef = []\n",
    "    for i in range(49, 351):\n",
    "        frame1 = df[i][gradlab1][0:2]\n",
    "        frame2 = df[i][gradlab2][0:2]\n",
    "        coef.append(distance(frame1[0], frame1[1], frame2[0], frame2[1]))\n",
    "    coef = pd.DataFrame(coef, columns= ['coef'])\n",
    "    \n",
    "    q3=coef['coef'].quantile(0.75)\n",
    "    q1=coef['coef'].quantile(0.25)\n",
    "    iqr=q3-q1\n",
    "    outlier_top=q3+1.5*iqr\n",
    "    outlier_bottom=q1-1.5*iqr\n",
    "    idx=coef[(coef['coef']<outlier_bottom) | (coef['coef']>outlier_top)].index\n",
    "    \n",
    "    idx_list=[]\n",
    "    for i in idx:\n",
    "        idx_list.append(str(i))\n",
    "    idx_list.append('end')\n",
    "\n",
    "    idx_string = ' '.join(idx_list)\n",
    "    idx_string_split = idx_string.split('end')\n",
    "    outlier_str = idx_string_split[0].strip()\n",
    "    outlier = list(map(int, outlier_str.split(' ')))\n",
    "\n",
    "    for i in range(len(coef)-1):\n",
    "        if i in outlier:\n",
    "            if i == 0:\n",
    "                continue\n",
    "            elif i != (len(coef)-1):\n",
    "                coef['coef'][i] = (coef['coef'][i-1] + coef['coef'][i+1])/2\n",
    "            else:\n",
    "                break\n",
    "                \n",
    "    coef = np.array(coef)[1:301]\n",
    "    \n",
    "    return coef"
   ]
  },
  {
   "cell_type": "code",
   "execution_count": 156,
   "id": "1eedef0e-17b7-497c-a740-22c472c02af4",
   "metadata": {},
   "outputs": [],
   "source": [
    "# 가속도 넘파이 이상치 변환\n",
    "# acc_array.shape = (300,2)\n",
    "def Acceleration(pos_1, array_1, acclab):\n",
    "    df = pd.DataFrame(array_1[:,acclab,:], columns=['x','y','z'])\n",
    "    idx_list=[]\n",
    "    for i in ['x','y','z']:\n",
    "        q3=df[i].quantile(0.75)\n",
    "        q1=df[i].quantile(0.25)\n",
    "        iqr=q3-q1\n",
    "        outlier_top=q3+1.5*iqr\n",
    "        outlier_bottom=q1-1.5*iqr\n",
    "\n",
    "        idx=df[(df[i]<outlier_bottom) | (df[i]>outlier_top)].index\n",
    "        for i in idx:\n",
    "            idx_list.append(str(i))\n",
    "        idx_list.append('end')\n",
    "    \n",
    "    idx_string = ' '.join(idx_list)\n",
    "    idx_string_split = idx_string.split('end')\n",
    "    x_outlier_str = idx_string_split[0].strip()\n",
    "    y_outlier_str = idx_string_split[1].strip()\n",
    "    x_outlier = list(map(int, x_outlier_str.split(' ')[:-1]))\n",
    "    y_outlier = list(map(int, y_outlier_str.split(' ')[:-1]))\n",
    "    \n",
    "    acc_1_parsed = array_1[:,acclab,:]\n",
    "    for i in range(len(pos_1)-1):\n",
    "        if i in x_outlier:\n",
    "            acc_1_parsed[i][0] = (acc_1_parsed[i-1][0] + acc_1_parsed[i+1][0])/2 \n",
    "        if i in y_outlier:\n",
    "            acc_1_parsed[i][1] = (acc_1_parsed[i-1][1] + acc_1_parsed[i+1][1])/2 \n",
    "       \n",
    "    final_df = pd.DataFrame(acc_1_parsed, columns = ['x','y','z'])\n",
    "    acc_array = StandardScaler().fit_transform(final_df)\n",
    "    acc_array = acc_array[49:349,:]\n",
    "    \n",
    "    return acc_array[:,:2] "
   ]
  },
  {
   "cell_type": "code",
   "execution_count": 157,
   "id": "74cd1e83-4b47-4405-99ec-617452e327f7",
   "metadata": {},
   "outputs": [],
   "source": [
    "#부위 별로 모델을 만들거라 상관없다 ..? (오답 데이터 가져오는 거 생각할 필요 있음) \n",
    "hand = 'Right'\n",
    "gesture_list = ['URF','UMF','ULF','DLF','DMF','DRF','URB','UMB','ULB','DLB','DMB','DRB','URO','ULO','DLO','DRO']\n",
    "right_gesture = gesture_list[0]\n",
    "num_session = 5\n",
    "#총 세션 개수 = batch size\n",
    "#5로 적어야 1~4까지 들어감\n",
    "\n",
    "acclab1 = 8\n",
    "acclab2 = 12\n",
    "gradlab1 = 8\n",
    "gradlab2 = 12\n"
   ]
  },
  {
   "cell_type": "code",
   "execution_count": 158,
   "id": "4cecaab3-cf74-448f-b389-43047c16d651",
   "metadata": {},
   "outputs": [],
   "source": [
    "def dataloader(gesture):\n",
    "    data2 = np.zeros((1,300,6))\n",
    "    for i in range(1, num_session):\n",
    "        data = np.zeros((300,1))\n",
    "        pos = np.load('%s_%s_p_%d.npy' % (hand, gesture, i))\n",
    "        acc = np.load('%s_%s_a_%d.npy' % (hand, gesture, i))\n",
    "        acc1 = Acceleration(pos, acc, acclab1)\n",
    "        acc2 = Acceleration(pos, acc, acclab2)\n",
    "        coef = Coefficient(pos)\n",
    "        if gesture == right_gesture:\n",
    "            label = np.ones((300,1))\n",
    "        else:\n",
    "            label = np.zeros((300,1))\n",
    "        data = np.hstack((data,acc1,acc2,coef,label))\n",
    "        data = data[:, 1:].reshape((1,300,6))\n",
    "        data2 = np.vstack((data2,data))\n",
    "    \n",
    "        \n",
    "    return data2"
   ]
  },
  {
   "cell_type": "code",
   "execution_count": 159,
   "id": "16c135a7-6739-4ddb-adaf-2b1575724874",
   "metadata": {},
   "outputs": [],
   "source": [
    "target_data = dataloader('URF')\n",
    "error_data = dataloader('DLB')"
   ]
  },
  {
   "cell_type": "code",
   "execution_count": 169,
   "id": "7a9a5a20-1ed9-4aaf-b716-6152d7883ff6",
   "metadata": {},
   "outputs": [
    {
     "data": {
      "text/plain": [
       "numpy.ndarray"
      ]
     },
     "execution_count": 169,
     "metadata": {},
     "output_type": "execute_result"
    }
   ],
   "source": [
    "type(target_data)"
   ]
  },
  {
   "cell_type": "code",
   "execution_count": 160,
   "id": "d11f3b5d-225f-4a05-8d78-154eded74b1f",
   "metadata": {},
   "outputs": [
    {
     "data": {
      "text/plain": [
       "((5, 300, 6), (5, 300, 6))"
      ]
     },
     "execution_count": 160,
     "metadata": {},
     "output_type": "execute_result"
    }
   ],
   "source": [
    "target_data.shape, error_data.shape"
   ]
  },
  {
   "cell_type": "code",
   "execution_count": 175,
   "id": "7dd6bf8d-ddea-487b-bb40-8f43fc739ee0",
   "metadata": {},
   "outputs": [
    {
     "data": {
      "text/plain": [
       "array([[0., 0., 0., 0., 0., 0.],\n",
       "       [0., 0., 0., 0., 0., 0.],\n",
       "       [0., 0., 0., 0., 0., 0.],\n",
       "       ...,\n",
       "       [0., 0., 0., 0., 0., 0.],\n",
       "       [0., 0., 0., 0., 0., 0.],\n",
       "       [0., 0., 0., 0., 0., 0.]])"
      ]
     },
     "execution_count": 175,
     "metadata": {},
     "output_type": "execute_result"
    }
   ],
   "source": [
    "error_data[0]"
   ]
  },
  {
   "cell_type": "code",
   "execution_count": 176,
   "id": "7b85a915-fbdc-46ab-b285-0950b4a1cb0c",
   "metadata": {},
   "outputs": [
    {
     "data": {
      "text/plain": [
       "array([[[-3.29066519e-01, -2.47648078e-01, -1.07156350e-01,\n",
       "         -1.71393815e-01,  1.24951225e+00,  1.00000000e+00],\n",
       "        [-1.27500655e+00, -7.55905290e-01, -5.62856579e-01,\n",
       "         -5.59727408e-01,  1.32934755e+00,  1.00000000e+00],\n",
       "        [ 1.28950053e+00,  6.89500970e-01, -2.22177874e-03,\n",
       "         -1.01876799e-03,  1.27165818e+00,  1.00000000e+00],\n",
       "        ...,\n",
       "        [ 1.46416609e-01,  3.70244551e-01,  5.29748617e-01,\n",
       "          6.03417302e-01, -1.84926575e+01,  1.00000000e+00],\n",
       "        [-1.88858184e-01, -1.65248434e-01,  6.23319775e-01,\n",
       "          3.90512374e-01, -7.95013185e+00,  1.00000000e+00],\n",
       "        [ 8.20031876e-01,  9.93098851e-01,  3.03370629e-01,\n",
       "          1.30073630e-01, -3.22716929e+00,  1.00000000e+00]],\n",
       "\n",
       "       [[ 4.62174576e-01,  6.19516186e-01,  2.13561525e-01,\n",
       "          3.92794339e-01,  1.77478833e+00,  1.00000000e+00],\n",
       "        [-1.70099406e-01, -4.32923348e-02,  1.17690016e+00,\n",
       "          6.55550482e-01,  3.07311352e+00,  1.00000000e+00],\n",
       "        [ 3.77370681e-01,  3.11921493e-01, -7.82193989e-01,\n",
       "         -7.37823753e-01,  2.21491740e+00,  1.00000000e+00],\n",
       "        ...,\n",
       "        [-3.03524637e-01, -4.98326880e-01, -7.61137602e-02,\n",
       "          6.90940148e-02,  1.62262070e+00,  1.00000000e+00],\n",
       "        [-2.13602362e-01,  6.08224343e-03,  6.66728911e-01,\n",
       "          2.83238846e-01,  2.59996277e+00,  1.00000000e+00],\n",
       "        [ 1.35611510e+00,  1.43661210e+00,  7.38977232e-01,\n",
       "          7.63045496e-01,  2.48194353e+00,  1.00000000e+00]],\n",
       "\n",
       "       [[-5.20898575e-01, -4.72561389e-01,  3.21462805e-01,\n",
       "          1.32596447e-01,  2.16750652e+00,  1.00000000e+00],\n",
       "        [ 1.28260656e+00,  6.06700627e-01, -9.61029631e-01,\n",
       "         -8.09598494e-01, -1.80871911e+00,  1.00000000e+00],\n",
       "        [-2.89133830e-01,  3.25514262e-01,  1.15985746e+00,\n",
       "          9.85549611e-01, -3.56234773e+00,  1.00000000e+00],\n",
       "        ...,\n",
       "        [-7.11159174e-01, -6.34260753e-01,  9.87778304e-03,\n",
       "          6.74066043e-02,  1.09576949e+00,  1.00000000e+00],\n",
       "        [ 3.54040914e-01,  5.34505420e-01, -1.16460894e+00,\n",
       "         -1.13409446e+00,  1.06476310e+00,  1.00000000e+00],\n",
       "        [-1.86715414e+00, -1.73476010e+00, -6.53397980e-01,\n",
       "         -6.50146981e-01,  9.98704068e-01,  1.00000000e+00]],\n",
       "\n",
       "       ...,\n",
       "\n",
       "       [[ 2.53516921e-01, -2.97741340e-02, -4.56552331e-01,\n",
       "         -5.09572004e-01, -1.58953660e+00,  0.00000000e+00],\n",
       "        [ 6.73447038e-01,  4.19399258e-01,  2.09970391e-01,\n",
       "          2.98203835e-01, -1.31432613e+00,  0.00000000e+00],\n",
       "        [-2.15567262e-01, -9.63486601e-02,  5.32933384e-01,\n",
       "          5.40103002e-01, -8.65655220e-01,  0.00000000e+00],\n",
       "        ...,\n",
       "        [ 1.86651304e+00,  1.48693063e+00, -2.32372374e-01,\n",
       "         -2.67747651e-01, -1.62952571e+00,  0.00000000e+00],\n",
       "        [-2.14055244e+00, -1.94948907e+00, -3.04515889e-01,\n",
       "         -3.51461705e-01, -7.55149925e-01,  0.00000000e+00],\n",
       "        [ 2.81849511e-02, -2.94583748e-02, -2.61432671e-01,\n",
       "         -6.91490910e-02, -8.44826655e-01,  0.00000000e+00]],\n",
       "\n",
       "       [[-5.78805280e-01, -1.09097875e+00, -1.46079458e+00,\n",
       "         -2.12904915e+00, -1.43489347e-01,  0.00000000e+00],\n",
       "        [ 4.49096583e-01,  1.66523993e-02, -1.09884774e-01,\n",
       "          1.33681007e+00,  3.41751419e-02,  0.00000000e+00],\n",
       "        [ 7.16485817e-01,  9.78944004e-01,  1.99869352e+00,\n",
       "          9.31674396e-01, -2.67871936e-02,  0.00000000e+00],\n",
       "        ...,\n",
       "        [ 4.58266712e-01,  8.84063756e-01,  1.30198696e+00,\n",
       "          1.43796297e+00,  6.03366011e-02,  0.00000000e+00],\n",
       "        [ 9.44954494e-02,  2.57760363e-01,  8.91696192e-01,\n",
       "          1.45368515e-01,  1.91386240e-02,  0.00000000e+00],\n",
       "        [-7.87325409e-02, -4.67012976e-01, -5.34432371e-01,\n",
       "         -4.48789298e-01, -2.05242479e-03,  0.00000000e+00]],\n",
       "\n",
       "       [[-1.04444999e-01, -1.80683506e+00,  8.99446878e-01,\n",
       "          1.88554223e+00, -9.46243695e-02,  0.00000000e+00],\n",
       "        [ 3.05451677e-01,  1.00176987e+00,  9.71730945e-01,\n",
       "         -2.90954258e-02, -3.51606860e-01,  0.00000000e+00],\n",
       "        [-6.91181722e-02,  5.79592037e-01, -6.89188754e-01,\n",
       "          1.69865294e-01, -4.71573832e-01,  0.00000000e+00],\n",
       "        ...,\n",
       "        [ 2.07634607e-01,  3.48036050e-01,  1.13615963e+00,\n",
       "          1.38716239e+00,  5.48555517e-02,  0.00000000e+00],\n",
       "        [ 9.07216321e-02,  3.19437768e-01, -1.52572650e+00,\n",
       "         -1.06353948e+00,  2.33973118e-02,  0.00000000e+00],\n",
       "        [-1.48842467e+00, -1.39045253e+00, -3.37906579e-02,\n",
       "         -4.62924805e-01,  9.78470895e-02,  0.00000000e+00]]])"
      ]
     },
     "execution_count": 176,
     "metadata": {},
     "output_type": "execute_result"
    }
   ],
   "source": [
    "data = np.vstack((target_data[1:], error_data[1:]))\n",
    "data"
   ]
  },
  {
   "cell_type": "code",
   "execution_count": 177,
   "id": "73d47912-4f11-41a1-bd8e-b0bf62ab2bf9",
   "metadata": {},
   "outputs": [
    {
     "data": {
      "text/plain": [
       "(8, 300, 6)"
      ]
     },
     "execution_count": 177,
     "metadata": {},
     "output_type": "execute_result"
    }
   ],
   "source": [
    "data.shape"
   ]
  },
  {
   "cell_type": "code",
   "execution_count": 180,
   "id": "2d28c4c7-d44d-4ba0-bad3-ae2440a19272",
   "metadata": {},
   "outputs": [],
   "source": [
    "import torch\n",
    "from torch.utils.data import random_split\n",
    "train_data, test_data = random_split(data, [6, 2])"
   ]
  },
  {
   "cell_type": "code",
   "execution_count": 182,
   "id": "7523c82b-83ba-4ed7-80da-1a390f7aeebf",
   "metadata": {},
   "outputs": [
    {
     "data": {
      "text/plain": [
       "2"
      ]
     },
     "execution_count": 182,
     "metadata": {},
     "output_type": "execute_result"
    }
   ],
   "source": [
    "len(train_data)\n",
    "len(test_data)"
   ]
  },
  {
   "cell_type": "code",
   "execution_count": 183,
   "id": "0ec9ad9b-cffa-4169-86ae-f9b78940a7c6",
   "metadata": {},
   "outputs": [],
   "source": [
    "train_data = np.vstack((data[0], data[1], data[2], data[4], data[5], data[6]))\n",
    "test_data = np.vstack((data[3], data[7]))"
   ]
  },
  {
   "cell_type": "code",
   "execution_count": 189,
   "id": "6e422057-6ef2-4d2b-9a60-6dbfc24b9bb9",
   "metadata": {},
   "outputs": [],
   "source": [
    "train_data = train_data.reshape(6, 300, 6)"
   ]
  },
  {
   "cell_type": "code",
   "execution_count": 190,
   "id": "1166f408-78ff-472e-8a10-f0b63c981419",
   "metadata": {},
   "outputs": [],
   "source": [
    "test_data = test_data.reshape(2, 300, 6)"
   ]
  },
  {
   "cell_type": "code",
   "execution_count": 191,
   "id": "184de2fc-fe8d-4bf0-a4da-f4ed91be6b8f",
   "metadata": {},
   "outputs": [],
   "source": [
    "x_train, y_train = train_data[:, :, :5], train_data[:, :, -1]\n",
    "x_test, y_test = test_data[:, :, :5], test_data[:, :, -1]"
   ]
  },
  {
   "cell_type": "code",
   "execution_count": 283,
   "id": "089d395c-e27a-48e3-9815-de8e62b83506",
   "metadata": {},
   "outputs": [],
   "source": [
    "y_train = [1, 1, 1, 1, 0, 0]\n",
    "y_test = [1, 0]"
   ]
  },
  {
   "cell_type": "code",
   "execution_count": 284,
   "id": "866bf7c3-6c24-4405-8886-540c97b20183",
   "metadata": {},
   "outputs": [],
   "source": [
    "x_train = torch.Tensor(x_train)\n",
    "y_train = torch.Tensor(y_train)\n",
    "x_test = torch.Tensor(x_test)\n",
    "y_test = torch.Tensor(y_test)"
   ]
  },
  {
   "cell_type": "code",
   "execution_count": 285,
   "id": "22544343-de3a-47b5-9742-a10d13abb030",
   "metadata": {},
   "outputs": [
    {
     "data": {
      "text/plain": [
       "torch.Size([6, 300, 5])"
      ]
     },
     "execution_count": 285,
     "metadata": {},
     "output_type": "execute_result"
    }
   ],
   "source": [
    "x_train.shape"
   ]
  },
  {
   "cell_type": "code",
   "execution_count": 286,
   "id": "7462b4da-0630-4a86-bf36-966c1e47d355",
   "metadata": {},
   "outputs": [
    {
     "data": {
      "text/plain": [
       "torch.Size([2, 300, 5])"
      ]
     },
     "execution_count": 286,
     "metadata": {},
     "output_type": "execute_result"
    }
   ],
   "source": [
    "x_test.shape"
   ]
  },
  {
   "cell_type": "code",
   "execution_count": 319,
   "id": "6ee2578a-6991-4c16-b1e4-80a0647b1d66",
   "metadata": {},
   "outputs": [],
   "source": [
    "y_train = y_train.reshape(6, 1)"
   ]
  },
  {
   "cell_type": "code",
   "execution_count": 288,
   "id": "31be37f7-fa34-4d0e-a53f-9ba862a25953",
   "metadata": {},
   "outputs": [
    {
     "data": {
      "text/plain": [
       "tensor([1., 1., 1., 1., 0., 0.])"
      ]
     },
     "execution_count": 288,
     "metadata": {},
     "output_type": "execute_result"
    }
   ],
   "source": [
    "y_train"
   ]
  },
  {
   "cell_type": "code",
   "execution_count": 289,
   "id": "a04774d1-d3ab-4899-9918-80190dae7399",
   "metadata": {},
   "outputs": [
    {
     "data": {
      "text/plain": [
       "torch.Size([2])"
      ]
     },
     "execution_count": 289,
     "metadata": {},
     "output_type": "execute_result"
    }
   ],
   "source": [
    "y_test.shape"
   ]
  },
  {
   "cell_type": "code",
   "execution_count": 320,
   "id": "05fcd973-9087-49c2-aa29-6c69d994be04",
   "metadata": {},
   "outputs": [],
   "source": [
    "input = torch.randn(100,3,3) #(batch, seq_len_, input_size)\n",
    "input_size= 5\n",
    "#seq_length = 300\n",
    "hidden_size = 256\n",
    "layers = 2\n",
    "dropout_rate= 0.5\n",
    "num_classes = 1"
   ]
  },
  {
   "cell_type": "code",
   "execution_count": 335,
   "id": "563c6ff3-8589-4ebb-a928-667a08a68e39",
   "metadata": {},
   "outputs": [],
   "source": [
    "class LSTM_Chicka(nn.Module):\n",
    "    def __init__(self, num_classes, input_size, hidden_size, num_layers, dropout_rate):\n",
    "        super(LSTM_Chicka,self).__init__()\n",
    "        self.num_classes = num_classes #number of classes\n",
    "        self.num_layers = num_layers #layers\n",
    "        self.input_size = input_size #input size\n",
    "        self.hidden_size = hidden_size #hidden state\n",
    "        self.dropout_rate = dropout_rate\n",
    "        self.lstm =  nn.LSTM(input_size = input_size, hidden_size = hidden_size, num_layers = num_layers, dropout = dropout_rate, batch_first = True)\n",
    "        #self.layer_1 = nn.Linear(hidden_size, 64)\n",
    "        #self.layer_2 = nn.Linear(256,64)\n",
    "        #self.layer_3 = nn.Linear(64,16)\n",
    "        self.layer_out = nn.Linear(hidden_size, num_classes) \n",
    "        #self.relu = nn.ReLU()  \n",
    "        self.sigmoid = nn.Sigmoid()\n",
    "        \n",
    "    def forward(self,x):\n",
    "        #h_0 = torch.tensor(torch.zeros(self.num_layers, x.size(0), self.hidden_size)) # x.size(0) batch size \n",
    "        #c_0 = torch.tensor(torch.zeros(self.num_layers, x.size(0), self.hidden_size))\n",
    "        \n",
    "        #output, (hn,cn) = self.lstm(x,(h_0,c_0))\n",
    "        out, _status = self.lstm(x)\n",
    "        \n",
    "        \n",
    "        #hn = hn.view(-1, self.hidden_size)\n",
    "        #out = self.relu(hn)\n",
    "        #out = self.layer_1(out) \n",
    "        #out = self.relu(out) \n",
    "        #out = self.layer_2(out)\n",
    "        #out = self.relu(out)\n",
    "        #out = self.layer_3(out)\n",
    "        #out = self.relu(out)\n",
    "        out = self.layer_out(out[:, -1]) \n",
    "        out = self.sigmoid(out)\n",
    "\n",
    "        return out"
   ]
  },
  {
   "cell_type": "code",
   "execution_count": 363,
   "id": "55d39d43-ea74-4cec-83ec-8620fd570e2e",
   "metadata": {},
   "outputs": [],
   "source": [
    "model = LSTM_Chicka(num_classes, input_size, hidden_size, num_layers, dropout_rate)\n",
    "criterion = torch.nn.BCELoss()\n",
    "optimizer = torch.optim.Adam(model.parameters(), lr=0.001)\n",
    "scheduler = torch.optim.lr_scheduler.ReduceLROnPlateau(optimizer= optimizer)"
   ]
  },
  {
   "cell_type": "code",
   "execution_count": 353,
   "id": "e1055b41-e7e0-4f1e-89b9-15c8c1fef7cd",
   "metadata": {},
   "outputs": [
    {
     "name": "stdout",
     "output_type": "stream",
     "text": [
      "torch.Size([6, 1])\n"
     ]
    }
   ],
   "source": [
    "outputs = model(x_train)\n",
    "print(outputs.shape)"
   ]
  },
  {
   "cell_type": "code",
   "execution_count": 354,
   "id": "762e01a5-ac9a-4724-ad7b-e58eba09e063",
   "metadata": {},
   "outputs": [
    {
     "data": {
      "text/plain": [
       "tensor([[0.4975],\n",
       "        [0.4981],\n",
       "        [0.4997],\n",
       "        [0.4964],\n",
       "        [0.4982],\n",
       "        [0.4958]], grad_fn=<SigmoidBackward0>)"
      ]
     },
     "execution_count": 354,
     "metadata": {},
     "output_type": "execute_result"
    }
   ],
   "source": [
    "outputs"
   ]
  },
  {
   "cell_type": "code",
   "execution_count": 368,
   "id": "d4e49881-904b-4000-858d-ad866c155cc0",
   "metadata": {},
   "outputs": [
    {
     "data": {
      "text/plain": [
       "torch.Size([6, 300, 5])"
      ]
     },
     "execution_count": 368,
     "metadata": {},
     "output_type": "execute_result"
    }
   ],
   "source": [
    "x_train.shape"
   ]
  },
  {
   "cell_type": "code",
   "execution_count": 364,
   "id": "ad30d59a-ab02-4eae-9be3-1be44125ab77",
   "metadata": {},
   "outputs": [
    {
     "name": "stdout",
     "output_type": "stream",
     "text": [
      "Epoch: 1, loss: 0.68569\n",
      "Epoch: 2, loss: 0.67414\n",
      "Epoch: 3, loss: 0.66544\n",
      "Epoch: 4, loss: 0.64684\n",
      "Epoch: 5, loss: 0.63414\n",
      "Epoch: 6, loss: 0.60296\n",
      "Epoch: 7, loss: 0.56130\n",
      "Epoch: 8, loss: 0.51137\n",
      "Epoch: 9, loss: 0.49981\n",
      "Epoch: 10, loss: 0.43651\n",
      "Epoch: 11, loss: 0.39520\n",
      "Epoch: 12, loss: 0.36498\n",
      "Epoch: 13, loss: 0.33374\n",
      "Epoch: 14, loss: 0.30876\n",
      "Epoch: 15, loss: 1.21624\n",
      "Epoch: 16, loss: 0.29241\n",
      "Epoch: 17, loss: 0.29257\n",
      "Epoch: 18, loss: 0.28866\n",
      "Epoch: 19, loss: 0.28580\n",
      "Epoch: 20, loss: 0.27939\n",
      "Epoch: 21, loss: 0.27610\n",
      "Epoch: 22, loss: 0.27234\n",
      "Epoch: 23, loss: 0.26280\n",
      "Epoch: 24, loss: 0.26575\n",
      "Epoch: 25, loss: 0.25089\n",
      "Epoch: 26, loss: 0.24046\n",
      "Epoch: 27, loss: 0.23078\n",
      "Epoch: 28, loss: 0.21943\n",
      "Epoch: 29, loss: 0.20197\n",
      "Epoch: 30, loss: 0.18751\n",
      "Epoch: 31, loss: 0.15526\n",
      "Epoch: 32, loss: 0.14490\n",
      "Epoch: 33, loss: 0.12637\n",
      "Epoch: 34, loss: 0.08121\n",
      "Epoch: 35, loss: 0.03414\n",
      "Epoch: 36, loss: 0.25848\n",
      "Epoch: 37, loss: 0.02471\n",
      "Epoch: 38, loss: 0.02668\n",
      "Epoch: 39, loss: 0.02720\n",
      "Epoch: 40, loss: 0.85505\n",
      "Epoch: 41, loss: 0.82562\n",
      "Epoch: 42, loss: 0.75198\n",
      "Epoch: 43, loss: 0.03411\n",
      "Epoch: 44, loss: 0.03603\n",
      "Epoch: 45, loss: 0.03661\n",
      "Epoch: 46, loss: 0.03635\n",
      "Epoch: 47, loss: 0.03573\n",
      "Epoch: 48, loss: 0.03603\n",
      "Epoch: 49, loss: 0.03652\n",
      "Epoch: 50, loss: 0.03748\n",
      "Epoch: 51, loss: 0.03596\n",
      "Epoch: 52, loss: 0.03622\n",
      "Epoch: 53, loss: 0.03441\n",
      "Epoch: 54, loss: 0.03500\n",
      "Epoch: 55, loss: 0.97099\n",
      "Epoch: 56, loss: 0.03105\n",
      "Epoch: 57, loss: 0.03012\n",
      "Epoch: 58, loss: 0.02736\n",
      "Epoch: 59, loss: 0.02743\n",
      "Epoch: 60, loss: 0.02463\n",
      "Epoch: 61, loss: 0.02475\n",
      "Epoch: 62, loss: 0.02394\n",
      "Epoch: 63, loss: 0.02328\n",
      "Epoch: 64, loss: 0.02176\n",
      "Epoch: 65, loss: 0.02072\n",
      "Epoch: 66, loss: 0.01909\n",
      "Epoch: 67, loss: 0.01930\n",
      "Epoch: 68, loss: 0.01763\n",
      "Epoch: 69, loss: 0.01651\n",
      "Epoch: 70, loss: 0.01641\n",
      "Epoch: 71, loss: 0.01568\n",
      "Epoch: 72, loss: 0.01366\n",
      "Epoch: 73, loss: 0.01446\n",
      "Epoch: 74, loss: 0.01359\n",
      "Epoch: 75, loss: 0.01241\n",
      "Epoch: 76, loss: 0.01211\n",
      "Epoch: 77, loss: 0.01097\n",
      "Epoch: 78, loss: 0.01108\n",
      "Epoch: 79, loss: 0.01047\n",
      "Epoch: 80, loss: 0.00987\n",
      "Epoch: 81, loss: 0.00884\n",
      "Epoch: 82, loss: 0.00845\n",
      "Epoch: 83, loss: 0.00819\n",
      "Epoch: 84, loss: 0.00792\n",
      "Epoch: 85, loss: 0.00732\n",
      "Epoch: 86, loss: 0.00686\n",
      "Epoch: 87, loss: 0.00648\n",
      "Epoch: 88, loss: 0.00628\n",
      "Epoch: 89, loss: 0.00600\n",
      "Epoch: 90, loss: 0.00607\n",
      "Epoch: 91, loss: 0.00575\n",
      "Epoch: 92, loss: 0.00534\n",
      "Epoch: 93, loss: 0.00493\n",
      "Epoch: 94, loss: 0.00490\n",
      "Epoch: 95, loss: 0.00459\n",
      "Epoch: 96, loss: 0.00438\n",
      "Epoch: 97, loss: 0.00441\n",
      "Epoch: 98, loss: 0.00391\n",
      "Epoch: 99, loss: 0.00418\n",
      "Epoch: 100, loss: 0.00406\n"
     ]
    }
   ],
   "source": [
    "for epoch in range(100):\n",
    "    optimizer.zero_grad()\n",
    "    outputs = model(x_train)\n",
    "    loss = criterion(outputs.view(-1, outputs.shape[-1]), y_train)\n",
    "    loss.backward()\n",
    "    optimizer.step()\n",
    "    #if epoch % 10 == 0:\n",
    "    print(\"Epoch: %d, loss: %1.5f\" % (epoch+1, loss.item()))"
   ]
  },
  {
   "cell_type": "code",
   "execution_count": 365,
   "id": "32979490-db13-47c0-b90e-c7a706462262",
   "metadata": {},
   "outputs": [
    {
     "name": "stdout",
     "output_type": "stream",
     "text": [
      "torch.Size([2, 1])\n"
     ]
    }
   ],
   "source": [
    "predict = model(x_test)\n",
    "print(predict.shape)"
   ]
  },
  {
   "cell_type": "code",
   "execution_count": 366,
   "id": "d71f0657-182b-4cfe-a1e4-7008a834bd30",
   "metadata": {},
   "outputs": [
    {
     "data": {
      "text/plain": [
       "tensor([[0.3360],\n",
       "        [0.0076]], grad_fn=<SigmoidBackward0>)"
      ]
     },
     "execution_count": 366,
     "metadata": {},
     "output_type": "execute_result"
    }
   ],
   "source": [
    "predict"
   ]
  }
 ],
 "metadata": {
  "kernelspec": {
   "display_name": "Python 3 (ipykernel)",
   "language": "python",
   "name": "python3"
  },
  "language_info": {
   "codemirror_mode": {
    "name": "ipython",
    "version": 3
   },
   "file_extension": ".py",
   "mimetype": "text/x-python",
   "name": "python",
   "nbconvert_exporter": "python",
   "pygments_lexer": "ipython3",
   "version": "3.9.7"
  }
 },
 "nbformat": 4,
 "nbformat_minor": 5
}
