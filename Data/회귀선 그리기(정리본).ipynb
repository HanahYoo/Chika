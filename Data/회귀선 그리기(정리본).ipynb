{
 "cells": [
  {
   "cell_type": "code",
   "execution_count": 1,
   "id": "178a9e19-444b-413a-9467-bc141e1f3896",
   "metadata": {},
   "outputs": [
    {
     "name": "stdout",
     "output_type": "stream",
     "text": [
      "C:\\Users\\0105l\\Desktop\\데청캠_모델\\Rhythm-of-Chika-data\\Datasets\\2\\이현지_데이터_01\n"
     ]
    }
   ],
   "source": [
    "cd C:/Users/0105l/Desktop/데청캠_모델/Rhythm-of-Chika-data/Datasets/2/이현지_데이터_01/"
   ]
  },
  {
   "cell_type": "code",
   "execution_count": 4,
   "id": "614b4d79-6931-45e1-a0bb-d6845ed76f0f",
   "metadata": {},
   "outputs": [],
   "source": [
    "gesture_list = ['URF','URB','URO','UMB','UMF','ULF','ULB','ULO','DLB','DLF','DLO','DMB','DMF','DRF','DRB','DRO']"
   ]
  },
  {
   "cell_type": "code",
   "execution_count": 6,
   "id": "395cb524-9fa9-41fd-81e7-dce602a9423e",
   "metadata": {},
   "outputs": [],
   "source": [
    "mean_list = []\n",
    "minmax_scaled = []\n",
    "for gesture in gesture_list:\n",
    "    df = np.load('Right_%s_p_1.npy' % gesture)\n",
    "    \n",
    "    coef = []\n",
    "    for i in range(100, 201):\n",
    "        frame1 = df[i][4][0:2]\n",
    "        frame2 = df[i][8][0:2]\n",
    "        frame3 = df[i][13][0:2]\n",
    "        frame = []\n",
    "        frame.append(frame1)\n",
    "        frame.append(frame2)\n",
    "        frame.append(frame3)\n",
    "\n",
    "        frame = pd.DataFrame(frame, columns= ['x','y'])\n",
    "        X = frame['x']\n",
    "        y = frame['y']\n",
    "        from sklearn.linear_model import LinearRegression\n",
    "        line_fitter = LinearRegression()\n",
    "        line_fitter.fit(X.values.reshape(-1,1), y)\n",
    "        coef.append(line_fitter.coef_)\n",
    "    coef = pd.DataFrame(coef, columns= ['coef'])\n",
    "        \n",
    "    q3=coef['coef'].quantile(0.75)\n",
    "    q1=coef['coef'].quantile(0.25)\n",
    "    iqr=q3-q1\n",
    "    outlier_top=q3+1.5*iqr\n",
    "    outlier_bottom=q1-1.5*iqr\n",
    "\n",
    "    idx=coef[(coef['coef']<outlier_bottom) | (coef['coef']>outlier_top)].index\n",
    "    coef_df=coef.drop(idx)\n",
    "    \n",
    "    coef_mean = coef_df['coef'].mean()\n",
    "    mean_list.append(coef_mean)"
   ]
  },
  {
   "cell_type": "code",
   "execution_count": 7,
   "id": "6e66c220-7af6-495d-9c43-7a8f7a235d51",
   "metadata": {},
   "outputs": [
    {
     "data": {
      "text/plain": [
       "[1.1916085947587907,\n",
       " 1.2835012882841574,\n",
       " 1.0208673607558663,\n",
       " 1.2940002972804463,\n",
       " 1.1567088519034643,\n",
       " 1.2395173644002457,\n",
       " 1.3454209558560086,\n",
       " 1.2288708964769917,\n",
       " 1.4111148727854996,\n",
       " 1.1373177984390532,\n",
       " 1.3529691035043296,\n",
       " 1.5059108431351127,\n",
       " 1.106469355645978,\n",
       " 1.1125293371463278,\n",
       " 1.3740818394736916,\n",
       " 1.2895965722272196]"
      ]
     },
     "execution_count": 7,
     "metadata": {},
     "output_type": "execute_result"
    }
   ],
   "source": [
    "mean_list"
   ]
  },
  {
   "cell_type": "code",
   "execution_count": 9,
   "id": "d19df164-067a-45b6-9bea-3c40142e3baa",
   "metadata": {},
   "outputs": [],
   "source": [
    "# minmax scaler 포함\n",
    "\n",
    "mean_list = []\n",
    "for gesture in gesture_list:\n",
    "    df = np.load('Right_%s_p_1.npy' % gesture)\n",
    "    \n",
    "    coef = []\n",
    "    for i in range(100, 201):\n",
    "        frame1 = df[i][4][0:2]\n",
    "        frame2 = df[i][8][0:2]\n",
    "        frame3 = df[i][13][0:2]\n",
    "        frame = []\n",
    "        frame.append(frame1)\n",
    "        frame.append(frame2)\n",
    "        frame.append(frame3)\n",
    "\n",
    "        frame = pd.DataFrame(frame, columns= ['x','y'])\n",
    "        X = frame['x']\n",
    "        y = frame['y']\n",
    "        from sklearn.linear_model import LinearRegression\n",
    "        line_fitter = LinearRegression()\n",
    "        line_fitter.fit(X.values.reshape(-1,1), y)\n",
    "        coef.append(line_fitter.coef_)\n",
    "    coef = pd.DataFrame(coef, columns= ['coef'])\n",
    "        \n",
    "    q3=coef['coef'].quantile(0.75)\n",
    "    q1=coef['coef'].quantile(0.25)\n",
    "    iqr=q3-q1\n",
    "    outlier_top=q3+1.5*iqr\n",
    "    outlier_bottom=q1-1.5*iqr\n",
    "\n",
    "    idx=coef[(coef['coef']<outlier_bottom) | (coef['coef']>outlier_top)].index\n",
    "    coef_df=coef.drop(idx)\n",
    "    \n",
    "    from sklearn.preprocessing import MinMaxScaler\n",
    "    minmax_scaler = MinMaxScaler(feature_range=(-1,1))\n",
    "    minmax_scaled = minmax_scaler.fit_transform(coef_df)\n",
    "    \n",
    "    coef_mean = pd.DataFrame(minmax_scaled, columns= ['coef'])\n",
    "    coef_mean = coef_mean['coef'].mean()\n",
    "    mean_list.append(coef_mean)"
   ]
  },
  {
   "cell_type": "code",
   "execution_count": 10,
   "id": "48df1430-15c2-4351-ae84-745c755c76da",
   "metadata": {},
   "outputs": [
    {
     "data": {
      "text/plain": [
       "[0.0004502692448278212,\n",
       " -0.11109568318252627,\n",
       " -0.00013335221145582062,\n",
       " 0.16622594702235824,\n",
       " -0.00849857399549465,\n",
       " 0.1437783344391669,\n",
       " -0.001474638606821032,\n",
       " -0.09755835739228388,\n",
       " 0.043541352360562086,\n",
       " -0.1380508978223506,\n",
       " -0.0344136626925419,\n",
       " 0.11136595390024627,\n",
       " -0.07909792545283308,\n",
       " -0.2004543636761981,\n",
       " -0.08509158370487302,\n",
       " 0.09983652874891237]"
      ]
     },
     "execution_count": 10,
     "metadata": {},
     "output_type": "execute_result"
    }
   ],
   "source": [
    "mean_list"
   ]
  }
 ],
 "metadata": {
  "kernelspec": {
   "display_name": "Python 3 (ipykernel)",
   "language": "python",
   "name": "python3"
  },
  "language_info": {
   "codemirror_mode": {
    "name": "ipython",
    "version": 3
   },
   "file_extension": ".py",
   "mimetype": "text/x-python",
   "name": "python",
   "nbconvert_exporter": "python",
   "pygments_lexer": "ipython3",
   "version": "3.9.7"
  }
 },
 "nbformat": 4,
 "nbformat_minor": 5
}
