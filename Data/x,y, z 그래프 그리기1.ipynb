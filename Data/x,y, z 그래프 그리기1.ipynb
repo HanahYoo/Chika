{
 "cells": [
  {
   "cell_type": "code",
   "execution_count": 3,
   "id": "b9864c39",
   "metadata": {},
   "outputs": [],
   "source": [
    "import numpy as np\n",
    "import pandas as pd\n",
    "df = np.load('Right_DLB_p_1.npy')"
   ]
  },
  {
   "cell_type": "code",
   "execution_count": 2,
   "id": "440b851d",
   "metadata": {},
   "outputs": [
    {
     "name": "stdout",
     "output_type": "stream",
     "text": [
      "C:\\Users\\82102\\Datasets\\session 1\n"
     ]
    }
   ],
   "source": [
    "cd C:/Users/82102/Datasets/session 1"
   ]
  },
  {
   "cell_type": "code",
   "execution_count": 7,
   "id": "42aa8606",
   "metadata": {},
   "outputs": [
    {
     "data": {
      "text/plain": [
       "300"
      ]
     },
     "execution_count": 7,
     "metadata": {},
     "output_type": "execute_result"
    }
   ],
   "source": [
    "len(df[:300])"
   ]
  },
  {
   "cell_type": "code",
   "execution_count": 4,
   "id": "802b7884",
   "metadata": {},
   "outputs": [],
   "source": [
    "df_D = pd.DataFrame(df[:300,3,:])\n",
    "df_D = df_D.assign(category = \"first\")\n",
    "df_D = df_D.set_index(['category'])\n",
    "df_D.columns= ['x','y','z']"
   ]
  },
  {
   "cell_type": "code",
   "execution_count": 5,
   "id": "2473de4f",
   "metadata": {},
   "outputs": [],
   "source": [
    "df_E = pd.DataFrame(df[:300,7,:])\n",
    "df_E = df_E.assign(category = \"second\")\n",
    "df_E = df_E.set_index(['category'])\n",
    "df_E.columns= ['x','y','z']"
   ]
  },
  {
   "cell_type": "code",
   "execution_count": 6,
   "id": "9f08fb5c",
   "metadata": {
    "scrolled": true
   },
   "outputs": [],
   "source": [
    "df_F = pd.DataFrame(df[:300,11,:])\n",
    "df_F = df_F.assign(category = \"third\")\n",
    "df_F = df_F.set_index(['category'])\n",
    "df_F.columns= ['x','y','z']"
   ]
  },
  {
   "cell_type": "code",
   "execution_count": 7,
   "id": "2c60c75d",
   "metadata": {},
   "outputs": [],
   "source": [
    "a =[]\n",
    "for i in range(10):\n",
    "     a.append(df_D[30*i:30*(i+1)].mean())"
   ]
  },
  {
   "cell_type": "code",
   "execution_count": 8,
   "id": "7d2a1346",
   "metadata": {},
   "outputs": [],
   "source": [
    "b =[]\n",
    "for i in range(10):\n",
    "     b.append(df_E[30*i:30*(i+1)].mean())"
   ]
  },
  {
   "cell_type": "code",
   "execution_count": 9,
   "id": "f3273bd8",
   "metadata": {},
   "outputs": [],
   "source": [
    "c =[]\n",
    "for i in range(10):\n",
    "     c.append(df_F[30*i:30*(i+1)].mean())"
   ]
  },
  {
   "cell_type": "code",
   "execution_count": 14,
   "id": "56aa8e99",
   "metadata": {},
   "outputs": [],
   "source": [
    "import matplotlib.pyplot as plt\n",
    "%matplotlib inline \n",
    "from mpl_toolkits.mplot3d import Axes3D"
   ]
  },
  {
   "cell_type": "code",
   "execution_count": 22,
   "id": "3fe01cac",
   "metadata": {},
   "outputs": [],
   "source": [
    "x = []\n",
    "y = []\n",
    "z = []\n",
    "for i in range(10):\n",
    "    x.append(a[i][0])\n",
    "    y.append(a[i][1])\n",
    "    z.append(a[i][2])"
   ]
  },
  {
   "cell_type": "code",
   "execution_count": 23,
   "id": "eacb3895",
   "metadata": {},
   "outputs": [],
   "source": [
    "x = np.array(x)\n",
    "y = np.array(y)\n",
    "z = np.array(z)"
   ]
  },
  {
   "cell_type": "code",
   "execution_count": 24,
   "id": "f4a85b2f",
   "metadata": {},
   "outputs": [],
   "source": [
    "x2 = []\n",
    "y2 = []\n",
    "z2 = []\n",
    "for i in range(10):\n",
    "    x2.append(c[i][0])\n",
    "    y2.append(c[i][1])\n",
    "    z2.append(c[i][2])\n",
    "x2 = np.array(x2)\n",
    "y2 = np.array(y2)\n",
    "z2 = np.array(z2)"
   ]
  },
  {
   "cell_type": "code",
   "execution_count": 25,
   "id": "ff9ba70d",
   "metadata": {},
   "outputs": [],
   "source": [
    "x1 = []\n",
    "y1 = []\n",
    "z1 = []\n",
    "for i in range(10):\n",
    "    x1.append(b[i][0])\n",
    "    y1.append(b[i][1])\n",
    "    z1.append(b[i][2])\n",
    "x1 = np.array(x1)\n",
    "y1 = np.array(y1)\n",
    "z1 = np.array(z1)"
   ]
  },
  {
   "cell_type": "code",
   "execution_count": 26,
   "id": "2cb10b6f",
   "metadata": {},
   "outputs": [
    {
     "data": {
      "image/png": "[encoded data removed]",
      "text/plain": [
       "<Figure size 216x216 with 1 Axes>"
      ]
     },
     "metadata": {
      "needs_background": "light"
     },
     "output_type": "display_data"
    }
   ],
   "source": [
    "fig = plt.figure(figsize=(3, 3))\n",
    "ax = fig.add_subplot(111, projection='3d')\n",
    "ax.scatter(x, y, z, marker='o', s=10, c='blue')\n",
    "ax.scatter(x1,y1,z1, marker='o', s=10, c='orange')\n",
    "ax.scatter(x2,y2,z2, marker='o', s=10, c='darkgreen')\n",
    "plt.show()"
   ]
  },
  {
   "cell_type": "code",
   "execution_count": 97,
   "id": "abcb8df3",
   "metadata": {},
   "outputs": [],
   "source": [
    "da1 = pd.DataFrame([[a[0][0],a[0][1],a[0][2]]], columns=['x','y','z'])\n",
    "da2 = pd.DataFrame([[b[0][0],b[0][1],b[0][2]]], columns=['x','y','z'])\n",
    "da3 = pd.DataFrame([[c[0][0],c[0][1],c[0][2]]], columns=['x','y','z'])"
   ]
  },
  {
   "cell_type": "code",
   "execution_count": 99,
   "id": "441a8aaa",
   "metadata": {},
   "outputs": [],
   "source": [
    "da = pd.concat([da1,da2,da3])"
   ]
  },
  {
   "cell_type": "code",
   "execution_count": 109,
   "id": "41237fbb",
   "metadata": {},
   "outputs": [
    {
     "data": {
      "image/png": "[encoded data removed]",
      "text/plain": [
       "<Figure size 432x288 with 1 Axes>"
      ]
     },
     "metadata": {
      "needs_background": "light"
     },
     "output_type": "display_data"
    }
   ],
   "source": [
    "fig = plt.figure()\n",
    "ax = fig.add_subplot(111, projection='3d')\n",
    "X = da[['x', 'y', 'z']].values\n",
    "Xlen = X.shape[0]\n",
    "avgPointCloud = 1 / Xlen * np.array([np.sum(X[:, 0]), np.sum(X[:, 1]), np.sum(X[:, 2])])\n",
    "Xmean = X - avgPointCloud\n",
    "\n",
    "cov = 1 / Xlen * X.T.dot(Xmean)\n",
    "\n",
    "t = np.arange(-10, 10, 1)\n",
    "linearReg = avgPointCloud + cov[:, 0] * np.vstack(t)\n",
    "\n",
    "ax.scatter(da['x'],da['y'],da['z'])\n",
    "ax.plot(linearReg[:, 0], linearReg[:, 1], linearReg[:, 2], 'r', label='Linear Regression')\n",
    "ax.legend()\n",
    "\n",
    "plt.show()"
   ]
  },
  {
   "cell_type": "code",
   "execution_count": 112,
   "id": "0a473b71",
   "metadata": {},
   "outputs": [
    {
     "data": {
      "text/plain": [
       "array([[0.45863189, 0.52547029, 0.55521871],\n",
       "       [0.47867845, 0.53820051, 0.56120641],\n",
       "       [0.49872501, 0.55093073, 0.56719411],\n",
       "       [0.51877156, 0.56366095, 0.57318181],\n",
       "       [0.53881812, 0.57639116, 0.57916951],\n",
       "       [0.55886467, 0.58912138, 0.58515721],\n",
       "       [0.57891123, 0.6018516 , 0.59114492],\n",
       "       [0.59895779, 0.61458182, 0.59713262],\n",
       "       [0.61900434, 0.62731203, 0.60312032],\n",
       "       [0.6390509 , 0.64004225, 0.60910802],\n",
       "       [0.65909746, 0.65277247, 0.61509572],\n",
       "       [0.67914401, 0.66550269, 0.62108342],\n",
       "       [0.69919057, 0.67823291, 0.62707112],\n",
       "       [0.71923712, 0.69096312, 0.63305882],\n",
       "       [0.73928368, 0.70369334, 0.63904652],\n",
       "       [0.75933024, 0.71642356, 0.64503422],\n",
       "       [0.77937679, 0.72915378, 0.65102192],\n",
       "       [0.79942335, 0.74188399, 0.65700962],\n",
       "       [0.81946991, 0.75461421, 0.66299732],\n",
       "       [0.83951646, 0.76734443, 0.66898502]])"
      ]
     },
     "execution_count": 112,
     "metadata": {},
     "output_type": "execute_result"
    }
   ],
   "source": [
    "linearReg"
   ]
  },
  {
   "cell_type": "code",
   "execution_count": 111,
   "id": "801a5f23",
   "metadata": {},
   "outputs": [
    {
     "data": {
      "text/plain": [
       "array([0.52547029, 0.53820051, 0.55093073, 0.56366095, 0.57639116,\n",
       "       0.58912138, 0.6018516 , 0.61458182, 0.62731203, 0.64004225,\n",
       "       0.65277247, 0.66550269, 0.67823291, 0.69096312, 0.70369334,\n",
       "       0.71642356, 0.72915378, 0.74188399, 0.75461421, 0.76734443])"
      ]
     },
     "execution_count": 111,
     "metadata": {},
     "output_type": "execute_result"
    }
   ],
   "source": [
    "linearReg[:, 1]"
   ]
  },
  {
   "cell_type": "code",
   "execution_count": 32,
   "id": "66fb59db",
   "metadata": {},
   "outputs": [
    {
     "name": "stdout",
     "output_type": "stream",
     "text": [
      "C:\\Users\\82102\\Datasets\n"
     ]
    }
   ],
   "source": [
    "cd C:/Users/82102/Datasets"
   ]
  },
  {
   "cell_type": "code",
   "execution_count": 37,
   "id": "442f87b6",
   "metadata": {},
   "outputs": [],
   "source": [
    "import cv2\n",
    "img = cv2.imread('KakaoTalk_20220810_164747987.jpg')\n",
    "img = cv2.resize(img,(640,480))"
   ]
  },
  {
   "cell_type": "code",
   "execution_count": 15,
   "id": "d1ae9237",
   "metadata": {},
   "outputs": [],
   "source": [
    "cv2.line(img,(336,220),(491,403),(0,0,255))\n",
    "cv2.imshow('Line',img)\n",
    "cv2.waitKey()\n",
    "cv2.destroyAllWindows()"
   ]
  },
  {
   "cell_type": "code",
   "execution_count": 40,
   "id": "d25b5e84",
   "metadata": {},
   "outputs": [],
   "source": [
    "cv2.imshow('img',img)\n",
    "cv2.waitKey()\n",
    "cv2.destroyAllWindows()"
   ]
  },
  {
   "cell_type": "code",
   "execution_count": null,
   "id": "66ae4dc3",
   "metadata": {},
   "outputs": [],
   "source": []
  }
 ],
 "metadata": {
  "kernelspec": {
   "display_name": "Python 3 (ipykernel)",
   "language": "python",
   "name": "python3"
  },
  "language_info": {
   "codemirror_mode": {
    "name": "ipython",
    "version": 3
   },
   "file_extension": ".py",
   "mimetype": "text/x-python",
   "name": "python",
   "nbconvert_exporter": "python",
   "pygments_lexer": "ipython3",
   "version": "3.9.12"
  }
 },
 "nbformat": 4,
 "nbformat_minor": 5
}
