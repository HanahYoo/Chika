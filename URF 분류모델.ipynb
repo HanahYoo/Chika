{
 "cells": [
  {
   "cell_type": "code",
   "execution_count": 1,
   "id": "9029f06b",
   "metadata": {},
   "outputs": [],
   "source": [
    "import torch\n",
    "from torch.utils.data import Dataset, DataLoader, random_split\n",
    "import pandas as pd\n",
    "import numpy as np\n",
    "import torch.nn as nn\n",
    "import os\n",
    "import matplotlib.pyplot as plt\n",
    "from sklearn.preprocessing import StandardScaler\n",
    "from sklearn.metrics import accuracy_score"
   ]
  },
  {
   "cell_type": "code",
   "execution_count": 2,
   "id": "12dae837",
   "metadata": {},
   "outputs": [
    {
     "name": "stdout",
     "output_type": "stream",
     "text": [
      "C:\\Users\\82102\\Desktop\\Datasets(Right)\\Datasets(Right) 최종\n"
     ]
    }
   ],
   "source": [
    "cd C:\\Users\\82102\\Desktop\\Datasets(Right)\\Datasets(Right) 최종"
   ]
  },
  {
   "cell_type": "code",
   "execution_count": 3,
   "id": "5765005c",
   "metadata": {},
   "outputs": [],
   "source": [
    "def distance(x1, y1, x2, y2):       # 기울기 공식 \n",
    "    m = (y2-y1) / (x2-x1)\n",
    "    return m"
   ]
  },
  {
   "cell_type": "code",
   "execution_count": 4,
   "id": "76992aab",
   "metadata": {},
   "outputs": [],
   "source": [
    "def Coefficient(df):       #기울기 구하는 함수 정의 \n",
    "    coef = []\n",
    "    for i in range(49, 351):                # 400프레임 중 앞 뒤 50프레임 자르기 \n",
    "        frame1 = df[i][gradlab1][0:2]\n",
    "        frame2 = df[i][gradlab2][0:2]\n",
    "        coef.append(distance(frame1[0], frame1[1], frame2[0], frame2[1]))  # 기울기 구하기 \n",
    "    coef = pd.DataFrame(coef, columns= ['coef'])\n",
    "    \n",
    "    q3=coef['coef'].quantile(0.75)             #IQR 이상치 변환\n",
    "    q1=coef['coef'].quantile(0.25)              \n",
    "    iqr=q3-q1 \n",
    "    outlier_top=q3+1.5*iqr\n",
    "    outlier_bottom=q1-1.5*iqr\n",
    "    idx=coef[(coef['coef']<outlier_bottom) | (coef['coef']>outlier_top)].index\n",
    "    \n",
    "    idx_list=[]               \n",
    "    for i in idx:\n",
    "        idx_list.append(str(i))\n",
    "    idx_list.append('end')\n",
    "\n",
    "    idx_string = ' '.join(idx_list)\n",
    "    idx_string_split = idx_string.split('end')\n",
    "    outlier_str = idx_string_split[0].strip()\n",
    "    outlier = list(map(int, outlier_str.split(' ')[:-1]))\n",
    "\n",
    "    for i in range(len(coef)-1):\n",
    "        if i in outlier:\n",
    "            if i == 0:\n",
    "                continue\n",
    "            elif i != (len(coef)-1):\n",
    "                coef['coef'][i] = (coef['coef'][i-1] + coef['coef'][i+1])/2\n",
    "            else:\n",
    "                break\n",
    "                \n",
    "    coef = np.array(coef)[1:301]\n",
    "    \n",
    "    return coef\n"
   ]
  },
  {
   "cell_type": "code",
   "execution_count": 5,
   "id": "64139fea",
   "metadata": {},
   "outputs": [],
   "source": [
    "def Acceleration(pos_1, array_1, acclab):              # 가속도 이상치 제거 함수 정의 \n",
    "    df = pd.DataFrame(array_1[:,acclab,:], columns=['x','y','z'])\n",
    "    idx_list=[]\n",
    "    for i in ['x','y','z']:              \n",
    "        q3=df[i].quantile(0.75)\n",
    "        q1=df[i].quantile(0.25)\n",
    "        iqr=q3-q1\n",
    "        outlier_top=q3+1.5*iqr\n",
    "        outlier_bottom=q1-1.5*iqr\n",
    "\n",
    "        idx=df[(df[i]<outlier_bottom) | (df[i]>outlier_top)].index\n",
    "        for i in idx:\n",
    "            idx_list.append(str(i))\n",
    "        idx_list.append('end')\n",
    "    \n",
    "    idx_string = ' '.join(idx_list)\n",
    "    idx_string_split = idx_string.split('end')\n",
    "    x_outlier_str = idx_string_split[0].strip()\n",
    "    y_outlier_str = idx_string_split[1].strip()\n",
    "    x_outlier = list(map(int, x_outlier_str.split(' ')[:-1]))\n",
    "    y_outlier = list(map(int, y_outlier_str.split(' ')[:-1]))\n",
    "    \n",
    "    acc_1_parsed = array_1[:,acclab,:]\n",
    "    for i in range(len(pos_1)-1):\n",
    "        if i in x_outlier:\n",
    "            acc_1_parsed[i][0] = (acc_1_parsed[i-1][0] + acc_1_parsed[i+1][0])/2 \n",
    "        if i in y_outlier:\n",
    "            acc_1_parsed[i][2] = (acc_1_parsed[i-1][2] + acc_1_parsed[i+1][2])/2 \n",
    "       \n",
    "    final_df = pd.DataFrame(acc_1_parsed, columns = ['x','y','z'])\n",
    "    acc_array = StandardScaler().fit_transform(final_df)         # 가속도 정규 표준화 \n",
    "    acc_array = acc_array[49:349,:]\n",
    "    return acc_array[:,:2]"
   ]
  },
  {
   "cell_type": "code",
   "execution_count": 6,
   "id": "48bd2929-4bcb-4a48-8ce2-bd3b73633171",
   "metadata": {},
   "outputs": [],
   "source": [
    "def preprocessing(gesture):             # 정답데이터 셋 구성 \n",
    "    data2 = np.zeros((1,300,6))\n",
    "    for i in range(1, num_session+1):\n",
    "        data = np.zeros((300,1))\n",
    "        pos = np.load('%s_%s_p_%d.npy' % (hand, gesture, i))  # 위치데이터 로드\n",
    "        acc = np.load('%s_%s_a_%d.npy' % (hand, gesture, i))  # 가속도데이터 로드\n",
    "        acc1 = Acceleration(pos, acc, acclab1)    # 첫 번재 랜드마크 가속도 데이터       \n",
    "        acc2 = Acceleration(pos, acc, acclab2)    # 두 번째 랜드마크 가속도 데이터\n",
    "        coef = Coefficient(pos)       # 기울기 데이터 (랜드마크 이은)\n",
    "        if gesture == right_gesture:\n",
    "            label = np.ones((300,1))\n",
    "        else:\n",
    "            label = np.zeros((300,1))\n",
    "        data = np.hstack((data,acc1,acc2,coef,label))\n",
    "        data = data[:, 1:].reshape((1,300,6))\n",
    "        data2 = np.vstack((data2,data))\n",
    "        \n",
    "    return data2[1:]"
   ]
  },
  {
   "cell_type": "code",
   "execution_count": 7,
   "id": "97832cee-8a95-4103-b556-486f7f78690c",
   "metadata": {},
   "outputs": [],
   "source": [
    "import random # 랜덤시드 바꿔보기\n",
    "random.seed(256)\n",
    "num_session2 = 25\n",
    "def preprocessing2(right_gesture):    # 오류데이터 셋 구성 \n",
    "    data2 = np.zeros((1,300,6))\n",
    "    for j in (gesture_list):\n",
    "        if j == right_gesture:\n",
    "            gesture_list.remove(j)\n",
    "            print(gesture_list)\n",
    "    for i in range(1, num_session2+1):\n",
    "        gesture_choice = random.choice(gesture_list)\n",
    "        data = np.zeros((300,1))\n",
    "        pos = np.load('%s_%s_p_%d.npy' % (hand, gesture_choice, i))\n",
    "        acc = np.load('%s_%s_a_%d.npy' % (hand, gesture_choice, i))\n",
    "        acc1 = Acceleration(pos, acc, acclab1)\n",
    "        acc2 = Acceleration(pos, acc, acclab2)\n",
    "        coef = Coefficient(pos)\n",
    "        \n",
    "        label = np.zeros((300,1))\n",
    "        \n",
    "        data = np.hstack((data,acc1,acc2,coef,label))\n",
    "        data = data[:, 1:].reshape((1,300,6))\n",
    "        data2 = np.vstack((data2,data))\n",
    "    \n",
    "    return data2[1:]"
   ]
  },
  {
   "cell_type": "code",
   "execution_count": 8,
   "id": "6dbd941b",
   "metadata": {},
   "outputs": [],
   "source": [
    "num_session = 100      \n",
    "gesture_list = ['URF','UMF','ULF','DLF','DMF','DRF','URB','UMB','ULB','DLB','DMB','DRB','URO','ULO','DLO','DRO']\n",
    "right_gesture = gesture_list[0]   #정답 영역 선택\n",
    "hand = 'Right'   # 왼손 오른손 선택 \n",
    "\n",
    "# 랜드마크 지정 \n",
    "acclab1 = 0\n",
    "acclab2 = 5\n",
    "gradlab1 = 8\n",
    "gradlab2 = 12"
   ]
  },
  {
   "cell_type": "code",
   "execution_count": 9,
   "id": "eeca63c0-db9a-486f-9a99-503b4b9221a2",
   "metadata": {},
   "outputs": [
    {
     "name": "stdout",
     "output_type": "stream",
     "text": [
      "['UMF', 'ULF', 'DLF', 'DMF', 'DRF', 'URB', 'UMB', 'ULB', 'DLB', 'DMB', 'DRB', 'URO', 'ULO', 'DLO', 'DRO']\n"
     ]
    }
   ],
   "source": [
    "target_data = preprocessing('URF')\n",
    "error_data = preprocessing2('URF')"
   ]
  },
  {
   "cell_type": "code",
   "execution_count": 10,
   "id": "0546b55d-c465-438f-8c85-22af508085be",
   "metadata": {},
   "outputs": [
    {
     "data": {
      "text/plain": [
       "((100, 300, 6), (25, 300, 6))"
      ]
     },
     "execution_count": 10,
     "metadata": {},
     "output_type": "execute_result"
    }
   ],
   "source": [
    "target_data.shape, error_data.shape"
   ]
  },
  {
   "cell_type": "code",
   "execution_count": 11,
   "id": "556bbbf3-03ca-450f-82bd-7c763a5dca41",
   "metadata": {},
   "outputs": [
    {
     "data": {
      "text/plain": [
       "(125, 300, 6)"
      ]
     },
     "execution_count": 11,
     "metadata": {},
     "output_type": "execute_result"
    }
   ],
   "source": [
    "data = np.vstack((target_data, error_data))     # 정답데이터 셋 + 오류데이터 셋 = 활용할 데이터 셋 \n",
    "data.shape"
   ]
  },
  {
   "cell_type": "code",
   "execution_count": 12,
   "id": "48794343",
   "metadata": {},
   "outputs": [],
   "source": [
    "np.save('data_URF.npy', data)"
   ]
  },
  {
   "cell_type": "code",
   "execution_count": 13,
   "id": "6bf35771",
   "metadata": {},
   "outputs": [],
   "source": [
    "class CustomDataset(Dataset):        # 데이터 불러오기 \n",
    "    def __init__(self, file_name, transform=None,  target_transform=None):\n",
    "        df = np.load(file_name)\n",
    "        self.x_data = df[:,:,:-1]  # feature \n",
    "        self.y_data = df[:,:,-1]   # label \n",
    "        \n",
    "\n",
    "    def __getitem__(self, idx):\n",
    "        x_data = torch.FloatTensor([self.x_data[idx]])\n",
    "        y_data = torch.Tensor(self.y_data[idx])\n",
    "        \n",
    "        return x_data, y_data\n",
    "        \n",
    "    def __len__(self):\n",
    "        return len(self.x_data) #데이터셋 크기 리턴\n",
    "               \n",
    "        #i번째 샘플을 찾는데 사용됨. "
   ]
  },
  {
   "cell_type": "code",
   "execution_count": 14,
   "id": "5a210653",
   "metadata": {},
   "outputs": [],
   "source": [
    "dataset = CustomDataset('data_URF.npy')\n",
    "dataset_size = len(dataset)\n",
    "train_size = int(dataset_size * 0.8)     # 훈련데이터\n",
    "validation_size = int(dataset_size * 0.1)   # 검증데이터\n",
    "test_size = dataset_size - train_size - validation_size  # 테스트 데이터 \n",
    "train_dataset, val_dataset, test_dataset = random_split(dataset, [train_size, validation_size, test_size]) # session 기준으로 randomsplit"
   ]
  },
  {
   "cell_type": "code",
   "execution_count": 15,
   "id": "63b08c54-f14d-4dd1-a52d-af66a2e9deb6",
   "metadata": {},
   "outputs": [],
   "source": [
    "train_dataloader = DataLoader(train_dataset, shuffle=True)\n",
    "val_dataloader = DataLoader(val_dataset, shuffle = True)\n",
    "test_dataloader = DataLoader(test_dataset, shuffle = True)"
   ]
  },
  {
   "cell_type": "code",
   "execution_count": 16,
   "id": "6e5752f5",
   "metadata": {},
   "outputs": [],
   "source": [
    "train_dataloader = DataLoader(train_dataset, batch_size=10, shuffle=True)\n",
    "val_dataloader = DataLoader(val_dataset, batch_size=validation_size, shuffle = True)\n",
    "test_dataloader = DataLoader(test_dataset, batch_size=test_size, shuffle = True)"
   ]
  },
  {
   "cell_type": "code",
   "execution_count": 17,
   "id": "9aecca48-0270-4952-82e8-cf0ff82d26eb",
   "metadata": {},
   "outputs": [
    {
     "data": {
      "text/plain": [
       "(torch.Size([10, 300, 5]), torch.Size([10, 1]))"
      ]
     },
     "execution_count": 17,
     "metadata": {},
     "output_type": "execute_result"
    }
   ],
   "source": [
    "train_x, train_y = next(iter(train_dataloader))\n",
    "train_x = train_x.squeeze(dim=1)\n",
    "train_y = train_y[:,-1].unsqueeze(dim=1)\n",
    "train_x.size(), train_y.size()"
   ]
  },
  {
   "cell_type": "code",
   "execution_count": 18,
   "id": "cdf15a95",
   "metadata": {},
   "outputs": [],
   "source": [
    "input_size= 5\n",
    "hidden_size = 32 \n",
    "num_layers = 2\n",
    "dropout_rate= 0.5\n",
    "num_classes = 1"
   ]
  },
  {
   "cell_type": "code",
   "execution_count": 19,
   "id": "5a01b99d",
   "metadata": {},
   "outputs": [],
   "source": [
    "class LSTM_Chicka(nn.Module):\n",
    "    def __init__(self, num_classes, input_size, hidden_size, num_layers, dropout_rate):\n",
    "        super(LSTM_Chicka,self).__init__()\n",
    "        self.num_classes = num_classes #number of classes\n",
    "        self.num_layers = num_layers  #layers\n",
    "        self.input_size = input_size #input size\n",
    "        self.hidden_size = hidden_size #hidden state\n",
    "        self.dropout_rate = dropout_rate  #dropout_rate\n",
    "        self.lstm =  nn.LSTM(input_size = input_size, hidden_size = hidden_size, num_layers = num_layers, dropout = dropout_rate, batch_first = True)\n",
    "        self.layer_out = nn.Linear(hidden_size, num_classes) \n",
    "        self.sigmoid = nn.Sigmoid()  #이중분류 시 sigmoid 함수 활용\n",
    "        \n",
    "    def forward(self,x):\n",
    "        out, _status = self.lstm(x)\n",
    "        out = self.layer_out(out[:, -1]) \n",
    "        out = self.sigmoid(out)\n",
    "\n",
    "        return out"
   ]
  },
  {
   "cell_type": "code",
   "execution_count": 20,
   "id": "2b975c9b",
   "metadata": {},
   "outputs": [],
   "source": [
    "model = LSTM_Chicka(num_classes, input_size, hidden_size, num_layers, dropout_rate)\n",
    "criterion = torch.nn.BCELoss()     #이중분류시 사용하는 binarycrossentropy 손실함수 사용 \n",
    "optimizer = torch.optim.Adam(model.parameters(), lr=0.01)  # Adam 제일 성능이 좋았음  / 보류 (미정)\n",
    "scheduler = torch.optim.lr_scheduler.ReduceLROnPlateau(optimizer= optimizer)"
   ]
  },
  {
   "cell_type": "code",
   "execution_count": 21,
   "id": "cbde117c",
   "metadata": {},
   "outputs": [
    {
     "data": {
      "text/plain": [
       "(torch.Size([12, 300, 5]), torch.Size([12, 1]))"
      ]
     },
     "execution_count": 21,
     "metadata": {},
     "output_type": "execute_result"
    }
   ],
   "source": [
    "val_x, val_y = next(iter(val_dataloader))\n",
    "val_x = val_x.squeeze(dim=1)\n",
    "val_y = val_y[:,-1].unsqueeze(dim=1)\n",
    "val_x.size(), val_y.size()"
   ]
  },
  {
   "cell_type": "code",
   "execution_count": 22,
   "id": "884e024c",
   "metadata": {},
   "outputs": [],
   "source": [
    "train_iterations = []\n",
    "train_losses = []\n",
    "val_iterations = []\n",
    "val_losses = []\n",
    "train_accuracy_final = []\n",
    "accuracy_final = []"
   ]
  },
  {
   "cell_type": "code",
   "execution_count": 23,
   "id": "6f985021",
   "metadata": {},
   "outputs": [],
   "source": [
    "def train(num_epochs):\n",
    "\n",
    "    print(\"Begin training...\") \n",
    "    for epoch in range(1, num_epochs+1): \n",
    "        running_train_loss = 0.0 \n",
    "        running_accuracy = 0.0 \n",
    "        running_vall_loss = 0.0 \n",
    "        total = 0 \n",
    "        train_running_accuracy = 0.0\n",
    "         # Training Loop \n",
    "        for data in train_dataloader: \n",
    "            inputs, outputs = data  # get the input and real species as outputs; data is a list of [inputs, outputs] \n",
    "            inputs = inputs.squeeze(dim=1)\n",
    "            outputs = outputs[:,-1].unsqueeze(dim=1)\n",
    "            optimizer.zero_grad()   # zero the parameter gradients          \n",
    "            predicted_outputs = model(inputs)   # predict output from the model \n",
    "            train_loss = criterion(predicted_outputs, outputs)   # calculate loss for the predicted output  \n",
    "            train_loss.backward()   # backpropagate the loss \n",
    "            optimizer.step()        # adjust parameters based on the calculated gradients \n",
    "            running_train_loss +=train_loss.item()  # track the loss value \n",
    "            train_predicted = predicted_outputs.detach().numpy()\n",
    "            train_predicted = np.round(train_predicted)                   # 임계값 0.5 기준으로 0.5이상이면 1, 이하이면 0 \n",
    "            train_accuracy = (accuracy_score(train_predicted, outputs))\n",
    "            total += outputs.size(0) \n",
    "            train_running_accuracy += train_accuracy.sum().item()\n",
    "            \n",
    "        # Calculate training loss value / accuracy\n",
    "        train_loss_value = running_train_loss/len(train_dataloader)\n",
    "        train_iterations.append(epoch)\n",
    "        train_losses.append(train_loss_value)\n",
    "        train_accuracy_final.append(100 * train_running_accuracy / total) \n",
    "            \n",
    "        # Validation Loop \n",
    "        with torch.no_grad(): \n",
    "            model.eval() \n",
    "            for data in val_dataloader: \n",
    "                inputs, outputs = data\n",
    "                inputs = inputs.squeeze(dim=1)\n",
    "                outputs = outputs[:,-1].unsqueeze(dim=1)\n",
    "                predicted_outputs = model(inputs)\n",
    "                val_loss = criterion(predicted_outputs, outputs) \n",
    "                \n",
    "                predicted = predicted_outputs.detach().numpy()\n",
    "                predicted = np.round(predicted)                   # 임계값 0.5 기준으로 0.5이상이면 1, 이하이면 0 \n",
    "                accuracy = (accuracy_score(predicted, outputs))\n",
    "                \n",
    "                running_vall_loss += val_loss.item()  \n",
    "                total += outputs.size(0) \n",
    "                running_accuracy += accuracy.sum().item() \n",
    "        \n",
    "        # Calculate validation loss value \n",
    "        val_loss_value = running_vall_loss/len(val_dataloader) \n",
    "        val_iterations.append(epoch)\n",
    "        val_losses.append(val_loss_value)        \n",
    "        # Calculate accuracy as the number of correct predictions in the validation batch divided by the total number of predictions done.  \n",
    "        accuracy_final.append(100 * running_accuracy / total) \n",
    "         \n",
    "        # Print the statistics of the epoch \n",
    "        print('Completed training batch', epoch, 'Training Loss is: %.4f' %train_loss_value, 'Validation Loss is: %.4f' %val_loss_value)"
   ]
  },
  {
   "cell_type": "code",
   "execution_count": 24,
   "id": "daa2a06b",
   "metadata": {},
   "outputs": [
    {
     "name": "stdout",
     "output_type": "stream",
     "text": [
      "Begin training...\n",
      "Completed training batch 1 Training Loss is: 0.5368 Validation Loss is: 0.4857\n",
      "Completed training batch 2 Training Loss is: 0.4822 Validation Loss is: 0.4965\n",
      "Completed training batch 3 Training Loss is: 0.4544 Validation Loss is: 0.5082\n",
      "Completed training batch 4 Training Loss is: 0.4528 Validation Loss is: 0.8595\n",
      "Completed training batch 5 Training Loss is: 0.5427 Validation Loss is: 0.4662\n",
      "Completed training batch 6 Training Loss is: 0.4751 Validation Loss is: 0.4410\n",
      "Completed training batch 7 Training Loss is: 0.4792 Validation Loss is: 0.4412\n",
      "Completed training batch 8 Training Loss is: 0.4735 Validation Loss is: 0.4459\n",
      "Completed training batch 9 Training Loss is: 0.4717 Validation Loss is: 0.4463\n",
      "Completed training batch 10 Training Loss is: 0.4722 Validation Loss is: 0.4461\n",
      "Completed training batch 11 Training Loss is: 0.4722 Validation Loss is: 0.4444\n",
      "Completed training batch 12 Training Loss is: 0.4731 Validation Loss is: 0.4454\n",
      "Completed training batch 13 Training Loss is: 0.4750 Validation Loss is: 0.4507\n",
      "Completed training batch 14 Training Loss is: 0.4718 Validation Loss is: 0.4519\n",
      "Completed training batch 15 Training Loss is: 0.4709 Validation Loss is: 0.4500\n",
      "Completed training batch 16 Training Loss is: 0.4721 Validation Loss is: 0.4475\n",
      "Completed training batch 17 Training Loss is: 0.4717 Validation Loss is: 0.4481\n",
      "Completed training batch 18 Training Loss is: 0.4704 Validation Loss is: 0.4506\n",
      "Completed training batch 19 Training Loss is: 0.4720 Validation Loss is: 0.4537\n",
      "Completed training batch 20 Training Loss is: 0.4719 Validation Loss is: 0.4516\n"
     ]
    }
   ],
   "source": [
    "train(20)"
   ]
  },
  {
   "cell_type": "code",
   "execution_count": 25,
   "id": "c1f2c8f0",
   "metadata": {},
   "outputs": [
    {
     "data": {
      "image/png": "[encoded data removed]",
      "text/plain": [
       "<Figure size 432x288 with 1 Axes>"
      ]
     },
     "metadata": {
      "needs_background": "light"
     },
     "output_type": "display_data"
    }
   ],
   "source": [
    "plt.plot(range(1, len(train_iterations)+1), train_losses, color='r')\n",
    "plt.plot(range(1, len(val_iterations)+1), val_losses, color='b')\n",
    "plt.xlabel('epochs')\n",
    "plt.ylabel('loss')\n",
    "plt.xlim(0, len(train_iterations)+1) # 일정한 scale\n",
    "plt.grid(True)\n",
    "plt.tight_layout()\n",
    "plt.show()"
   ]
  },
  {
   "cell_type": "code",
   "execution_count": 26,
   "id": "f0bf1527-3505-41ff-b6ac-d5a742351dcb",
   "metadata": {},
   "outputs": [
    {
     "data": {
      "image/png": "[encoded data removed]",
      "text/plain": [
       "<Figure size 432x288 with 1 Axes>"
      ]
     },
     "metadata": {
      "needs_background": "light"
     },
     "output_type": "display_data"
    }
   ],
   "source": [
    "plt.plot(range(1, len(train_iterations)+1), train_accuracy_final , color='r')\n",
    "plt.plot(range(1, len(val_iterations)+1), accuracy_final , color='b')\n",
    "plt.xlabel('epochs')\n",
    "plt.ylabel('accuarcy')\n",
    "plt.xlim(0, len(train_iterations)+1) # 일정한 scale\n",
    "plt.grid(True)\n",
    "plt.tight_layout()\n",
    "plt.show()"
   ]
  },
  {
   "cell_type": "code",
   "execution_count": null,
   "id": "4e45affa",
   "metadata": {},
   "outputs": [],
   "source": []
  }
 ],
 "metadata": {
  "kernelspec": {
   "display_name": "Python 3 (ipykernel)",
   "language": "python",
   "name": "python3"
  },
  "language_info": {
   "codemirror_mode": {
    "name": "ipython",
    "version": 3
   },
   "file_extension": ".py",
   "mimetype": "text/x-python",
   "name": "python",
   "nbconvert_exporter": "python",
   "pygments_lexer": "ipython3",
   "version": "3.9.12"
  }
 },
 "nbformat": 4,
 "nbformat_minor": 5
}
