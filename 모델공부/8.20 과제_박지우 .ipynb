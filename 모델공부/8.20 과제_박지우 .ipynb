{
 "cells": [
  {
   "cell_type": "code",
   "execution_count": 22,
   "id": "08acf092",
   "metadata": {},
   "outputs": [],
   "source": [
    "import torch\n",
    "from torch.utils.data import Dataset\n",
    "from torchvision import datasets\n",
    "from torchvision.transforms import ToTensor"
   ]
  },
  {
   "cell_type": "code",
   "execution_count": 27,
   "id": "4cc72aa4",
   "metadata": {},
   "outputs": [],
   "source": [
    "train_data = datasets.FashionMNIST(\n",
    "               root='C:/Users/82102',\n",
    "               train=True\n",
    "                ,download=True\n",
    "                 ,transform=ToTensor()\n",
    ")\n",
    "test_data = datasets.FashionMNIST(\n",
    "               root='C:/Users/82102',\n",
    "               train=False\n",
    "                ,download=True\n",
    "                 ,transform=ToTensor()\n",
    ")\n",
    "\n",
    "# root는 학습/ 테스트 데이터 저장되는 경로 \n",
    "# train : 학습용 테스트 용 데이터셋 여부 \n",
    "# transform : 피처와 레이블 변형 "
   ]
  },
  {
   "cell_type": "code",
   "execution_count": 28,
   "id": "f21a47df",
   "metadata": {},
   "outputs": [],
   "source": [
    "labels_map = {\n",
    "    0: \"T-Shirt\",\n",
    "    1: \"Trouser\",\n",
    "    2: \"Pullover\",\n",
    "    3: \"Dress\",\n",
    "    4: \"Coat\",\n",
    "    5: \"Sandal\",\n",
    "    6: \"Shirt\",\n",
    "    7: \"Sneaker\",\n",
    "    8: \"Bag\",\n",
    "    9: \"Ankle Boot\",\n",
    "}"
   ]
  },
  {
   "cell_type": "code",
   "execution_count": 30,
   "id": "0376bc16",
   "metadata": {},
   "outputs": [],
   "source": [
    "# 사용자 정의 데이터셋 만들기\n",
    "import os \n",
    "import pandas as pd \n",
    "from torchvision.io import read_image\n",
    "# init, len, get item 꼭 구현해야 한다 \n",
    "class WooImageDataset(Dataset):\n",
    "    def __init__(self, annotations_file, img_dir, transform=None, target_transform=None):\n",
    "        self.img_labels = pd.read_csv(annotation_file, names=['file_name','label']) # label과 이미지 파일 별도로 저장\n",
    "        self.img_dir = img_dir\n",
    "        self.transform = transform\n",
    "        self.target_transform = target_transform\n",
    "    \n",
    "    def __len__(self):\n",
    "        return len(self.img_labels)    # 총 데이터의 개수를 알 수 있다 \n",
    "    \n",
    "    def __getitem__(self, idx):\n",
    "        img_path = os.path.join(self.img_dir, self.img_labels.iloc[idx,0])  # 이미지 파일 경로 파악\n",
    "        image = read_image(img_path)  # 이미지 읽어오기 \n",
    "        label = self.img_labels.iloc[idx,1]  # 레이블 뽑아오기 \n",
    "        if self.transform:\n",
    "            image = self.transform(image)    # 이미지파일 변환\n",
    "        if self.target_transform:\n",
    "            label = self.target_transfrom(label)  # 레이블 변환 \n",
    "        return image, label\n",
    "\n",
    "    \n",
    "# init : dataset 객체가 생성될 때 실행된다 \n",
    "# len: 샘플의 개수 \n",
    "# getitem : idx에 해당하는 샘플을 데이터셋에서 불러오고 반환 \n"
   ]
  },
  {
   "cell_type": "code",
   "execution_count": 32,
   "id": "d5fd764d",
   "metadata": {},
   "outputs": [],
   "source": [
    "from torch.utils.data import DataLoader\n",
    "\n",
    "train_dataloader = DataLoader(train_data, batch_size = 64, shuffle=True)\n",
    "test_dataloader = DataLoader(test_data, batch_size=64, shuffle=True)\n",
    "\n",
    "#  dataset(데이터셋의 특징을 가져오고 하나의 샘플에 정답을 지정하는 일 한번에 한다\n",
    "#          학습할 때 샘플들을 미니배치로 전달 // 에폭마다 데이터를 다시 섞어서 과적합 방지\n",
    "#          ) -> 이 과정을 간단하게 iterable로 만들어주는 것이 DataLoader "
   ]
  },
  {
   "cell_type": "code",
   "execution_count": 35,
   "id": "8bcba617",
   "metadata": {},
   "outputs": [
    {
     "name": "stdout",
     "output_type": "stream",
     "text": [
      "Feature batch shape: torch.Size([64, 1, 28, 28])\n",
      "Labels batch shape: torch.Size([64])\n"
     ]
    }
   ],
   "source": [
    "train_features, train_labels = next(iter(train_dataloader))\n",
    "print(f\"Feature batch shape: {train_features.size()}\")\n",
    "print(f\"Labels batch shape: {train_labels.size()}\")   # batchsize = 64 / channel = 1 / 이미지의 픽셀 28*28 "
   ]
  },
  {
   "cell_type": "code",
   "execution_count": null,
   "id": "b4b8d94c",
   "metadata": {},
   "outputs": [],
   "source": [
    "## transform 변형 : 데이터 조작 학습에 적합하게 만든다 \n",
    "-> fashionMNIST 특징은 image 형식 + 레이블은 정수(integer)\n",
    "-> 학습을 위해 정규한된 텐서 형태의 특징 feature와 부호화된 텐서 형태의 레이블이 필요 \n",
    "\n",
    "from torchvision.transforms import ToTensor, Lambda\n",
    "\n",
    "df = datasets.FashionMNIST(\n",
    "               root='C:/Users/82102',\n",
    "               train=True\n",
    "                ,download=True\n",
    "                 ,transform=ToTensor(),\n",
    "                target_transform = Lambda(lambda y: torch.zeros(10, dtype=torch.float).scatter_(0, torch.tensor(y), value=1))\n",
    ")\n",
    "\n",
    "# ToTensor() : image나 numpy를 FloatTensor로 변환하고, 이미지의 픽셀의 크기값을 [0,1]범위로 scale 조정한다 \n",
    "# lambda 변형 : 정수를 원핫으로 부호환된 텐서로 바꾸고 (데이터 셋 정답의 개수인) 크기 10짜리 zero tensor를 만들고 scatter 호출하여 \n",
    "#               정답 y에 해당하는 인덱스에 value =1 할당 \n",
    "\n",
    "<질문사항> \n",
    "\n",
    "1. lambda변형에서 왜 정답레이블을 zero tensor로 만들어서 할당하는지 모르겠습니다 \n",
    "   추측: integer tensor로 하면 label이 잘나타나지 않고 zero tensor에 1 할당하는 것이 label을 잘 나타내서??? \n",
    "\n",
    "2. batch size 64이면 64개의 데이터가 전달되고 그 안에서 에폭마다 shuffle이 일어나서 랜덤성을 가지게 되는 건가요? "
   ]
  },
  {
   "cell_type": "markdown",
   "id": "f5f0c382",
   "metadata": {},
   "source": [
    "## validation 시행 "
   ]
  },
  {
   "cell_type": "code",
   "execution_count": 36,
   "id": "d0627560",
   "metadata": {},
   "outputs": [],
   "source": [
    "import torch\n",
    "import torch.nn as nn\n",
    "import numpy as np\n",
    "import pandas as pd\n",
    "from sklearn.preprocessing import StandardScaler"
   ]
  },
  {
   "cell_type": "code",
   "execution_count": 48,
   "id": "bece121b",
   "metadata": {},
   "outputs": [
    {
     "name": "stdout",
     "output_type": "stream",
     "text": [
      "C:\\Users\\82102\\Desktop\\session1-5\n"
     ]
    }
   ],
   "source": [
    "cd C:/Users/82102/Desktop\\/session1-5"
   ]
  },
  {
   "cell_type": "code",
   "execution_count": 37,
   "id": "d3175a87",
   "metadata": {},
   "outputs": [],
   "source": [
    "def distance(x1, y1, x2, y2):\n",
    "    m = (y2-y1) / (x2-x1)\n",
    "    return m"
   ]
  },
  {
   "cell_type": "code",
   "execution_count": 38,
   "id": "e9e37735",
   "metadata": {},
   "outputs": [],
   "source": [
    "def Coefficient(df): \n",
    "    coef = []\n",
    "    for i in range(49, 351):\n",
    "        frame1 = df[i][gradlab1][0:2]\n",
    "        frame2 = df[i][gradlab2][0:2]\n",
    "        coef.append(distance(frame1[0], frame1[1], frame2[0], frame2[1]))\n",
    "    coef = pd.DataFrame(coef, columns= ['coef'])\n",
    "    \n",
    "    q3=coef['coef'].quantile(0.75)\n",
    "    q1=coef['coef'].quantile(0.25)\n",
    "    iqr=q3-q1\n",
    "    outlier_top=q3+1.5*iqr\n",
    "    outlier_bottom=q1-1.5*iqr\n",
    "    idx=coef[(coef['coef']<outlier_bottom) | (coef['coef']>outlier_top)].index\n",
    "    \n",
    "    idx_list=[]\n",
    "    for i in idx:\n",
    "        idx_list.append(str(i))\n",
    "    idx_list.append('end')\n",
    "\n",
    "    idx_string = ' '.join(idx_list)\n",
    "    idx_string_split = idx_string.split('end')\n",
    "    outlier_str = idx_string_split[0].strip()\n",
    "    outlier = list(map(int, outlier_str.split(' ')))\n",
    "\n",
    "    for i in range(len(coef)-1):\n",
    "        if i in outlier:\n",
    "            if i == 0:\n",
    "                continue\n",
    "            elif i != (len(coef)-1):\n",
    "                coef['coef'][i] = (coef['coef'][i-1] + coef['coef'][i+1])/2\n",
    "            else:\n",
    "                break\n",
    "                \n",
    "    coef = np.array(coef)[1:301]\n",
    "    \n",
    "    return coef"
   ]
  },
  {
   "cell_type": "code",
   "execution_count": 39,
   "id": "cf394ba0",
   "metadata": {},
   "outputs": [],
   "source": [
    "def Acceleration(pos_1, array_1, acclab):\n",
    "    df = pd.DataFrame(array_1[:,acclab,:], columns=['x','y','z'])\n",
    "    idx_list=[]\n",
    "    for i in ['x','y','z']:\n",
    "        q3=df[i].quantile(0.75)\n",
    "        q1=df[i].quantile(0.25)\n",
    "        iqr=q3-q1\n",
    "        outlier_top=q3+1.5*iqr\n",
    "        outlier_bottom=q1-1.5*iqr\n",
    "\n",
    "        idx=df[(df[i]<outlier_bottom) | (df[i]>outlier_top)].index\n",
    "        for i in idx:\n",
    "            idx_list.append(str(i))\n",
    "        idx_list.append('end')\n",
    "    \n",
    "    idx_string = ' '.join(idx_list)\n",
    "    idx_string_split = idx_string.split('end')\n",
    "    x_outlier_str = idx_string_split[0].strip()\n",
    "    y_outlier_str = idx_string_split[1].strip()\n",
    "    x_outlier = list(map(int, x_outlier_str.split(' ')[:-1]))\n",
    "    y_outlier = list(map(int, y_outlier_str.split(' ')[:-1]))\n",
    "    \n",
    "    acc_1_parsed = array_1[:,acclab,:]\n",
    "    for i in range(len(pos_1)-1):\n",
    "        if i in x_outlier:\n",
    "            acc_1_parsed[i][0] = (acc_1_parsed[i-1][0] + acc_1_parsed[i+1][0])/2 \n",
    "        if i in y_outlier:\n",
    "            acc_1_parsed[i][1] = (acc_1_parsed[i-1][1] + acc_1_parsed[i+1][1])/2 \n",
    "       \n",
    "    final_df = pd.DataFrame(acc_1_parsed, columns = ['x','y','z'])\n",
    "    acc_array = StandardScaler().fit_transform(final_df)\n",
    "    acc_array = acc_array[49:349,:]\n",
    "    \n",
    "    return acc_array[:,:2] "
   ]
  },
  {
   "cell_type": "code",
   "execution_count": 40,
   "id": "861953c2",
   "metadata": {},
   "outputs": [],
   "source": [
    "hand = 'Right'\n",
    "gesture_list = ['URF','UMF','ULF','DLF','DMF','DRF','URB','UMB','ULB','DLB','DMB','DRB','URO','ULO','DLO','DRO']\n",
    "right_gesture = gesture_list[0]\n",
    "num_session = 5\n",
    "#총 세션 개수 = batch size\n",
    "#5로 적어야 1~4까지 들어감\n",
    "\n",
    "acclab1 = 8\n",
    "acclab2 = 12\n",
    "gradlab1 = 8\n",
    "gradlab2 = 12"
   ]
  },
  {
   "cell_type": "code",
   "execution_count": 41,
   "id": "67848738",
   "metadata": {},
   "outputs": [],
   "source": [
    "def dataloader(gesture):\n",
    "    data2 = np.zeros((1,300,6))\n",
    "    for i in range(1, num_session):\n",
    "        data = np.zeros((300,1))\n",
    "        pos = np.load('%s_%s_p_%d.npy' % (hand, gesture, i))\n",
    "        acc = np.load('%s_%s_a_%d.npy' % (hand, gesture, i))\n",
    "        acc1 = Acceleration(pos, acc, acclab1)\n",
    "        acc2 = Acceleration(pos, acc, acclab2)\n",
    "        coef = Coefficient(pos)\n",
    "        if gesture == right_gesture:\n",
    "            label = np.ones((300,1))\n",
    "        else:\n",
    "            label = np.zeros((300,1))\n",
    "        data = np.hstack((data,acc1,acc2,coef,label))\n",
    "        data = data[:, 1:].reshape((1,300,6))\n",
    "        data2 = np.vstack((data2,data))\n",
    "    \n",
    "        \n",
    "    return data2"
   ]
  },
  {
   "cell_type": "code",
   "execution_count": 49,
   "id": "4c158013",
   "metadata": {},
   "outputs": [],
   "source": [
    "target_data = dataloader('URF')\n",
    "error_data = dataloader('DLB')"
   ]
  },
  {
   "cell_type": "code",
   "execution_count": 50,
   "id": "4faa9ed7",
   "metadata": {},
   "outputs": [
    {
     "data": {
      "text/plain": [
       "(5, 300, 6)"
      ]
     },
     "execution_count": 50,
     "metadata": {},
     "output_type": "execute_result"
    }
   ],
   "source": [
    "target_data.shape"
   ]
  },
  {
   "cell_type": "code",
   "execution_count": 52,
   "id": "bc59614b",
   "metadata": {},
   "outputs": [
    {
     "data": {
      "text/plain": [
       "(8, 300, 6)"
      ]
     },
     "execution_count": 52,
     "metadata": {},
     "output_type": "execute_result"
    }
   ],
   "source": [
    "data.shape"
   ]
  },
  {
   "cell_type": "code",
   "execution_count": 53,
   "id": "c9477a49",
   "metadata": {},
   "outputs": [],
   "source": [
    "data = np.vstack((target_data[1:], error_data[1:]))\n",
    "train_data = np.vstack((data[0], data[1], data[2], data[4], data[5], data[6]))\n",
    "valid_data = np.vstack((data[3], data[7]))\n",
    "train_data = train_data.reshape(6, 300, 6)\n",
    "valid_data = valid_data.reshape(2, 300, 6)"
   ]
  },
  {
   "cell_type": "code",
   "execution_count": 54,
   "id": "bd50d5a6",
   "metadata": {},
   "outputs": [],
   "source": [
    "x_train, y_train = train_data[:, :, :5], train_data[:, :, -1]\n",
    "x_valid, y_valid = valid_data[:, :, :5], valid_data[:, :, -1]"
   ]
  },
  {
   "cell_type": "code",
   "execution_count": 55,
   "id": "ef40ed67",
   "metadata": {},
   "outputs": [],
   "source": [
    "y_train = [1, 1, 1, 1, 0, 0]\n",
    "y_valid = [1, 0]"
   ]
  },
  {
   "cell_type": "code",
   "execution_count": 56,
   "id": "398d3f5b",
   "metadata": {},
   "outputs": [],
   "source": [
    "x_train = torch.Tensor(x_train)\n",
    "y_train = torch.Tensor(y_train)\n",
    "x_valid = torch.Tensor(x_valid)\n",
    "y_valid = torch.Tensor(y_valid)\n",
    "y_train = y_train.reshape(6, 1)"
   ]
  },
  {
   "cell_type": "code",
   "execution_count": 60,
   "id": "b9501c54",
   "metadata": {},
   "outputs": [],
   "source": [
    "input_size= 5\n",
    "#seq_length = 300\n",
    "hidden_size = 10\n",
    "num_layers = 2\n",
    "dropout_rate= 0.5\n",
    "num_classes = 1"
   ]
  },
  {
   "cell_type": "code",
   "execution_count": 61,
   "id": "5dcabb00",
   "metadata": {},
   "outputs": [],
   "source": [
    "class LSTM_Chicka(nn.Module):\n",
    "    def __init__(self, num_classes, input_size, hidden_size, num_layers, dropout_rate):\n",
    "        super(LSTM_Chicka,self).__init__()\n",
    "        self.num_classes = num_classes #number of classes\n",
    "        self.num_layers = num_layers #layers\n",
    "        self.input_size = input_size #input size\n",
    "        self.hidden_size = hidden_size #hidden state\n",
    "        self.dropout_rate = dropout_rate\n",
    "        self.lstm =  nn.LSTM(input_size = input_size, hidden_size = hidden_size, num_layers = num_layers, dropout = dropout_rate, batch_first = True)\n",
    "        self.layer_out = nn.Linear(hidden_size, num_classes) \n",
    "        self.sigmoid = nn.Sigmoid()\n",
    "        \n",
    "    def forward(self,x):\n",
    "    \n",
    "        out, _status = self.lstm(x)\n",
    "        out = self.layer_out(out[:, -1]) \n",
    "        out = self.sigmoid(out)\n",
    "\n",
    "        return out"
   ]
  },
  {
   "cell_type": "code",
   "execution_count": 62,
   "id": "d1c28b8b",
   "metadata": {},
   "outputs": [],
   "source": [
    "model = LSTM_Chicka(num_classes, input_size, hidden_size, num_layers, dropout_rate)\n",
    "criterion = torch.nn.BCELoss()\n",
    "optimizer = torch.optim.Adam(model.parameters(), lr=0.001)\n",
    "scheduler = torch.optim.lr_scheduler.ReduceLROnPlateau(optimizer= optimizer)"
   ]
  },
  {
   "cell_type": "code",
   "execution_count": 63,
   "id": "1049cef1",
   "metadata": {},
   "outputs": [
    {
     "name": "stdout",
     "output_type": "stream",
     "text": [
      "torch.Size([6, 1])\n"
     ]
    }
   ],
   "source": [
    "outputs = model(x_train)\n",
    "print(outputs.shape)"
   ]
  },
  {
   "cell_type": "code",
   "execution_count": 65,
   "id": "4c50cb52",
   "metadata": {},
   "outputs": [
    {
     "data": {
      "text/plain": [
       "tensor([[0.7287],\n",
       "        [0.7815],\n",
       "        [0.7868],\n",
       "        [0.6149],\n",
       "        [0.4549],\n",
       "        [0.5568]], grad_fn=<SigmoidBackward0>)"
      ]
     },
     "execution_count": 65,
     "metadata": {},
     "output_type": "execute_result"
    }
   ],
   "source": [
    "outputs"
   ]
  },
  {
   "cell_type": "code",
   "execution_count": 67,
   "id": "dcfba77d",
   "metadata": {
    "scrolled": true
   },
   "outputs": [
    {
     "name": "stdout",
     "output_type": "stream",
     "text": [
      "Epoch: 1, loss: 0.44088\n",
      "Epoch: 2, loss: 0.43650\n",
      "Epoch: 3, loss: 0.43274\n",
      "Epoch: 4, loss: 0.42613\n",
      "Epoch: 5, loss: 0.42036\n",
      "Epoch: 6, loss: 0.40712\n",
      "Epoch: 7, loss: 0.38624\n",
      "Epoch: 8, loss: 0.39880\n",
      "Epoch: 9, loss: 0.37191\n",
      "Epoch: 10, loss: 0.38898\n",
      "Epoch: 11, loss: 0.34633\n",
      "Epoch: 12, loss: 0.35203\n",
      "Epoch: 13, loss: 0.35105\n",
      "Epoch: 14, loss: 0.34502\n",
      "Epoch: 15, loss: 0.33405\n",
      "Epoch: 16, loss: 0.33124\n",
      "Epoch: 17, loss: 0.33033\n",
      "Epoch: 18, loss: 0.31171\n",
      "Epoch: 19, loss: 0.30516\n",
      "Epoch: 20, loss: 0.29504\n",
      "Epoch: 21, loss: 0.29721\n",
      "Epoch: 22, loss: 0.28587\n",
      "Epoch: 23, loss: 0.28573\n",
      "Epoch: 24, loss: 0.27113\n",
      "Epoch: 25, loss: 0.27480\n",
      "Epoch: 26, loss: 0.27057\n",
      "Epoch: 27, loss: 0.26146\n",
      "Epoch: 28, loss: 0.26295\n",
      "Epoch: 29, loss: 0.25461\n",
      "Epoch: 30, loss: 0.25441\n",
      "Epoch: 31, loss: 0.24723\n",
      "Epoch: 32, loss: 0.24306\n",
      "Epoch: 33, loss: 0.23395\n",
      "Epoch: 34, loss: 0.24119\n",
      "Epoch: 35, loss: 0.22857\n",
      "Epoch: 36, loss: 0.22701\n",
      "Epoch: 37, loss: 0.22422\n",
      "Epoch: 38, loss: 0.22680\n",
      "Epoch: 39, loss: 0.23550\n",
      "Epoch: 40, loss: 0.21082\n",
      "Epoch: 41, loss: 0.21552\n",
      "Epoch: 42, loss: 0.21033\n",
      "Epoch: 43, loss: 0.20871\n",
      "Epoch: 44, loss: 0.20228\n",
      "Epoch: 45, loss: 0.21017\n",
      "Epoch: 46, loss: 0.20105\n",
      "Epoch: 47, loss: 0.20045\n",
      "Epoch: 48, loss: 0.19346\n",
      "Epoch: 49, loss: 0.19936\n",
      "Epoch: 50, loss: 0.19121\n",
      "Epoch: 51, loss: 0.18942\n",
      "Epoch: 52, loss: 0.18934\n",
      "Epoch: 53, loss: 0.17657\n",
      "Epoch: 54, loss: 0.18097\n",
      "Epoch: 55, loss: 0.17509\n",
      "Epoch: 56, loss: 0.17369\n",
      "Epoch: 57, loss: 0.30816\n",
      "Epoch: 58, loss: 0.16762\n",
      "Epoch: 59, loss: 0.16691\n",
      "Epoch: 60, loss: 0.17031\n",
      "Epoch: 61, loss: 0.16378\n",
      "Epoch: 62, loss: 0.55810\n",
      "Epoch: 63, loss: 0.54034\n",
      "Epoch: 64, loss: 0.53786\n",
      "Epoch: 65, loss: 0.55474\n",
      "Epoch: 66, loss: 0.51063\n",
      "Epoch: 67, loss: 0.52998\n",
      "Epoch: 68, loss: 0.54326\n",
      "Epoch: 69, loss: 0.55234\n",
      "Epoch: 70, loss: 0.55215\n",
      "Epoch: 71, loss: 0.56007\n",
      "Epoch: 72, loss: 0.54627\n",
      "Epoch: 73, loss: 0.53643\n",
      "Epoch: 74, loss: 0.54938\n",
      "Epoch: 75, loss: 0.52750\n",
      "Epoch: 76, loss: 0.53373\n",
      "Epoch: 77, loss: 0.50899\n",
      "Epoch: 78, loss: 0.52916\n",
      "Epoch: 79, loss: 0.53490\n",
      "Epoch: 80, loss: 0.53223\n",
      "Epoch: 81, loss: 0.51922\n",
      "Epoch: 82, loss: 0.52825\n",
      "Epoch: 83, loss: 0.50858\n",
      "Epoch: 84, loss: 0.50537\n",
      "Epoch: 85, loss: 0.52785\n",
      "Epoch: 86, loss: 0.50770\n",
      "Epoch: 87, loss: 0.50374\n",
      "Epoch: 88, loss: 0.50665\n",
      "Epoch: 89, loss: 0.51161\n",
      "Epoch: 90, loss: 0.49263\n",
      "Epoch: 91, loss: 0.50296\n",
      "Epoch: 92, loss: 0.49495\n",
      "Epoch: 93, loss: 0.51244\n",
      "Epoch: 94, loss: 0.48188\n",
      "Epoch: 95, loss: 0.46803\n",
      "Epoch: 96, loss: 0.49441\n",
      "Epoch: 97, loss: 0.47836\n",
      "Epoch: 98, loss: 0.50031\n",
      "Epoch: 99, loss: 0.50850\n",
      "Epoch: 100, loss: 0.51151\n"
     ]
    }
   ],
   "source": [
    "losses= []\n",
    "for epoch in range(100):\n",
    "    optimizer.zero_grad()\n",
    "    outputs = model(x_train)\n",
    "    loss = criterion(outputs.view(-1, outputs.shape[-1]), y_train)\n",
    "    loss.backward()\n",
    "    optimizer.step()\n",
    "    #if epoch % 10 == 0:\n",
    "    print(\"Epoch: %d, loss: %1.5f\" % (epoch+1, loss.item()))\n",
    "    losses.append(loss.item())\n"
   ]
  },
  {
   "cell_type": "code",
   "execution_count": 68,
   "id": "6bbb4ca8",
   "metadata": {
    "scrolled": true
   },
   "outputs": [
    {
     "data": {
      "image/png": "[encoded data removed]",
      "text/plain": [
       "<Figure size 432x288 with 1 Axes>"
      ]
     },
     "metadata": {
      "needs_background": "light"
     },
     "output_type": "display_data"
    }
   ],
   "source": [
    "plt.plot(losses)\n",
    "plt.show()              #  처음 100번 돌릴때는 튀는게 없었는데 다시 돌려서 100번을 또 도니까 튀는 부분이 생겼다 "
   ]
  },
  {
   "cell_type": "code",
   "execution_count": 69,
   "id": "d8358c5d",
   "metadata": {},
   "outputs": [],
   "source": [
    "from sklearn.metrics import accuracy_score"
   ]
  },
  {
   "cell_type": "code",
   "execution_count": 73,
   "id": "293209ce",
   "metadata": {},
   "outputs": [
    {
     "name": "stdout",
     "output_type": "stream",
     "text": [
      "---------\n",
      "tensor([[0.8924],\n",
      "        [0.2326]])\n",
      "accuracy는 1.0\n"
     ]
    }
   ],
   "source": [
    "with torch.no_grad():\n",
    "    model.eval()\n",
    "    inputs = x_valid\n",
    "    outputs = model(inputs)\n",
    "    print(\"---------\")\n",
    "    print(outputs)\n",
    "    outputs = outputs.detach().numpy()\n",
    "    predicted = np.round(outputs)\n",
    "    accuracy = (accuracy_score(predicted, y_valid))\n",
    "    \n",
    "print(f'accuracy는 {accuracy}')"
   ]
  },
  {
   "cell_type": "code",
   "execution_count": null,
   "id": "7a31f911",
   "metadata": {},
   "outputs": [],
   "source": [
    "https://medium.com/dataseries/k-fold-cross-validation-with-pytorch-and-sklearn-d094aa00105f"
   ]
  }
 ],
 "metadata": {
  "kernelspec": {
   "display_name": "Python 3 (ipykernel)",
   "language": "python",
   "name": "python3"
  },
  "language_info": {
   "codemirror_mode": {
    "name": "ipython",
    "version": 3
   },
   "file_extension": ".py",
   "mimetype": "text/x-python",
   "name": "python",
   "nbconvert_exporter": "python",
   "pygments_lexer": "ipython3",
   "version": "3.9.12"
  }
 },
 "nbformat": 4,
 "nbformat_minor": 5
}
