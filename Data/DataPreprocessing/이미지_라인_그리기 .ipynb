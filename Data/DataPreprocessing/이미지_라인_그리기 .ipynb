{
 "cells": [
  {
   "cell_type": "code",
   "execution_count": 78,
   "id": "c4643d73",
   "metadata": {},
   "outputs": [],
   "source": [
    "import cv2\n",
    "import mediapipe as mp\n",
    "import matplotlib.pyplot as plt\n",
    "mp_hands = mp.solutions.hands\n",
    "mp_drawing = mp.solutions.drawing_utils\n",
    "mp_drawing_styles = mp.solutions.drawing_styles"
   ]
  },
  {
   "cell_type": "code",
   "execution_count": 81,
   "id": "af187751",
   "metadata": {},
   "outputs": [
    {
     "name": "stdout",
     "output_type": "stream",
     "text": [
      "Requirement already satisfied: mediapipe in c:\\users\\82102\\anaconda3\\lib\\site-packages (0.8.10.1)\n",
      "Requirement already satisfied: opencv-python in c:\\users\\82102\\anaconda3\\lib\\site-packages (4.6.0.66)\n",
      "Requirement already satisfied: opencv-contrib-python in c:\\users\\82102\\anaconda3\\lib\\site-packages (from mediapipe) (4.6.0.66)\n",
      "Requirement already satisfied: protobuf<4,>=3.11 in c:\\users\\82102\\anaconda3\\lib\\site-packages (from mediapipe) (3.19.1)\n",
      "Requirement already satisfied: matplotlib in c:\\users\\82102\\anaconda3\\lib\\site-packages (from mediapipe) (3.5.1)\n",
      "Requirement already satisfied: numpy in c:\\users\\82102\\anaconda3\\lib\\site-packages (from mediapipe) (1.21.5)\n",
      "Requirement already satisfied: attrs>=19.1.0 in c:\\users\\82102\\anaconda3\\lib\\site-packages (from mediapipe) (21.4.0)\n",
      "Requirement already satisfied: absl-py in c:\\users\\82102\\anaconda3\\lib\\site-packages (from mediapipe) (1.1.0)\n",
      "Requirement already satisfied: packaging>=20.0 in c:\\users\\82102\\anaconda3\\lib\\site-packages (from matplotlib->mediapipe) (21.3)\n",
      "Requirement already satisfied: cycler>=0.10 in c:\\users\\82102\\anaconda3\\lib\\site-packages (from matplotlib->mediapipe) (0.11.0)\n",
      "Requirement already satisfied: fonttools>=4.22.0 in c:\\users\\82102\\anaconda3\\lib\\site-packages (from matplotlib->mediapipe) (4.25.0)\n",
      "Requirement already satisfied: pyparsing>=2.2.1 in c:\\users\\82102\\anaconda3\\lib\\site-packages (from matplotlib->mediapipe) (3.0.4)\n",
      "Requirement already satisfied: kiwisolver>=1.0.1 in c:\\users\\82102\\anaconda3\\lib\\site-packages (from matplotlib->mediapipe) (1.3.2)\n",
      "Requirement already satisfied: python-dateutil>=2.7 in c:\\users\\82102\\anaconda3\\lib\\site-packages (from matplotlib->mediapipe) (2.8.2)\n",
      "Requirement already satisfied: pillow>=6.2.0 in c:\\users\\82102\\anaconda3\\lib\\site-packages (from matplotlib->mediapipe) (9.0.1)\n",
      "Requirement already satisfied: six>=1.5 in c:\\users\\82102\\anaconda3\\lib\\site-packages (from python-dateutil>=2.7->matplotlib->mediapipe) (1.16.0)\n"
     ]
    }
   ],
   "source": [
    "!pip install mediapipe opencv-python "
   ]
  },
  {
   "cell_type": "code",
   "execution_count": 82,
   "id": "5d633974",
   "metadata": {},
   "outputs": [
    {
     "name": "stdout",
     "output_type": "stream",
     "text": [
      "Handedness: [classification {\n",
      "  index: 1\n",
      "  score: 0.9827527\n",
      "  label: \"Right\"\n",
      "}\n",
      "]\n",
      "hand_landmarks: landmark {\n",
      "  x: 0.49806187\n",
      "  y: 0.6956992\n",
      "  z: -6.1319713e-07\n",
      "}\n",
      "landmark {\n",
      "  x: 0.45849788\n",
      "  y: 0.62977904\n",
      "  z: -0.00051774835\n",
      "}\n",
      "landmark {\n",
      "  x: 0.459243\n",
      "  y: 0.56419224\n",
      "  z: -0.0035556576\n",
      "}\n",
      "landmark {\n",
      "  x: 0.46159515\n",
      "  y: 0.50713444\n",
      "  z: -0.011713914\n",
      "}\n",
      "landmark {\n",
      "  x: 0.45572177\n",
      "  y: 0.4547549\n",
      "  z: -0.017907128\n",
      "}\n",
      "landmark {\n",
      "  x: 0.51791567\n",
      "  y: 0.50776315\n",
      "  z: 0.01924095\n",
      "}\n",
      "landmark {\n",
      "  x: 0.49483576\n",
      "  y: 0.4447164\n",
      "  z: -0.0040618144\n",
      "}\n",
      "landmark {\n",
      "  x: 0.4681295\n",
      "  y: 0.47265112\n",
      "  z: -0.016787041\n",
      "}\n",
      "landmark {\n",
      "  x: 0.4611864\n",
      "  y: 0.50879693\n",
      "  z: -0.021173323\n",
      "}\n",
      "landmark {\n",
      "  x: 0.5353606\n",
      "  y: 0.5113298\n",
      "  z: 0.00981908\n",
      "}\n",
      "landmark {\n",
      "  x: 0.4940339\n",
      "  y: 0.4506298\n",
      "  z: -0.015473259\n",
      "}\n",
      "landmark {\n",
      "  x: 0.46767348\n",
      "  y: 0.5075582\n",
      "  z: -0.020735433\n",
      "}\n",
      "landmark {\n",
      "  x: 0.47352076\n",
      "  y: 0.5411186\n",
      "  z: -0.016865471\n",
      "}\n",
      "landmark {\n",
      "  x: 0.54937637\n",
      "  y: 0.5210915\n",
      "  z: -0.004001352\n",
      "}\n",
      "landmark {\n",
      "  x: 0.4972689\n",
      "  y: 0.4801237\n",
      "  z: -0.029811844\n",
      "}\n",
      "landmark {\n",
      "  x: 0.47940236\n",
      "  y: 0.5407426\n",
      "  z: -0.023437303\n",
      "}\n",
      "landmark {\n",
      "  x: 0.4927468\n",
      "  y: 0.5711662\n",
      "  z: -0.011355801\n",
      "}\n",
      "landmark {\n",
      "  x: 0.5561958\n",
      "  y: 0.5392143\n",
      "  z: -0.018650958\n",
      "}\n",
      "landmark {\n",
      "  x: 0.50629014\n",
      "  y: 0.5167771\n",
      "  z: -0.03368268\n",
      "}\n",
      "landmark {\n",
      "  x: 0.4927075\n",
      "  y: 0.55555016\n",
      "  z: -0.028793497\n",
      "}\n",
      "landmark {\n",
      "  x: 0.5056572\n",
      "  y: 0.5755773\n",
      "  z: -0.020271078\n",
      "}\n",
      "\n"
     ]
    }
   ],
   "source": [
    "image_files = ['KakaoTalk_20220811_120728313.jpg']\n",
    "with mp_hands.Hands(\n",
    "    static_image_mode=True,\n",
    "    max_num_hands=2,\n",
    "    min_detection_confidence=0.7) as hands:\n",
    "  for idx, file in enumerate(image_files):\n",
    "    #이미지를 읽어들이고, 보기 편하게 이미지 좌우 반전\n",
    "    image = cv2.flip(cv2.imread(file),1)\n",
    "    #작업 전에 BGR -> RGB 변환\n",
    "    results = hands.process(cv2.cvtColor(image,cv2.COLOR_BGR2RGB))\n",
    "    \n",
    "    # 손으로 프린트하고 이미지에 손 랜드마크를 그립니다.\n",
    "    print('Handedness:', results.multi_handedness)\n",
    "    if not results.multi_hand_landmarks:\n",
    "      continue\n",
    "    image_height, image_width, _ = image.shape\n",
    "    annotated_image = image.copy()\n",
    "    x=[]\n",
    "    y=[]\n",
    "    z=[]\n",
    "    for hand_landmarks in results.multi_hand_landmarks:\n",
    "        print('hand_landmarks:', hand_landmarks)\n",
    "        for point in results.multi_hand_landmarks[0].landmark:\n",
    "            x.append(point.x)\n",
    "            y.append(point.y)\n",
    "            z.append(point.z)\n",
    "        mp_drawing.draw_landmarks(\n",
    "            annotated_image,\n",
    "            hand_landmarks,\n",
    "            mp_hands.HAND_CONNECTIONS,\n",
    "            mp_drawing_styles.get_default_hand_landmarks_style(),\n",
    "            mp_drawing_styles.get_default_hand_connections_style())\n",
    "        frame_array = np.vstack((x,y,z))"
   ]
  },
  {
   "cell_type": "code",
   "execution_count": 83,
   "id": "0ca01be9",
   "metadata": {},
   "outputs": [],
   "source": [
    "df = frame_array"
   ]
  },
  {
   "cell_type": "markdown",
   "id": "1be3d942",
   "metadata": {},
   "source": [
    " # __________ 구분"
   ]
  },
  {
   "cell_type": "code",
   "execution_count": 2,
   "id": "b9864c39",
   "metadata": {},
   "outputs": [],
   "source": [
    "import numpy as np\n",
    "import pandas as pd\n",
    "df = np.load('Right_DLB_p_1.npy')"
   ]
  },
  {
   "cell_type": "code",
   "execution_count": 1,
   "id": "21ce73c2",
   "metadata": {},
   "outputs": [
    {
     "name": "stdout",
     "output_type": "stream",
     "text": [
      "C:\\Users\\82102\\Datasets\\session3\n"
     ]
    }
   ],
   "source": [
    "cd C:/Users/82102/Datasets/session3"
   ]
  },
  {
   "cell_type": "code",
   "execution_count": 27,
   "id": "802b7884",
   "metadata": {},
   "outputs": [],
   "source": [
    "# 300 프레임짜르기  3번째 \n",
    "df_D = pd.DataFrame(df[:300,3,:2])\n",
    "df_D = df_D.assign(category = \"first\")\n",
    "df_D = df_D.set_index(['category'])\n",
    "df_D.columns= ['x','y']\n",
    "\n",
    "# 300 프레임짜르기  7번째 \n",
    "df_E = pd.DataFrame(df[:300,7,:2])\n",
    "df_E = df_E.assign(category = \"second\")\n",
    "df_E = df_E.set_index(['category'])\n",
    "df_E.columns= ['x','y']\n",
    "\n",
    "# 300 프레임짜르기  11번째 \n",
    "df_F = pd.DataFrame(df[:300,11,:2])\n",
    "df_F = df_F.assign(category = \"third\")\n",
    "df_F = df_F.set_index(['category'])\n",
    "df_F.columns= ['x','y']"
   ]
  },
  {
   "cell_type": "code",
   "execution_count": 28,
   "id": "d6ad2dad",
   "metadata": {},
   "outputs": [
    {
     "data": {
      "text/html": [
       "<div>\n",
       "<style scoped>\n",
       "    .dataframe tbody tr th:only-of-type {\n",
       "        vertical-align: middle;\n",
       "    }\n",
       "\n",
       "    .dataframe tbody tr th {\n",
       "        vertical-align: top;\n",
       "    }\n",
       "\n",
       "    .dataframe thead th {\n",
       "        text-align: right;\n",
       "    }\n",
       "</style>\n",
       "<table border=\"1\" class=\"dataframe\">\n",
       "  <thead>\n",
       "    <tr style=\"text-align: right;\">\n",
       "      <th></th>\n",
       "      <th>x</th>\n",
       "      <th>y</th>\n",
       "    </tr>\n",
       "    <tr>\n",
       "      <th>category</th>\n",
       "      <th></th>\n",
       "      <th></th>\n",
       "    </tr>\n",
       "  </thead>\n",
       "  <tbody>\n",
       "    <tr>\n",
       "      <th>first</th>\n",
       "      <td>0.346297</td>\n",
       "      <td>0.386045</td>\n",
       "    </tr>\n",
       "    <tr>\n",
       "      <th>first</th>\n",
       "      <td>0.338763</td>\n",
       "      <td>0.380003</td>\n",
       "    </tr>\n",
       "    <tr>\n",
       "      <th>first</th>\n",
       "      <td>0.332152</td>\n",
       "      <td>0.375851</td>\n",
       "    </tr>\n",
       "    <tr>\n",
       "      <th>first</th>\n",
       "      <td>0.330055</td>\n",
       "      <td>0.373630</td>\n",
       "    </tr>\n",
       "    <tr>\n",
       "      <th>first</th>\n",
       "      <td>0.328872</td>\n",
       "      <td>0.371878</td>\n",
       "    </tr>\n",
       "    <tr>\n",
       "      <th>...</th>\n",
       "      <td>...</td>\n",
       "      <td>...</td>\n",
       "    </tr>\n",
       "    <tr>\n",
       "      <th>first</th>\n",
       "      <td>0.356919</td>\n",
       "      <td>0.496523</td>\n",
       "    </tr>\n",
       "    <tr>\n",
       "      <th>first</th>\n",
       "      <td>0.355445</td>\n",
       "      <td>0.495942</td>\n",
       "    </tr>\n",
       "    <tr>\n",
       "      <th>first</th>\n",
       "      <td>0.354502</td>\n",
       "      <td>0.499820</td>\n",
       "    </tr>\n",
       "    <tr>\n",
       "      <th>first</th>\n",
       "      <td>0.360798</td>\n",
       "      <td>0.512296</td>\n",
       "    </tr>\n",
       "    <tr>\n",
       "      <th>first</th>\n",
       "      <td>0.370476</td>\n",
       "      <td>0.508524</td>\n",
       "    </tr>\n",
       "  </tbody>\n",
       "</table>\n",
       "<p>300 rows × 2 columns</p>\n",
       "</div>"
      ],
      "text/plain": [
       "                 x         y\n",
       "category                    \n",
       "first     0.346297  0.386045\n",
       "first     0.338763  0.380003\n",
       "first     0.332152  0.375851\n",
       "first     0.330055  0.373630\n",
       "first     0.328872  0.371878\n",
       "...            ...       ...\n",
       "first     0.356919  0.496523\n",
       "first     0.355445  0.495942\n",
       "first     0.354502  0.499820\n",
       "first     0.360798  0.512296\n",
       "first     0.370476  0.508524\n",
       "\n",
       "[300 rows x 2 columns]"
      ]
     },
     "execution_count": 28,
     "metadata": {},
     "output_type": "execute_result"
    }
   ],
   "source": [
    "df_D"
   ]
  },
  {
   "cell_type": "code",
   "execution_count": 29,
   "id": "2c60c75d",
   "metadata": {},
   "outputs": [],
   "source": [
    "# 엄지의 평균(3프레임)  \n",
    "a =[]\n",
    "for i in range(100):\n",
    "     a.append(df_D[3*i:3*(i+1)].mean())\n",
    "        \n",
    "# 검지의 평균(3프레임)         \n",
    "b =[]\n",
    "for i in range(100):\n",
    "     b.append(df_E[3*i:3*(i+1)].mean())\n",
    "\n",
    "# 중지의 평균(3프레임)\n",
    "c =[]\n",
    "for i in range(100):\n",
    "     c.append(df_F[3*i:3*(i+1)].mean())"
   ]
  },
  {
   "cell_type": "code",
   "execution_count": 57,
   "id": "209ed799",
   "metadata": {},
   "outputs": [],
   "source": [
    "first_x = pd.DataFrame([a[i][0] for i in range(100)], columns =['x'] )\n",
    "first_x = first_x.assign(category = \"first\")\n",
    "first_x = first_x.set_index(['category'])\n",
    "first_y\n",
    "first_y\n",
    "first_y"
   ]
  },
  {
   "cell_type": "code",
   "execution_count": 58,
   "id": "9746a0b8",
   "metadata": {},
   "outputs": [
    {
     "data": {
      "text/html": [
       "<div>\n",
       "<style scoped>\n",
       "    .dataframe tbody tr th:only-of-type {\n",
       "        vertical-align: middle;\n",
       "    }\n",
       "\n",
       "    .dataframe tbody tr th {\n",
       "        vertical-align: top;\n",
       "    }\n",
       "\n",
       "    .dataframe thead th {\n",
       "        text-align: right;\n",
       "    }\n",
       "</style>\n",
       "<table border=\"1\" class=\"dataframe\">\n",
       "  <thead>\n",
       "    <tr style=\"text-align: right;\">\n",
       "      <th></th>\n",
       "      <th>x</th>\n",
       "    </tr>\n",
       "    <tr>\n",
       "      <th>category</th>\n",
       "      <th></th>\n",
       "    </tr>\n",
       "  </thead>\n",
       "  <tbody>\n",
       "    <tr>\n",
       "      <th>first</th>\n",
       "      <td>0.339071</td>\n",
       "    </tr>\n",
       "    <tr>\n",
       "      <th>first</th>\n",
       "      <td>0.331302</td>\n",
       "    </tr>\n",
       "    <tr>\n",
       "      <th>first</th>\n",
       "      <td>0.350634</td>\n",
       "    </tr>\n",
       "    <tr>\n",
       "      <th>first</th>\n",
       "      <td>0.372575</td>\n",
       "    </tr>\n",
       "    <tr>\n",
       "      <th>first</th>\n",
       "      <td>0.350042</td>\n",
       "    </tr>\n",
       "    <tr>\n",
       "      <th>...</th>\n",
       "      <td>...</td>\n",
       "    </tr>\n",
       "    <tr>\n",
       "      <th>first</th>\n",
       "      <td>0.359980</td>\n",
       "    </tr>\n",
       "    <tr>\n",
       "      <th>first</th>\n",
       "      <td>0.358388</td>\n",
       "    </tr>\n",
       "    <tr>\n",
       "      <th>first</th>\n",
       "      <td>0.359381</td>\n",
       "    </tr>\n",
       "    <tr>\n",
       "      <th>first</th>\n",
       "      <td>0.358312</td>\n",
       "    </tr>\n",
       "    <tr>\n",
       "      <th>first</th>\n",
       "      <td>0.361925</td>\n",
       "    </tr>\n",
       "  </tbody>\n",
       "</table>\n",
       "<p>100 rows × 1 columns</p>\n",
       "</div>"
      ],
      "text/plain": [
       "                 x\n",
       "category          \n",
       "first     0.339071\n",
       "first     0.331302\n",
       "first     0.350634\n",
       "first     0.372575\n",
       "first     0.350042\n",
       "...            ...\n",
       "first     0.359980\n",
       "first     0.358388\n",
       "first     0.359381\n",
       "first     0.358312\n",
       "first     0.361925\n",
       "\n",
       "[100 rows x 1 columns]"
      ]
     },
     "execution_count": 58,
     "metadata": {},
     "output_type": "execute_result"
    }
   ],
   "source": [
    "first_x"
   ]
  },
  {
   "cell_type": "code",
   "execution_count": 14,
   "id": "56aa8e99",
   "metadata": {},
   "outputs": [],
   "source": [
    "# scatterplot 그리기 \n",
    "import matplotlib.pyplot as plt\n",
    "%matplotlib inline \n",
    "from mpl_toolkits.mplot3d import Axes3D\n",
    "\n",
    "x = []\n",
    "y = []\n",
    "z = []\n",
    "for i in range(10):\n",
    "    x.append(a[i][0])\n",
    "    y.append(a[i][1])\n",
    "    z.append(a[i][2])\n",
    "    \n",
    "x = np.array(x)\n",
    "y = np.array(y)\n",
    "z = np.array(z)\n",
    "\n",
    "x1 = []\n",
    "y1 = []\n",
    "z1 = []\n",
    "for i in range(10):\n",
    "    x1.append(b[i][0])\n",
    "    y1.append(b[i][1])\n",
    "    z1.append(b[i][2])\n",
    "x1 = np.array(x1)\n",
    "y1 = np.array(y1)\n",
    "z1 = np.array(z1)\n",
    "\n",
    "x2 = []\n",
    "y2 = []\n",
    "z2 = []\n",
    "for i in range(10):\n",
    "    x2.append(c[i][0])\n",
    "    y2.append(c[i][1])\n",
    "    z2.append(c[i][2])\n",
    "x2 = np.array(x2)\n",
    "y2 = np.array(y2)\n",
    "z2 = np.array(z2)\n",
    "\n",
    "fig = plt.figure(figsize=(3, 3))\n",
    "ax = fig.add_subplot(111, projection='3d')\n",
    "ax.scatter(x, y, z, marker='o', s=10, c='blue')\n",
    "ax.scatter(x1,y1,z1, marker='o', s=10, c='orange')\n",
    "ax.scatter(x2,y2,z2, marker='o', s=10, c='darkgreen')\n",
    "plt.show()"
   ]
  },
  {
   "cell_type": "code",
   "execution_count": 84,
   "id": "a9c8d168",
   "metadata": {},
   "outputs": [],
   "source": [
    "# 주희님 데이터 \n",
    "ju1 = pd.DataFrame([[df[0][3],df[1][3],df[2][3]]], columns=['x','y','z'])\n",
    "ju2 = pd.DataFrame([[df[0][7],df[1][7],df[2][7]]], columns=['x','y','z'])\n",
    "ju3 = pd.DataFrame([[df[0][11],df[1][11],df[2][11]]], columns=['x','y','z'])\n",
    "ju = pd.concat([ju1,ju2,ju3])"
   ]
  },
  {
   "cell_type": "code",
   "execution_count": 85,
   "id": "abcb8df3",
   "metadata": {},
   "outputs": [],
   "source": [
    "da1 = pd.DataFrame([[a[0][0],a[0][1],a[0][2]]], columns=['x','y','z'])\n",
    "da2 = pd.DataFrame([[b[0][0],b[0][1],b[0][2]]], columns=['x','y','z'])\n",
    "da3 = pd.DataFrame([[c[0][0],c[0][1],c[0][2]]], columns=['x','y','z'])\n",
    "da = pd.concat([da1,da2,da3])"
   ]
  },
  {
   "cell_type": "code",
   "execution_count": 86,
   "id": "41237fbb",
   "metadata": {},
   "outputs": [
    {
     "data": {
      "image/png": "[encoded data removed]",
      "text/plain": [
       "<Figure size 432x288 with 1 Axes>"
      ]
     },
     "metadata": {
      "needs_background": "light"
     },
     "output_type": "display_data"
    }
   ],
   "source": [
    "# 다중선형회귀 보간법 \n",
    "fig = plt.figure()\n",
    "ax = fig.add_subplot(111, projection='3d')\n",
    "X = ju[['x', 'y', 'z']].values\n",
    "Xlen = X.shape[0]\n",
    "avgPointCloud = 1 / Xlen * np.array([np.sum(X[:, 0]), np.sum(X[:, 1]), np.sum(X[:, 2])])\n",
    "Xmean = X - avgPointCloud\n",
    "\n",
    "cov = 1 / Xlen * X.T.dot(Xmean)\n",
    "\n",
    "t = np.arange(-300, 300, 1)\n",
    "linearReg = avgPointCloud + cov[:, 0] * np.vstack(t)\n",
    "\n",
    "ax.scatter(ju['x'],ju['y'],ju['z'])\n",
    "ax.plot(linearReg[:, 0], linearReg[:, 1], linearReg[:, 2], 'r', label='Linear Regression')\n",
    "ax.legend()\n",
    "\n",
    "plt.show()"
   ]
  },
  {
   "cell_type": "code",
   "execution_count": 92,
   "id": "0a473b71",
   "metadata": {},
   "outputs": [
    {
     "data": {
      "text/plain": [
       "(0.4631, 0.4676)"
      ]
     },
     "execution_count": 92,
     "metadata": {},
     "output_type": "execute_result"
    }
   ],
   "source": [
    "linearReg[0,0].round(4) , linearReg[499,0].round(4)"
   ]
  },
  {
   "cell_type": "code",
   "execution_count": 93,
   "id": "801a5f23",
   "metadata": {},
   "outputs": [
    {
     "data": {
      "text/plain": [
       "(0.5037, 0.4905)"
      ]
     },
     "execution_count": 93,
     "metadata": {},
     "output_type": "execute_result"
    }
   ],
   "source": [
    "linearReg[0, 1].round(4) , linearReg[499,1].round(4)"
   ]
  },
  {
   "cell_type": "code",
   "execution_count": null,
   "id": "ff6de0c0",
   "metadata": {},
   "outputs": [],
   "source": [
    "# projection \n"
   ]
  },
  {
   "cell_type": "code",
   "execution_count": 94,
   "id": "442f87b6",
   "metadata": {},
   "outputs": [],
   "source": [
    "# 이미지에 라인 그리기 \n",
    "import cv2\n",
    "img = cv2.imread('KakaoTalk_20220811_120728313.jpg')\n",
    "img = cv2.resize(img,(640,480))"
   ]
  },
  {
   "cell_type": "code",
   "execution_count": null,
   "id": "6571a5db",
   "metadata": {},
   "outputs": [],
   "source": [
    "def calculate():\n",
    "    a=round(linearReg[0][0]*640)\n",
    "    b=round(linearReg[-1][0]*640)\n",
    "    c=round(linearReg[0][1]*480)\n",
    "    d=round(linearReg[-1][1]*480)\n",
    "    return (a,c), (b,d)"
   ]
  },
  {
   "cell_type": "code",
   "execution_count": 99,
   "id": "d1ae9237",
   "metadata": {},
   "outputs": [],
   "source": [
    "ju_line = cv2.line(img,(640,242),(640,235),(0,0,255))\n",
    "#cv2.flip(img,1)\n",
    "cv2.imshow('Line',img)\n",
    "cv2.waitKey()\n",
    "cv2.destroyAllWindows()"
   ]
  }
 ],
 "metadata": {
  "kernelspec": {
   "display_name": "Python 3 (ipykernel)",
   "language": "python",
   "name": "python3"
  },
  "language_info": {
   "codemirror_mode": {
    "name": "ipython",
    "version": 3
   },
   "file_extension": ".py",
   "mimetype": "text/x-python",
   "name": "python",
   "nbconvert_exporter": "python",
   "pygments_lexer": "ipython3",
   "version": "3.9.12"
  }
 },
 "nbformat": 4,
 "nbformat_minor": 5
}
