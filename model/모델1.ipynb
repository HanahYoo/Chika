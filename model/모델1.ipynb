{
 "cells": [
  {
   "cell_type": "code",
   "execution_count": 68,
   "id": "d6018d97-b089-4e7c-ba49-d8919d985f7d",
   "metadata": {},
   "outputs": [],
   "source": [
    "import torch\n",
    "import torch.nn as nn\n",
    "import numpy as np\n",
    "import pandas as pd\n",
    "from sklearn.preprocessing import StandardScaler"
   ]
  },
  {
   "cell_type": "code",
   "execution_count": 55,
   "id": "c5c0a0c3-3403-4834-830c-20328f12b847",
   "metadata": {},
   "outputs": [
    {
     "name": "stdout",
     "output_type": "stream",
     "text": [
      "/Users/choejuhui/Desktop/jupyter/Rhythm-of-Chika-data/Datasets\n"
     ]
    }
   ],
   "source": [
    "cd/Users/choejuhui/Desktop/jupyter/Rhythm-of-Chika-data/Datasets"
   ]
  },
  {
   "cell_type": "code",
   "execution_count": 50,
   "id": "a9021727-e31a-4b5a-8883-3cb9dd7c26aa",
   "metadata": {},
   "outputs": [],
   "source": [
    "input = torch.randn(100,3,3) #(batch, seq_len_, input_size)\n",
    "input_size= 3\n",
    "seq_length = 3\n",
    "hidden_size = 6\n",
    "num_layers = 2\n",
    "dropout_rate= 0.5\n",
    "num_classes = 2"
   ]
  },
  {
   "cell_type": "code",
   "execution_count": 56,
   "id": "bd9428bd-dc98-4aa1-8ff6-ceca556e3e37",
   "metadata": {},
   "outputs": [],
   "source": [
    "# 포지션 => 기울기로 변환\n",
    "# coef.shape = (300,1)\n",
    "def Coefficient(df): \n",
    "    coef = []\n",
    "    for i in range(50, 350):\n",
    "        frame1 = df[i][gradlab1][0:2]\n",
    "        frame2 = df[i][gradlab2][0:2]\n",
    "        frame = []\n",
    "        frame.append(frame1)\n",
    "        frame.append(frame2)\n",
    "        frame = pd.DataFrame(frame, columns= ['x','y'])\n",
    "        X = frame['x']\n",
    "        y = frame['y']\n",
    "        \n",
    "        line_fitter = LinearRegression()\n",
    "        line_fitter.fit(X.values.reshape(-1,1), y)\n",
    "        coef.append(line_fitter.coef_)\n",
    "    coef = pd.DataFrame(coef, columns= ['coef'])\n",
    "    \n",
    "    q3=coef['coef'].quantile(0.75)\n",
    "    q1=coef['coef'].quantile(0.25)\n",
    "    iqr=q3-q1\n",
    "    outlier_top=q3+1.5*iqr\n",
    "    outlier_bottom=q1-1.5*iqr\n",
    "    idx=coef[(coef['coef']<outlier_bottom) | (coef['coef']>outlier_top)].index\n",
    "    \n",
    "    idx_list=[]\n",
    "    for i in idx:\n",
    "        idx_list.append(str(i))\n",
    "    idx_list.append('end')\n",
    "\n",
    "    idx_string = ' '.join(idx_list)\n",
    "    idx_string_split = idx_string.split('end')\n",
    "    outlier_str = idx_string_split[0].strip()\n",
    "    outlier = list(map(int, outlier_str.split(' ')))\n",
    "\n",
    "    for i in range(len(coef)-1):\n",
    "        if i in outlier:\n",
    "            coef['coef'][i] = (coef['coef'][i-1] + coef['coef'][i+1])/2 \n",
    "    coef = np.array(coef)\n",
    "    \n",
    "    return coef"
   ]
  },
  {
   "cell_type": "code",
   "execution_count": 72,
   "id": "1eedef0e-17b7-497c-a740-22c472c02af4",
   "metadata": {},
   "outputs": [],
   "source": [
    "# 가속도 넘파이 이상치 변환\n",
    "# acc_array.shape = (300,2)\n",
    "def Acceleration(df, acclab):\n",
    "    df = pd.DataFrame(df[:,acclab,:], columns=['x','y','z'])\n",
    "    idx_list=[]\n",
    "    for i in ['x','y']:\n",
    "        q3=df[i].quantile(0.75)\n",
    "        q1=df[i].quantile(0.25)\n",
    "        iqr=q3-q1\n",
    "        outlier_top=q3+1.5*iqr\n",
    "        outlier_bottom=q1-1.5*iqr\n",
    "\n",
    "        idx=df[(df[i]<outlier_bottom) | (df[i]>outlier_top)].index\n",
    "        for i in idx:\n",
    "            idx_list.append(str(i))\n",
    "        idx_list.append('end')\n",
    "    \n",
    "    idx_string = ' '.join(idx_list)\n",
    "    idx_string_split = idx_string.split('end')\n",
    "    x_outlier_str = idx_string_split[0].strip()\n",
    "    y_outlier_str = idx_string_split[1].strip()\n",
    "    x_outlier = list(map(int, x_outlier_str.split(' ')[:-1]))\n",
    "    y_outlier = list(map(int, y_outlier_str.split(' ')[:-1]))\n",
    "    \n",
    "    acc_1_parsed = df[:,acclab,:2]\n",
    "    for i in range(len(pos_1)-1):\n",
    "        if i in x_outlier:\n",
    "            acc_1_parsed[i][0] = (acc_1_parsed[i-1][0] + acc_1_parsed[i+1][0])/2 \n",
    "        if i in y_outlier:\n",
    "            acc_1_parsed[i][1] = (acc_1_parsed[i-1][1] + acc_1_parsed[i+1][1])/2 \n",
    "\n",
    "    final_df = pd.DataFrame(acc_1_parsed, columns = ['x','y'])\n",
    "    acc_array = StandardScaler().fit_transform(final_df)\n",
    "    acc_array = acc_array[49:349,:]\n",
    "    \n",
    "    return acc_array "
   ]
  },
  {
   "cell_type": "code",
   "execution_count": null,
   "id": "74cd1e83-4b47-4405-99ec-617452e327f7",
   "metadata": {},
   "outputs": [],
   "source": [
    "#부위 별로 모델을 만들거라 상관없다 ..? (오답 데이터 가져오는 거 생각할 필요 있음) \n",
    "hand = 'Left'\n",
    "gesture_list = ['URF','UMF','ULF','DLF','DMF','DRF','URB','UMB','ULB','DLB','DMB','DRB','URO','ULO','DLO','DRO']\n",
    "right_gesture = gesture_list[i]\n",
    "num_session = #총 세션 개수 = batch size\n",
    "\n",
    "acclab1 = \n",
    "acclab2 = \n",
    "gradlab1 = \n",
    "gradlab2 = \n"
   ]
  },
  {
   "cell_type": "code",
   "execution_count": null,
   "id": "4cecaab3-cf74-448f-b389-43047c16d651",
   "metadata": {},
   "outputs": [],
   "source": [
    "def dataloader(gesture):\n",
    "    data = []\n",
    "    for i in range(1, num_session):\n",
    "        pos = np.load('%s_%s_p_%d.npy' % (hand, gesture, num_session))\n",
    "        acc = np.load('%s_%s_a_%d.npy' % (hand, gesture, num_session))\n",
    "        acc1 = Acceleration(acc, acclab1)\n",
    "        acc2 = Acceleration(acc, acclab2)\n",
    "        coef = Coefficient(pos)        \n",
    "        for k in range(300):\n",
    "    "
   ]
  },
  {
   "cell_type": "code",
   "execution_count": 67,
   "id": "9867eee3-46e2-4f3d-a744-582e9cb60cc5",
   "metadata": {},
   "outputs": [
    {
     "data": {
      "text/plain": [
       "(398, 21, 3)"
      ]
     },
     "execution_count": 67,
     "metadata": {},
     "output_type": "execute_result"
    }
   ],
   "source": [
    "acc = np.load('Left_ULF_a_5.npy')\n",
    "acc.shape"
   ]
  },
  {
   "cell_type": "code",
   "execution_count": 47,
   "id": "563c6ff3-8589-4ebb-a928-667a08a68e39",
   "metadata": {},
   "outputs": [],
   "source": [
    "class LSTM_Chicka(nn.Module):\n",
    "    def __init__(self, num_classes, input_size, hidden_size, num_layers, seq_length, dropout_rate):\n",
    "        super(LSTM_Chicka,self).__init__()\n",
    "        self.lstm =  nn.LSTM(input_size = input_size, hidden_size = hidden_size, num_layers = num_layers, dropout = dropout_rate, batch_first = True)\n",
    "        self.layer_1 = nn.Linear(hidden_size, 256)\n",
    "        self.layer_2 = nn.Linear(256,64)\n",
    "        self.layer_3 = nn.Linear(64,16)\n",
    "        self.layer_out = nn.Linear(16, num_classes) \n",
    "        self.relu = nn.ReLU()  \n",
    "        \n",
    "    def forward(self,x):\n",
    "        h_0 = torch.tensor(torch.zeros(self.num_layers, x.size(0), self.hidden_size)) # x.size(0) batch size \n",
    "        c_0 = torch.tensor(torch.zeros(self.num_layers, x.size(0), self.hidden_size))\n",
    "        \n",
    "        output, (hn,cn) = self.lstm(x,(h_0,c_0))\n",
    "        \n",
    "        hn = hn.view(-1, self.hidden_size)\n",
    "        out = self.relu(hn)\n",
    "        out = self.layer_1(out) \n",
    "        out = self.relu(out) \n",
    "        out = self.layer_2(out)\n",
    "        out = self.relu(out)\n",
    "        out = self.layer_3(out)\n",
    "        out = self.relu(out)\n",
    "        out = self.layer_out(out) \n",
    "\n",
    "        return out"
   ]
  },
  {
   "cell_type": "code",
   "execution_count": 46,
   "id": "55d39d43-ea74-4cec-83ec-8620fd570e2e",
   "metadata": {},
   "outputs": [],
   "source": [
    "model = LSTM_Chicka(num_classes, input_size, hidden_size, num_layers, seq_length, dropout_rate)\n",
    "criterion = torch.nn.BCELoss\n",
    "optimizer = torch.optim.Adam(model.parameters(), lr=0.01)\n",
    "scheduler = torch.optim.lr_scheduler.ReduceLROnPlateau(optimizer= optimizer)"
   ]
  },
  {
   "cell_type": "code",
   "execution_count": null,
   "id": "762e01a5-ac9a-4724-ad7b-e58eba09e063",
   "metadata": {},
   "outputs": [],
   "source": []
  }
 ],
 "metadata": {
  "kernelspec": {
   "display_name": "Python 3 (ipykernel)",
   "language": "python",
   "name": "python3"
  },
  "language_info": {
   "codemirror_mode": {
    "name": "ipython",
    "version": 3
   },
   "file_extension": ".py",
   "mimetype": "text/x-python",
   "name": "python",
   "nbconvert_exporter": "python",
   "pygments_lexer": "ipython3",
   "version": "3.9.7"
  }
 },
 "nbformat": 4,
 "nbformat_minor": 5
}
