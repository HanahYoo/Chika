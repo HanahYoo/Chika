{
 "cells": [
  {
   "cell_type": "code",
   "execution_count": 1,
   "id": "d6018d97-b089-4e7c-ba49-d8919d985f7d",
   "metadata": {},
   "outputs": [],
   "source": [
    "import torch\n",
    "import torch.nn as nn\n",
    "import numpy as np\n",
    "import pandas as pd\n",
    "from sklearn.preprocessing import StandardScaler"
   ]
  },
  {
   "cell_type": "code",
   "execution_count": 18,
   "id": "56c5a16f-35bd-463b-97e6-745170e3e847",
   "metadata": {},
   "outputs": [
    {
     "name": "stdout",
     "output_type": "stream",
     "text": [
      "C:\\Users\\0105l\\Desktop\\데이터\n"
     ]
    }
   ],
   "source": [
    "cd C:/Users/0105l/Desktop/데이터/"
   ]
  },
  {
   "cell_type": "code",
   "execution_count": 20,
   "id": "a9021727-e31a-4b5a-8883-3cb9dd7c26aa",
   "metadata": {},
   "outputs": [],
   "source": [
    "input = torch.randn(100,3,3) #(batch, seq_len_, input_size)\n",
    "input_size= 3\n",
    "seq_length = 3\n",
    "hidden_size = 6\n",
    "num_layers = 2\n",
    "dropout_rate= 0.5\n",
    "num_classes = 2"
   ]
  },
  {
   "cell_type": "code",
   "execution_count": 21,
   "id": "c7bcab8b-962a-4b96-999c-47b6c4bb79ed",
   "metadata": {},
   "outputs": [],
   "source": [
    "def distance(x1, y1, x2, y2):\n",
    "    m = (y2-y1) / (x2-x1)\n",
    "    return m"
   ]
  },
  {
   "cell_type": "code",
   "execution_count": 143,
   "id": "bd9428bd-dc98-4aa1-8ff6-ceca556e3e37",
   "metadata": {},
   "outputs": [],
   "source": [
    "# 포지션 => 기울기로 변환\n",
    "# coef.shape = (300,1)\n",
    "def Coefficient(df): \n",
    "    coef = []\n",
    "    for i in range(49, 351):\n",
    "        frame1 = df[i][gradlab1][0:2]\n",
    "        frame2 = df[i][gradlab2][0:2]\n",
    "        coef.append(distance(frame1[0], frame1[1], frame2[0], frame2[1]))\n",
    "    coef = pd.DataFrame(coef, columns= ['coef'])\n",
    "    \n",
    "    q3=coef['coef'].quantile(0.75)\n",
    "    q1=coef['coef'].quantile(0.25)\n",
    "    iqr=q3-q1\n",
    "    outlier_top=q3+1.5*iqr\n",
    "    outlier_bottom=q1-1.5*iqr\n",
    "    idx=coef[(coef['coef']<outlier_bottom) | (coef['coef']>outlier_top)].index\n",
    "    \n",
    "    idx_list=[]\n",
    "    for i in idx:\n",
    "        idx_list.append(str(i))\n",
    "    idx_list.append('end')\n",
    "\n",
    "    idx_string = ' '.join(idx_list)\n",
    "    idx_string_split = idx_string.split('end')\n",
    "    outlier_str = idx_string_split[0].strip()\n",
    "    outlier = list(map(int, outlier_str.split(' ')))\n",
    "\n",
    "    for i in range(len(coef)-1):\n",
    "        if i in outlier:\n",
    "            if i == 0:\n",
    "                continue\n",
    "            elif i != (len(coef)-1):\n",
    "                coef['coef'][i] = (coef['coef'][i-1] + coef['coef'][i+1])/2\n",
    "            else:\n",
    "                break\n",
    "                \n",
    "    coef = np.array(coef)[1:301]\n",
    "    \n",
    "    return coef"
   ]
  },
  {
   "cell_type": "code",
   "execution_count": 144,
   "id": "1eedef0e-17b7-497c-a740-22c472c02af4",
   "metadata": {},
   "outputs": [],
   "source": [
    "# 가속도 넘파이 이상치 변환\n",
    "# acc_array.shape = (300,2)\n",
    "def Acceleration(pos_1, array_1, acclab):\n",
    "    df = pd.DataFrame(array_1[:,acclab,:], columns=['x','y','z'])\n",
    "    idx_list=[]\n",
    "    for i in ['x','y','z']:\n",
    "        q3=df[i].quantile(0.75)\n",
    "        q1=df[i].quantile(0.25)\n",
    "        iqr=q3-q1\n",
    "        outlier_top=q3+1.5*iqr\n",
    "        outlier_bottom=q1-1.5*iqr\n",
    "\n",
    "        idx=df[(df[i]<outlier_bottom) | (df[i]>outlier_top)].index\n",
    "        for i in idx:\n",
    "            idx_list.append(str(i))\n",
    "        idx_list.append('end')\n",
    "    \n",
    "    idx_string = ' '.join(idx_list)\n",
    "    idx_string_split = idx_string.split('end')\n",
    "    x_outlier_str = idx_string_split[0].strip()\n",
    "    y_outlier_str = idx_string_split[1].strip()\n",
    "    x_outlier = list(map(int, x_outlier_str.split(' ')[:-1]))\n",
    "    y_outlier = list(map(int, y_outlier_str.split(' ')[:-1]))\n",
    "    \n",
    "    acc_1_parsed = array_1[:,acclab,:]\n",
    "    for i in range(len(pos_1)-1):\n",
    "        if i in x_outlier:\n",
    "            acc_1_parsed[i][0] = (acc_1_parsed[i-1][0] + acc_1_parsed[i+1][0])/2 \n",
    "        if i in y_outlier:\n",
    "            acc_1_parsed[i][1] = (acc_1_parsed[i-1][1] + acc_1_parsed[i+1][1])/2 \n",
    "       \n",
    "    final_df = pd.DataFrame(acc_1_parsed, columns = ['x','y','z'])\n",
    "    acc_array = StandardScaler().fit_transform(final_df)\n",
    "    acc_array = acc_array[49:349,:]\n",
    "    \n",
    "    return acc_array[:,:2] "
   ]
  },
  {
   "cell_type": "code",
   "execution_count": 145,
   "id": "74cd1e83-4b47-4405-99ec-617452e327f7",
   "metadata": {},
   "outputs": [],
   "source": [
    "#부위 별로 모델을 만들거라 상관없다 ..? (오답 데이터 가져오는 거 생각할 필요 있음) \n",
    "hand = 'Right'\n",
    "gesture_list = ['URF','UMF','ULF','DLF','DMF','DRF','URB','UMB','ULB','DLB','DMB','DRB','URO','ULO','DLO','DRO']\n",
    "right_gesture = gesture_list[0]\n",
    "num_session = 5\n",
    "#총 세션 개수 = batch size\n",
    "#5로 적어야 1~4까지 들어감\n",
    "\n",
    "acclab1 = 8\n",
    "acclab2 = 12\n",
    "gradlab1 = 8\n",
    "gradlab2 = 12\n"
   ]
  },
  {
   "cell_type": "code",
   "execution_count": 146,
   "id": "4cecaab3-cf74-448f-b389-43047c16d651",
   "metadata": {},
   "outputs": [],
   "source": [
    "def dataloader(gesture):\n",
    "    data2 = np.zeros((1,300,6))\n",
    "    for i in range(1, num_session):\n",
    "        data = np.zeros((300,1))\n",
    "        pos = np.load('%s_%s_p_%d.npy' % (hand, gesture, i))\n",
    "        acc = np.load('%s_%s_a_%d.npy' % (hand, gesture, i))\n",
    "        acc1 = Acceleration(pos, acc, acclab1)\n",
    "        acc2 = Acceleration(pos, acc, acclab2)\n",
    "        coef = Coefficient(pos)\n",
    "        if gesture == right_gesture:\n",
    "            label = np.ones((300,1))\n",
    "        else:\n",
    "            label = np.zeros((300,1))\n",
    "        data = np.hstack((data,acc1,acc2,coef,label))\n",
    "        data = data[:, 1:].reshape((1,300,6))\n",
    "        data2 = np.vstack((data2,data))\n",
    "    \n",
    "        \n",
    "    return data2"
   ]
  },
  {
   "cell_type": "code",
   "execution_count": 149,
   "id": "16c135a7-6739-4ddb-adaf-2b1575724874",
   "metadata": {},
   "outputs": [],
   "source": [
    "target_data = dataloader('URF')\n",
    "error_data = dataloader('DLB')"
   ]
  },
  {
   "cell_type": "code",
   "execution_count": 150,
   "id": "d11f3b5d-225f-4a05-8d78-154eded74b1f",
   "metadata": {},
   "outputs": [
    {
     "data": {
      "text/plain": [
       "((5, 300, 6), (5, 300, 6))"
      ]
     },
     "execution_count": 150,
     "metadata": {},
     "output_type": "execute_result"
    }
   ],
   "source": [
    "target_data.shape, error_data.shape"
   ]
  },
  {
   "cell_type": "code",
   "execution_count": 67,
   "id": "9867eee3-46e2-4f3d-a744-582e9cb60cc5",
   "metadata": {},
   "outputs": [
    {
     "data": {
      "text/plain": [
       "(398, 21, 3)"
      ]
     },
     "execution_count": 67,
     "metadata": {},
     "output_type": "execute_result"
    }
   ],
   "source": [
    "acc = np.load('Left_ULF_a_5.npy')\n",
    "acc.shape"
   ]
  },
  {
   "cell_type": "code",
   "execution_count": 47,
   "id": "563c6ff3-8589-4ebb-a928-667a08a68e39",
   "metadata": {},
   "outputs": [],
   "source": [
    "class LSTM_Chicka(nn.Module):\n",
    "    def __init__(self, num_classes, input_size, hidden_size, num_layers, seq_length, dropout_rate):\n",
    "        super(LSTM_Chicka,self).__init__()\n",
    "        self.lstm =  nn.LSTM(input_size = input_size, hidden_size = hidden_size, num_layers = num_layers, dropout = dropout_rate, batch_first = True)\n",
    "        self.layer_1 = nn.Linear(hidden_size, 256)\n",
    "        self.layer_2 = nn.Linear(256,64)\n",
    "        self.layer_3 = nn.Linear(64,16)\n",
    "        self.layer_out = nn.Linear(16, num_classes) \n",
    "        self.relu = nn.ReLU()  \n",
    "        \n",
    "    def forward(self,x):\n",
    "        h_0 = torch.tensor(torch.zeros(self.num_layers, x.size(0), self.hidden_size)) # x.size(0) batch size \n",
    "        c_0 = torch.tensor(torch.zeros(self.num_layers, x.size(0), self.hidden_size))\n",
    "        \n",
    "        output, (hn,cn) = self.lstm(x,(h_0,c_0))\n",
    "        \n",
    "        hn = hn.view(-1, self.hidden_size)\n",
    "        out = self.relu(hn)\n",
    "        out = self.layer_1(out) \n",
    "        out = self.relu(out) \n",
    "        out = self.layer_2(out)\n",
    "        out = self.relu(out)\n",
    "        out = self.layer_3(out)\n",
    "        out = self.relu(out)\n",
    "        out = self.layer_out(out) \n",
    "\n",
    "        return out"
   ]
  },
  {
   "cell_type": "code",
   "execution_count": 46,
   "id": "55d39d43-ea74-4cec-83ec-8620fd570e2e",
   "metadata": {},
   "outputs": [],
   "source": [
    "model = LSTM_Chicka(num_classes, input_size, hidden_size, num_layers, seq_length, dropout_rate)\n",
    "criterion = torch.nn.BCELoss\n",
    "optimizer = torch.optim.Adam(model.parameters(), lr=0.01)\n",
    "scheduler = torch.optim.lr_scheduler.ReduceLROnPlateau(optimizer= optimizer)"
   ]
  },
  {
   "cell_type": "code",
   "execution_count": null,
   "id": "762e01a5-ac9a-4724-ad7b-e58eba09e063",
   "metadata": {},
   "outputs": [],
   "source": []
  }
 ],
 "metadata": {
  "kernelspec": {
   "display_name": "Python 3 (ipykernel)",
   "language": "python",
   "name": "python3"
  },
  "language_info": {
   "codemirror_mode": {
    "name": "ipython",
    "version": 3
   },
   "file_extension": ".py",
   "mimetype": "text/x-python",
   "name": "python",
   "nbconvert_exporter": "python",
   "pygments_lexer": "ipython3",
   "version": "3.9.7"
  }
 },
 "nbformat": 4,
 "nbformat_minor": 5
}
