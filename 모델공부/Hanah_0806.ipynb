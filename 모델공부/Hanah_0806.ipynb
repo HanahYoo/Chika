{
 "cells": [
  {
   "cell_type": "code",
   "execution_count": 2,
   "id": "c24b32be",
   "metadata": {},
   "outputs": [
    {
     "name": "stdout",
     "output_type": "stream",
     "text": [
      "Collecting pandas_datareader\n",
      "  Downloading pandas_datareader-0.10.0-py3-none-any.whl (109 kB)\n",
      "Requirement already satisfied: pandas>=0.23 in c:\\users\\hanah\\anaconda3\\lib\\site-packages (from pandas_datareader) (1.4.2)\n",
      "Requirement already satisfied: lxml in c:\\users\\hanah\\anaconda3\\lib\\site-packages (from pandas_datareader) (4.8.0)\n",
      "Requirement already satisfied: requests>=2.19.0 in c:\\users\\hanah\\anaconda3\\lib\\site-packages (from pandas_datareader) (2.27.1)\n",
      "Requirement already satisfied: python-dateutil>=2.8.1 in c:\\users\\hanah\\anaconda3\\lib\\site-packages (from pandas>=0.23->pandas_datareader) (2.8.2)\n",
      "Requirement already satisfied: pytz>=2020.1 in c:\\users\\hanah\\anaconda3\\lib\\site-packages (from pandas>=0.23->pandas_datareader) (2021.3)\n",
      "Requirement already satisfied: numpy>=1.18.5 in c:\\users\\hanah\\anaconda3\\lib\\site-packages (from pandas>=0.23->pandas_datareader) (1.23.1)\n",
      "Requirement already satisfied: six>=1.5 in c:\\users\\hanah\\anaconda3\\lib\\site-packages (from python-dateutil>=2.8.1->pandas>=0.23->pandas_datareader) (1.16.0)\n",
      "Requirement already satisfied: certifi>=2017.4.17 in c:\\users\\hanah\\anaconda3\\lib\\site-packages (from requests>=2.19.0->pandas_datareader) (2021.10.8)\n",
      "Requirement already satisfied: charset-normalizer~=2.0.0 in c:\\users\\hanah\\anaconda3\\lib\\site-packages (from requests>=2.19.0->pandas_datareader) (2.0.4)\n",
      "Requirement already satisfied: idna<4,>=2.5 in c:\\users\\hanah\\anaconda3\\lib\\site-packages (from requests>=2.19.0->pandas_datareader) (3.3)\n",
      "Requirement already satisfied: urllib3<1.27,>=1.21.1 in c:\\users\\hanah\\anaconda3\\lib\\site-packages (from requests>=2.19.0->pandas_datareader) (1.26.9)\n",
      "Installing collected packages: pandas-datareader\n",
      "Successfully installed pandas-datareader-0.10.0\n"
     ]
    }
   ],
   "source": [
    "!pip install pandas_datareader"
   ]
  },
  {
   "cell_type": "code",
   "execution_count": 65,
   "id": "79f9469f",
   "metadata": {},
   "outputs": [],
   "source": [
    "import numpy as np\n",
    "import pandas as pd\n",
    "import pandas_datareader.data as pdr\n",
    "import matplotlib.pyplot as plt\n",
    "import datetime\n",
    "import torch\n",
    "import torch.nn as nn\n",
    "from torch.autograd import Variable\n",
    "import torch.optim as optim\n",
    "from torch.utils.data import Dataset, DataLoader"
   ]
  },
  {
   "cell_type": "code",
   "execution_count": 31,
   "id": "723992c2",
   "metadata": {},
   "outputs": [
    {
     "data": {
      "text/html": [
       "<div>\n",
       "<style scoped>\n",
       "    .dataframe tbody tr th:only-of-type {\n",
       "        vertical-align: middle;\n",
       "    }\n",
       "\n",
       "    .dataframe tbody tr th {\n",
       "        vertical-align: top;\n",
       "    }\n",
       "\n",
       "    .dataframe thead th {\n",
       "        text-align: right;\n",
       "    }\n",
       "</style>\n",
       "<table border=\"1\" class=\"dataframe\">\n",
       "  <thead>\n",
       "    <tr style=\"text-align: right;\">\n",
       "      <th></th>\n",
       "      <th>High</th>\n",
       "      <th>Low</th>\n",
       "      <th>Open</th>\n",
       "      <th>Close</th>\n",
       "      <th>Volume</th>\n",
       "      <th>Adj Close</th>\n",
       "    </tr>\n",
       "    <tr>\n",
       "      <th>Date</th>\n",
       "      <th></th>\n",
       "      <th></th>\n",
       "      <th></th>\n",
       "      <th></th>\n",
       "      <th></th>\n",
       "      <th></th>\n",
       "    </tr>\n",
       "  </thead>\n",
       "  <tbody>\n",
       "    <tr>\n",
       "      <th>2019-08-05</th>\n",
       "      <td>44600.0</td>\n",
       "      <td>43600.0</td>\n",
       "      <td>44350.0</td>\n",
       "      <td>43950.0</td>\n",
       "      <td>14214086.0</td>\n",
       "      <td>40248.046875</td>\n",
       "    </tr>\n",
       "    <tr>\n",
       "      <th>2019-08-06</th>\n",
       "      <td>43800.0</td>\n",
       "      <td>42500.0</td>\n",
       "      <td>42500.0</td>\n",
       "      <td>43500.0</td>\n",
       "      <td>15083824.0</td>\n",
       "      <td>39835.957031</td>\n",
       "    </tr>\n",
       "    <tr>\n",
       "      <th>2019-08-07</th>\n",
       "      <td>43900.0</td>\n",
       "      <td>43100.0</td>\n",
       "      <td>43600.0</td>\n",
       "      <td>43200.0</td>\n",
       "      <td>10002533.0</td>\n",
       "      <td>39561.226562</td>\n",
       "    </tr>\n",
       "    <tr>\n",
       "      <th>2019-08-08</th>\n",
       "      <td>43500.0</td>\n",
       "      <td>42650.0</td>\n",
       "      <td>43250.0</td>\n",
       "      <td>42650.0</td>\n",
       "      <td>16926881.0</td>\n",
       "      <td>39057.562500</td>\n",
       "    </tr>\n",
       "    <tr>\n",
       "      <th>2019-08-09</th>\n",
       "      <td>43350.0</td>\n",
       "      <td>43050.0</td>\n",
       "      <td>43250.0</td>\n",
       "      <td>43150.0</td>\n",
       "      <td>9685147.0</td>\n",
       "      <td>39515.437500</td>\n",
       "    </tr>\n",
       "  </tbody>\n",
       "</table>\n",
       "</div>"
      ],
      "text/plain": [
       "               High      Low     Open    Close      Volume     Adj Close\n",
       "Date                                                                    \n",
       "2019-08-05  44600.0  43600.0  44350.0  43950.0  14214086.0  40248.046875\n",
       "2019-08-06  43800.0  42500.0  42500.0  43500.0  15083824.0  39835.957031\n",
       "2019-08-07  43900.0  43100.0  43600.0  43200.0  10002533.0  39561.226562\n",
       "2019-08-08  43500.0  42650.0  43250.0  42650.0  16926881.0  39057.562500\n",
       "2019-08-09  43350.0  43050.0  43250.0  43150.0   9685147.0  39515.437500"
      ]
     },
     "execution_count": 31,
     "metadata": {},
     "output_type": "execute_result"
    }
   ],
   "source": [
    "start = (2019,8,5)  \n",
    "start = datetime.datetime(*start)  \n",
    "end = datetime.date.today() \n",
    "\n",
    "df = pdr.DataReader('005930.KS', 'yahoo', start, end)\n",
    "df.head(5)"
   ]
  },
  {
   "cell_type": "code",
   "execution_count": 32,
   "id": "257ac3c5",
   "metadata": {},
   "outputs": [
    {
     "data": {
      "text/plain": [
       "<AxesSubplot:xlabel='Date'>"
      ]
     },
     "execution_count": 32,
     "metadata": {},
     "output_type": "execute_result"
    },
    {
     "data": {
      "image/png": "[encoded data removed]",
      "text/plain": [
       "<Figure size 432x288 with 1 Axes>"
      ]
     },
     "metadata": {
      "needs_background": "light"
     },
     "output_type": "display_data"
    }
   ],
   "source": [
    "df.Close.plot(grid=True)"
   ]
  },
  {
   "cell_type": "code",
   "execution_count": 33,
   "id": "230bb7ec",
   "metadata": {},
   "outputs": [
    {
     "name": "stdout",
     "output_type": "stream",
     "text": [
      "               High      Low     Open    Close     Adj Close\n",
      "Date                                                        \n",
      "2019-08-05  44600.0  43600.0  44350.0  43950.0  40248.046875\n",
      "2019-08-06  43800.0  42500.0  42500.0  43500.0  39835.957031\n",
      "2019-08-07  43900.0  43100.0  43600.0  43200.0  39561.226562\n",
      "2019-08-08  43500.0  42650.0  43250.0  42650.0  39057.562500\n",
      "2019-08-09  43350.0  43050.0  43250.0  43150.0  39515.437500\n",
      "...             ...      ...      ...      ...           ...\n",
      "2022-08-01  61700.0  60300.0  61000.0  61300.0  61300.000000\n",
      "2022-08-02  61900.0  61000.0  61200.0  61700.0  61700.000000\n",
      "2022-08-03  61600.0  61000.0  61600.0  61300.0  61300.000000\n",
      "2022-08-04  61800.0  61200.0  61700.0  61500.0  61500.000000\n",
      "2022-08-05  61900.0  61200.0  61700.0  61500.0  61500.000000\n",
      "\n",
      "[741 rows x 5 columns]\n",
      "               Adj Close\n",
      "Date                    \n",
      "2019-08-05  40248.046875\n",
      "2019-08-06  39835.957031\n",
      "2019-08-07  39561.226562\n",
      "2019-08-08  39057.562500\n",
      "2019-08-09  39515.437500\n",
      "...                  ...\n",
      "2022-08-01  61300.000000\n",
      "2022-08-02  61700.000000\n",
      "2022-08-03  61300.000000\n",
      "2022-08-04  61500.000000\n",
      "2022-08-05  61500.000000\n",
      "\n",
      "[741 rows x 1 columns]\n"
     ]
    }
   ],
   "source": [
    "X = df.drop(columns='Volume')\n",
    "y = df.iloc[:, 5:6]\n",
    "print(X)\n",
    "print(y)"
   ]
  },
  {
   "cell_type": "code",
   "execution_count": 34,
   "id": "112b0cbc",
   "metadata": {},
   "outputs": [],
   "source": [
    "#학습이 잘되기 위해 데이터 정규화 \n",
    "#StandardScaler\t각 특징의 평균을 0, 분산을 1이 되도록 변경\n",
    "#MinMaxScaler\t최대/최소값이 각각 1, 0이 되도록 변경\n",
    "\n",
    "from sklearn.preprocessing import StandardScaler, MinMaxScaler\n",
    "mm = MinMaxScaler()\n",
    "ss = StandardScaler()\n",
    "\n",
    "X_ss = ss.fit_transform(X)\n",
    "y_mm = mm.fit_transform(y)"
   ]
  },
  {
   "cell_type": "code",
   "execution_count": 46,
   "id": "c9348216",
   "metadata": {},
   "outputs": [
    {
     "data": {
      "text/plain": [
       "array([[-1.72118524, -1.72137113, -1.70229293, -1.73394808, -1.73691421],\n",
       "       [-1.78509976, -1.81007658, -1.85080994, -1.77014006, -1.76820701],\n",
       "       [-1.77711045, -1.76169179, -1.76250253, -1.79426805, -1.78906918],\n",
       "       ...,\n",
       "       [-0.3630017 , -0.31821217, -0.31747223, -0.33854616, -0.13829525],\n",
       "       [-0.34702307, -0.30208391, -0.30944428, -0.32246083, -0.12310788],\n",
       "       [-0.33903375, -0.30208391, -0.30944428, -0.32246083, -0.12310788]])"
      ]
     },
     "execution_count": 46,
     "metadata": {},
     "output_type": "execute_result"
    }
   ],
   "source": [
    "X_ss"
   ]
  },
  {
   "cell_type": "code",
   "execution_count": 40,
   "id": "a18beea2",
   "metadata": {},
   "outputs": [
    {
     "name": "stdout",
     "output_type": "stream",
     "text": [
      "Training Shape (550, 5) (550, 1)\n",
      "Testing Shape (191, 5) (191, 1)\n"
     ]
    }
   ],
   "source": [
    "X_train = X_ss[:550, :]\n",
    "X_test = X_ss[550:, :]\n",
    "y_train = y_mm[:550, :]\n",
    "y_test = y_mm[550:, :] \n",
    "\n",
    "print(\"Training Shape\", X_train.shape, y_train.shape)\n",
    "print(\"Testing Shape\", X_test.shape, y_test.shape) "
   ]
  },
  {
   "cell_type": "code",
   "execution_count": 56,
   "id": "49243c4f",
   "metadata": {},
   "outputs": [
    {
     "data": {
      "text/plain": [
       "tensor([[-1.7212, -1.7214, -1.7023, -1.7339, -1.7369],\n",
       "        [-1.7851, -1.8101, -1.8508, -1.7701, -1.7682],\n",
       "        [-1.7771, -1.7617, -1.7625, -1.7943, -1.7891],\n",
       "        ...,\n",
       "        [ 0.3560,  0.3672,  0.3488,  0.3773,  0.4542],\n",
       "        [ 0.4279,  0.4398,  0.4050,  0.4496,  0.5215],\n",
       "        [ 0.3880,  0.4076,  0.4372,  0.3692,  0.4467]])"
      ]
     },
     "execution_count": 56,
     "metadata": {},
     "output_type": "execute_result"
    }
   ],
   "source": [
    "#torch로 만들어주기\n",
    "X_train_tensors = Variable(torch.Tensor(X_train))\n",
    "X_test_tensors = Variable(torch.Tensor(X_test))\n",
    "\n",
    "y_train_tensors = Variable(torch.Tensor(y_train))\n",
    "y_test_tensors = Variable(torch.Tensor(y_test))\n",
    "\n",
    "X_train_tensors"
   ]
  },
  {
   "cell_type": "code",
   "execution_count": 57,
   "id": "a49ff5e8",
   "metadata": {},
   "outputs": [
    {
     "name": "stdout",
     "output_type": "stream",
     "text": [
      "Training Shape torch.Size([550, 1, 5]) torch.Size([550, 1])\n",
      "Testing Shape torch.Size([191, 1, 5]) torch.Size([191, 1])\n"
     ]
    }
   ],
   "source": [
    "X_train_tensors_final = torch.reshape(X_train_tensors,   (X_train_tensors.shape[0], 1, X_train_tensors.shape[1]))\n",
    "X_test_tensors_final = torch.reshape(X_test_tensors,  (X_test_tensors.shape[0], 1, X_test_tensors.shape[1])) \n",
    "\n",
    "print(\"Training Shape\", X_train_tensors_final.shape, y_train_tensors.shape)\n",
    "print(\"Testing Shape\", X_test_tensors_final.shape, y_test_tensors.shape) "
   ]
  },
  {
   "cell_type": "code",
   "execution_count": 70,
   "id": "ae0c9f19",
   "metadata": {},
   "outputs": [
    {
     "ename": "SyntaxError",
     "evalue": "invalid non-printable character U+00A0 (3963357024.py, line 1)",
     "output_type": "error",
     "traceback": [
      "\u001b[1;36m  Input \u001b[1;32mIn [70]\u001b[1;36m\u001b[0m\n\u001b[1;33m    pip3 install torch==1.10.0+cu113 torchvision==0.11.1+cu113 torchaudio===0.10.0+cu113 -f https://download.pytorch.org/whl/cu113/torch_stable.html\u001b[0m\n\u001b[1;37m        ^\u001b[0m\n\u001b[1;31mSyntaxError\u001b[0m\u001b[1;31m:\u001b[0m invalid non-printable character U+00A0\n"
     ]
    }
   ],
   "source": [
    "pip3 install torch==1.10.0+cu113 torchvision==0.11.1+cu113 torchaudio===0.10.0+cu113 -f https://download.pytorch.org/whl/cu113/torch_stable.html"
   ]
  },
  {
   "cell_type": "code",
   "execution_count": 72,
   "id": "87d370f2",
   "metadata": {},
   "outputs": [
    {
     "data": {
      "text/plain": [
       "False"
      ]
     },
     "execution_count": 72,
     "metadata": {},
     "output_type": "execute_result"
    }
   ],
   "source": [
    "torch.cuda.is_available()"
   ]
  },
  {
   "cell_type": "code",
   "execution_count": 76,
   "id": "bf653d37",
   "metadata": {},
   "outputs": [
    {
     "ename": "AssertionError",
     "evalue": "Torch not compiled with CUDA enabled",
     "output_type": "error",
     "traceback": [
      "\u001b[1;31m---------------------------------------------------------------------------\u001b[0m",
      "\u001b[1;31mAssertionError\u001b[0m                            Traceback (most recent call last)",
      "Input \u001b[1;32mIn [76]\u001b[0m, in \u001b[0;36m<cell line: 2>\u001b[1;34m()\u001b[0m\n\u001b[0;32m      1\u001b[0m device \u001b[38;5;241m=\u001b[39m torch\u001b[38;5;241m.\u001b[39mdevice(\u001b[38;5;124m\"\u001b[39m\u001b[38;5;124mcpu\u001b[39m\u001b[38;5;124m\"\u001b[39m)\n\u001b[1;32m----> 2\u001b[0m \u001b[38;5;28mprint\u001b[39m(\u001b[43mtorch\u001b[49m\u001b[38;5;241;43m.\u001b[39;49m\u001b[43mcuda\u001b[49m\u001b[38;5;241;43m.\u001b[39;49m\u001b[43mget_device_name\u001b[49m\u001b[43m(\u001b[49m\u001b[38;5;241;43m0\u001b[39;49m\u001b[43m)\u001b[49m)\n",
      "File \u001b[1;32m~\\anaconda3\\lib\\site-packages\\torch\\cuda\\__init__.py:329\u001b[0m, in \u001b[0;36mget_device_name\u001b[1;34m(device)\u001b[0m\n\u001b[0;32m    317\u001b[0m \u001b[38;5;28;01mdef\u001b[39;00m \u001b[38;5;21mget_device_name\u001b[39m(device: Optional[_device_t] \u001b[38;5;241m=\u001b[39m \u001b[38;5;28;01mNone\u001b[39;00m) \u001b[38;5;241m-\u001b[39m\u001b[38;5;241m>\u001b[39m \u001b[38;5;28mstr\u001b[39m:\n\u001b[0;32m    318\u001b[0m     \u001b[38;5;124mr\u001b[39m\u001b[38;5;124;03m\"\"\"Gets the name of a device.\u001b[39;00m\n\u001b[0;32m    319\u001b[0m \n\u001b[0;32m    320\u001b[0m \u001b[38;5;124;03m    Args:\u001b[39;00m\n\u001b[1;32m   (...)\u001b[0m\n\u001b[0;32m    327\u001b[0m \u001b[38;5;124;03m        str: the name of the device\u001b[39;00m\n\u001b[0;32m    328\u001b[0m \u001b[38;5;124;03m    \"\"\"\u001b[39;00m\n\u001b[1;32m--> 329\u001b[0m     \u001b[38;5;28;01mreturn\u001b[39;00m \u001b[43mget_device_properties\u001b[49m\u001b[43m(\u001b[49m\u001b[43mdevice\u001b[49m\u001b[43m)\u001b[49m\u001b[38;5;241m.\u001b[39mname\n",
      "File \u001b[1;32m~\\anaconda3\\lib\\site-packages\\torch\\cuda\\__init__.py:359\u001b[0m, in \u001b[0;36mget_device_properties\u001b[1;34m(device)\u001b[0m\n\u001b[0;32m    349\u001b[0m \u001b[38;5;28;01mdef\u001b[39;00m \u001b[38;5;21mget_device_properties\u001b[39m(device: _device_t) \u001b[38;5;241m-\u001b[39m\u001b[38;5;241m>\u001b[39m _CudaDeviceProperties:\n\u001b[0;32m    350\u001b[0m     \u001b[38;5;124mr\u001b[39m\u001b[38;5;124;03m\"\"\"Gets the properties of a device.\u001b[39;00m\n\u001b[0;32m    351\u001b[0m \n\u001b[0;32m    352\u001b[0m \u001b[38;5;124;03m    Args:\u001b[39;00m\n\u001b[1;32m   (...)\u001b[0m\n\u001b[0;32m    357\u001b[0m \u001b[38;5;124;03m        _CudaDeviceProperties: the properties of the device\u001b[39;00m\n\u001b[0;32m    358\u001b[0m \u001b[38;5;124;03m    \"\"\"\u001b[39;00m\n\u001b[1;32m--> 359\u001b[0m     \u001b[43m_lazy_init\u001b[49m\u001b[43m(\u001b[49m\u001b[43m)\u001b[49m  \u001b[38;5;66;03m# will define _get_device_properties\u001b[39;00m\n\u001b[0;32m    360\u001b[0m     device \u001b[38;5;241m=\u001b[39m _get_device_index(device, optional\u001b[38;5;241m=\u001b[39m\u001b[38;5;28;01mTrue\u001b[39;00m)\n\u001b[0;32m    361\u001b[0m     \u001b[38;5;28;01mif\u001b[39;00m device \u001b[38;5;241m<\u001b[39m \u001b[38;5;241m0\u001b[39m \u001b[38;5;129;01mor\u001b[39;00m device \u001b[38;5;241m>\u001b[39m\u001b[38;5;241m=\u001b[39m device_count():\n",
      "File \u001b[1;32m~\\anaconda3\\lib\\site-packages\\torch\\cuda\\__init__.py:211\u001b[0m, in \u001b[0;36m_lazy_init\u001b[1;34m()\u001b[0m\n\u001b[0;32m    207\u001b[0m     \u001b[38;5;28;01mraise\u001b[39;00m \u001b[38;5;167;01mRuntimeError\u001b[39;00m(\n\u001b[0;32m    208\u001b[0m         \u001b[38;5;124m\"\u001b[39m\u001b[38;5;124mCannot re-initialize CUDA in forked subprocess. To use CUDA with \u001b[39m\u001b[38;5;124m\"\u001b[39m\n\u001b[0;32m    209\u001b[0m         \u001b[38;5;124m\"\u001b[39m\u001b[38;5;124mmultiprocessing, you must use the \u001b[39m\u001b[38;5;124m'\u001b[39m\u001b[38;5;124mspawn\u001b[39m\u001b[38;5;124m'\u001b[39m\u001b[38;5;124m start method\u001b[39m\u001b[38;5;124m\"\u001b[39m)\n\u001b[0;32m    210\u001b[0m \u001b[38;5;28;01mif\u001b[39;00m \u001b[38;5;129;01mnot\u001b[39;00m \u001b[38;5;28mhasattr\u001b[39m(torch\u001b[38;5;241m.\u001b[39m_C, \u001b[38;5;124m'\u001b[39m\u001b[38;5;124m_cuda_getDeviceCount\u001b[39m\u001b[38;5;124m'\u001b[39m):\n\u001b[1;32m--> 211\u001b[0m     \u001b[38;5;28;01mraise\u001b[39;00m \u001b[38;5;167;01mAssertionError\u001b[39;00m(\u001b[38;5;124m\"\u001b[39m\u001b[38;5;124mTorch not compiled with CUDA enabled\u001b[39m\u001b[38;5;124m\"\u001b[39m)\n\u001b[0;32m    212\u001b[0m \u001b[38;5;28;01mif\u001b[39;00m _cudart \u001b[38;5;129;01mis\u001b[39;00m \u001b[38;5;28;01mNone\u001b[39;00m:\n\u001b[0;32m    213\u001b[0m     \u001b[38;5;28;01mraise\u001b[39;00m \u001b[38;5;167;01mAssertionError\u001b[39;00m(\n\u001b[0;32m    214\u001b[0m         \u001b[38;5;124m\"\u001b[39m\u001b[38;5;124mlibcudart functions unavailable. It looks like you have a broken build?\u001b[39m\u001b[38;5;124m\"\u001b[39m)\n",
      "\u001b[1;31mAssertionError\u001b[0m: Torch not compiled with CUDA enabled"
     ]
    }
   ],
   "source": [
    "device = torch.device(\"cuda:0\" if torch.cuda.is_available() else \"cpu\")\n",
    "print(torch.cuda.get_device_name(0))"
   ]
  },
  {
   "cell_type": "code",
   "execution_count": 61,
   "id": "159cfb92",
   "metadata": {},
   "outputs": [],
   "source": [
    "device = torch.device(\"cpu\")"
   ]
  },
  {
   "cell_type": "code",
   "execution_count": 63,
   "id": "01e66f20",
   "metadata": {},
   "outputs": [],
   "source": [
    "class LSTM1(nn.Module):\n",
    "  def __init__(self, num_classes, input_size, hidden_size, num_layers, seq_length):\n",
    "    super(LSTM1, self).__init__()\n",
    "    self.num_classes = num_classes #number of classes\n",
    "    self.num_layers = num_layers #number of layers\n",
    "    self.input_size = input_size #input size\n",
    "    self.hidden_size = hidden_size #hidden state\n",
    "    self.seq_length = seq_length #sequence length\n",
    " \n",
    "    self.lstm = nn.LSTM(input_size=input_size, hidden_size=hidden_size,\n",
    "                      num_layers=num_layers, batch_first=True) #lstm\n",
    "    self.fc_1 =  nn.Linear(hidden_size, 128) #fully connected 1\n",
    "    self.fc = nn.Linear(128, num_classes) #fully connected last layer\n",
    "    self.relu = nn.ReLU() \n",
    "\n",
    "  def forward(self,x):\n",
    "    h_0 = Variable(torch.zeros(self.num_layers, x.size(0), self.hidden_size)).to(device) #hidden state\n",
    "    c_0 = Variable(torch.zeros(self.num_layers, x.size(0), self.hidden_size)).to(device) #internal state   \n",
    "    # Propagate input through LSTM\n",
    "\n",
    "    output, (hn, cn) = self.lstm(x, (h_0, c_0)) #lstm with input, hidden, and internal state\n",
    "   \n",
    "    hn = hn.view(-1, self.hidden_size) #reshaping the data for Dense layer next\n",
    "    out = self.relu(hn)\n",
    "    out = self.fc_1(out) #first Dense\n",
    "    out = self.relu(out) #relu\n",
    "    out = self.fc(out) #Final Output\n",
    "   \n",
    "    return out "
   ]
  },
  {
   "cell_type": "code",
   "execution_count": 77,
   "id": "74fad598",
   "metadata": {},
   "outputs": [],
   "source": [
    "num_epochs = 30000 #1000 epochs\n",
    "learning_rate = 0.00001 #0.001 lr\n",
    "\n",
    "input_size = 5 #number of features\n",
    "hidden_size = 2 #number of features in hidden state\n",
    "num_layers = 1 #number of stacked lstm layers\n",
    "\n",
    "num_classes = 1 #number of output classes "
   ]
  },
  {
   "cell_type": "code",
   "execution_count": 78,
   "id": "8837eb20",
   "metadata": {},
   "outputs": [],
   "source": [
    "lstm1 = LSTM1(num_classes, input_size, hidden_size, num_layers, X_train_tensors_final.shape[1]).to(device)\n",
    "\n",
    "loss_function = torch.nn.MSELoss()    # mean-squared error for regression\n",
    "optimizer = torch.optim.Adam(lstm1.parameters(), lr=learning_rate)  # adam optimizer"
   ]
  },
  {
   "cell_type": "code",
   "execution_count": 79,
   "id": "e2c5e47a",
   "metadata": {},
   "outputs": [
    {
     "name": "stdout",
     "output_type": "stream",
     "text": [
      "Epoch: 0, loss: 0.36278\n",
      "Epoch: 100, loss: 0.33719\n",
      "Epoch: 200, loss: 0.31341\n",
      "Epoch: 300, loss: 0.29136\n",
      "Epoch: 400, loss: 0.27095\n",
      "Epoch: 500, loss: 0.25211\n",
      "Epoch: 600, loss: 0.23474\n",
      "Epoch: 700, loss: 0.21878\n",
      "Epoch: 800, loss: 0.20414\n",
      "Epoch: 900, loss: 0.19075\n",
      "Epoch: 1000, loss: 0.17855\n",
      "Epoch: 1100, loss: 0.16747\n",
      "Epoch: 1200, loss: 0.15744\n",
      "Epoch: 1300, loss: 0.14838\n",
      "Epoch: 1400, loss: 0.14023\n",
      "Epoch: 1500, loss: 0.13292\n",
      "Epoch: 1600, loss: 0.12639\n",
      "Epoch: 1700, loss: 0.12058\n",
      "Epoch: 1800, loss: 0.11544\n",
      "Epoch: 1900, loss: 0.11090\n",
      "Epoch: 2000, loss: 0.10693\n",
      "Epoch: 2100, loss: 0.10346\n",
      "Epoch: 2200, loss: 0.10045\n",
      "Epoch: 2300, loss: 0.09785\n",
      "Epoch: 2400, loss: 0.09562\n",
      "Epoch: 2500, loss: 0.09372\n",
      "Epoch: 2600, loss: 0.09209\n",
      "Epoch: 2700, loss: 0.09072\n",
      "Epoch: 2800, loss: 0.08956\n",
      "Epoch: 2900, loss: 0.08857\n",
      "Epoch: 3000, loss: 0.08773\n",
      "Epoch: 3100, loss: 0.08702\n",
      "Epoch: 3200, loss: 0.08641\n",
      "Epoch: 3300, loss: 0.08587\n",
      "Epoch: 3400, loss: 0.08539\n",
      "Epoch: 3500, loss: 0.08495\n",
      "Epoch: 3600, loss: 0.08455\n",
      "Epoch: 3700, loss: 0.08416\n",
      "Epoch: 3800, loss: 0.08378\n",
      "Epoch: 3900, loss: 0.08341\n",
      "Epoch: 4000, loss: 0.08304\n",
      "Epoch: 4100, loss: 0.08265\n",
      "Epoch: 4200, loss: 0.08224\n",
      "Epoch: 4300, loss: 0.08178\n",
      "Epoch: 4400, loss: 0.08130\n",
      "Epoch: 4500, loss: 0.08084\n",
      "Epoch: 4600, loss: 0.08036\n",
      "Epoch: 4700, loss: 0.07987\n",
      "Epoch: 4800, loss: 0.07936\n",
      "Epoch: 4900, loss: 0.07883\n",
      "Epoch: 5000, loss: 0.07828\n",
      "Epoch: 5100, loss: 0.07772\n",
      "Epoch: 5200, loss: 0.07713\n",
      "Epoch: 5300, loss: 0.07652\n",
      "Epoch: 5400, loss: 0.07588\n",
      "Epoch: 5500, loss: 0.07522\n",
      "Epoch: 5600, loss: 0.07454\n",
      "Epoch: 5700, loss: 0.07383\n",
      "Epoch: 5800, loss: 0.07309\n",
      "Epoch: 5900, loss: 0.07232\n",
      "Epoch: 6000, loss: 0.07151\n",
      "Epoch: 6100, loss: 0.07067\n",
      "Epoch: 6200, loss: 0.06979\n",
      "Epoch: 6300, loss: 0.06888\n",
      "Epoch: 6400, loss: 0.06793\n",
      "Epoch: 6500, loss: 0.06695\n",
      "Epoch: 6600, loss: 0.06593\n",
      "Epoch: 6700, loss: 0.06486\n",
      "Epoch: 6800, loss: 0.06373\n",
      "Epoch: 6900, loss: 0.06257\n",
      "Epoch: 7000, loss: 0.06138\n",
      "Epoch: 7100, loss: 0.06010\n",
      "Epoch: 7200, loss: 0.05873\n",
      "Epoch: 7300, loss: 0.05735\n",
      "Epoch: 7400, loss: 0.05594\n",
      "Epoch: 7500, loss: 0.05452\n",
      "Epoch: 7600, loss: 0.05308\n",
      "Epoch: 7700, loss: 0.05163\n",
      "Epoch: 7800, loss: 0.05017\n",
      "Epoch: 7900, loss: 0.04870\n",
      "Epoch: 8000, loss: 0.04722\n",
      "Epoch: 8100, loss: 0.04575\n",
      "Epoch: 8200, loss: 0.04427\n",
      "Epoch: 8300, loss: 0.04280\n",
      "Epoch: 8400, loss: 0.04133\n",
      "Epoch: 8500, loss: 0.03986\n",
      "Epoch: 8600, loss: 0.03840\n",
      "Epoch: 8700, loss: 0.03695\n",
      "Epoch: 8800, loss: 0.03551\n",
      "Epoch: 8900, loss: 0.03409\n",
      "Epoch: 9000, loss: 0.03268\n",
      "Epoch: 9100, loss: 0.03130\n",
      "Epoch: 9200, loss: 0.02993\n",
      "Epoch: 9300, loss: 0.02860\n",
      "Epoch: 9400, loss: 0.02728\n",
      "Epoch: 9500, loss: 0.02600\n",
      "Epoch: 9600, loss: 0.02475\n",
      "Epoch: 9700, loss: 0.02353\n",
      "Epoch: 9800, loss: 0.02235\n",
      "Epoch: 9900, loss: 0.02120\n",
      "Epoch: 10000, loss: 0.02009\n",
      "Epoch: 10100, loss: 0.01901\n",
      "Epoch: 10200, loss: 0.01798\n",
      "Epoch: 10300, loss: 0.01699\n",
      "Epoch: 10400, loss: 0.01604\n",
      "Epoch: 10500, loss: 0.01513\n",
      "Epoch: 10600, loss: 0.01427\n",
      "Epoch: 10700, loss: 0.01345\n",
      "Epoch: 10800, loss: 0.01268\n",
      "Epoch: 10900, loss: 0.01195\n",
      "Epoch: 11000, loss: 0.01127\n",
      "Epoch: 11100, loss: 0.01063\n",
      "Epoch: 11200, loss: 0.01004\n",
      "Epoch: 11300, loss: 0.00949\n",
      "Epoch: 11400, loss: 0.00899\n",
      "Epoch: 11500, loss: 0.00853\n",
      "Epoch: 11600, loss: 0.00811\n",
      "Epoch: 11700, loss: 0.00774\n",
      "Epoch: 11800, loss: 0.00740\n",
      "Epoch: 11900, loss: 0.00710\n",
      "Epoch: 12000, loss: 0.00683\n",
      "Epoch: 12100, loss: 0.00659\n",
      "Epoch: 12200, loss: 0.00639\n",
      "Epoch: 12300, loss: 0.00622\n",
      "Epoch: 12400, loss: 0.00607\n",
      "Epoch: 12500, loss: 0.00594\n",
      "Epoch: 12600, loss: 0.00583\n",
      "Epoch: 12700, loss: 0.00574\n",
      "Epoch: 12800, loss: 0.00567\n",
      "Epoch: 12900, loss: 0.00561\n",
      "Epoch: 13000, loss: 0.00556\n",
      "Epoch: 13100, loss: 0.00552\n",
      "Epoch: 13200, loss: 0.00548\n",
      "Epoch: 13300, loss: 0.00545\n",
      "Epoch: 13400, loss: 0.00543\n",
      "Epoch: 13500, loss: 0.00541\n",
      "Epoch: 13600, loss: 0.00539\n",
      "Epoch: 13700, loss: 0.00537\n",
      "Epoch: 13800, loss: 0.00535\n",
      "Epoch: 13900, loss: 0.00534\n",
      "Epoch: 14000, loss: 0.00532\n",
      "Epoch: 14100, loss: 0.00531\n",
      "Epoch: 14200, loss: 0.00530\n",
      "Epoch: 14300, loss: 0.00528\n",
      "Epoch: 14400, loss: 0.00527\n",
      "Epoch: 14500, loss: 0.00525\n",
      "Epoch: 14600, loss: 0.00524\n",
      "Epoch: 14700, loss: 0.00522\n",
      "Epoch: 14800, loss: 0.00521\n",
      "Epoch: 14900, loss: 0.00520\n",
      "Epoch: 15000, loss: 0.00518\n",
      "Epoch: 15100, loss: 0.00517\n",
      "Epoch: 15200, loss: 0.00515\n",
      "Epoch: 15300, loss: 0.00514\n",
      "Epoch: 15400, loss: 0.00512\n",
      "Epoch: 15500, loss: 0.00510\n",
      "Epoch: 15600, loss: 0.00509\n",
      "Epoch: 15700, loss: 0.00507\n",
      "Epoch: 15800, loss: 0.00505\n",
      "Epoch: 15900, loss: 0.00503\n",
      "Epoch: 16000, loss: 0.00501\n",
      "Epoch: 16100, loss: 0.00499\n",
      "Epoch: 16200, loss: 0.00497\n",
      "Epoch: 16300, loss: 0.00495\n",
      "Epoch: 16400, loss: 0.00493\n",
      "Epoch: 16500, loss: 0.00491\n",
      "Epoch: 16600, loss: 0.00489\n",
      "Epoch: 16700, loss: 0.00487\n",
      "Epoch: 16800, loss: 0.00485\n",
      "Epoch: 16900, loss: 0.00483\n",
      "Epoch: 17000, loss: 0.00481\n",
      "Epoch: 17100, loss: 0.00479\n",
      "Epoch: 17200, loss: 0.00476\n",
      "Epoch: 17300, loss: 0.00474\n",
      "Epoch: 17400, loss: 0.00472\n",
      "Epoch: 17500, loss: 0.00470\n",
      "Epoch: 17600, loss: 0.00467\n",
      "Epoch: 17700, loss: 0.00465\n",
      "Epoch: 17800, loss: 0.00462\n",
      "Epoch: 17900, loss: 0.00459\n",
      "Epoch: 18000, loss: 0.00457\n",
      "Epoch: 18100, loss: 0.00454\n",
      "Epoch: 18200, loss: 0.00452\n",
      "Epoch: 18300, loss: 0.00449\n",
      "Epoch: 18400, loss: 0.00446\n",
      "Epoch: 18500, loss: 0.00443\n",
      "Epoch: 18600, loss: 0.00441\n",
      "Epoch: 18700, loss: 0.00437\n",
      "Epoch: 18800, loss: 0.00434\n",
      "Epoch: 18900, loss: 0.00431\n",
      "Epoch: 19000, loss: 0.00427\n",
      "Epoch: 19100, loss: 0.00424\n",
      "Epoch: 19200, loss: 0.00420\n",
      "Epoch: 19300, loss: 0.00417\n",
      "Epoch: 19400, loss: 0.00414\n",
      "Epoch: 19500, loss: 0.00410\n",
      "Epoch: 19600, loss: 0.00406\n",
      "Epoch: 19700, loss: 0.00401\n",
      "Epoch: 19800, loss: 0.00397\n",
      "Epoch: 19900, loss: 0.00393\n",
      "Epoch: 20000, loss: 0.00388\n",
      "Epoch: 20100, loss: 0.00384\n",
      "Epoch: 20200, loss: 0.00378\n",
      "Epoch: 20300, loss: 0.00373\n",
      "Epoch: 20400, loss: 0.00368\n",
      "Epoch: 20500, loss: 0.00362\n",
      "Epoch: 20600, loss: 0.00356\n",
      "Epoch: 20700, loss: 0.00350\n",
      "Epoch: 20800, loss: 0.00344\n",
      "Epoch: 20900, loss: 0.00337\n",
      "Epoch: 21000, loss: 0.00330\n",
      "Epoch: 21100, loss: 0.00323\n",
      "Epoch: 21200, loss: 0.00317\n",
      "Epoch: 21300, loss: 0.00309\n",
      "Epoch: 21400, loss: 0.00302\n",
      "Epoch: 21500, loss: 0.00294\n",
      "Epoch: 21600, loss: 0.00287\n",
      "Epoch: 21700, loss: 0.00280\n",
      "Epoch: 21800, loss: 0.00273\n",
      "Epoch: 21900, loss: 0.00265\n",
      "Epoch: 22000, loss: 0.00258\n",
      "Epoch: 22100, loss: 0.00250\n",
      "Epoch: 22200, loss: 0.00243\n",
      "Epoch: 22300, loss: 0.00235\n",
      "Epoch: 22400, loss: 0.00228\n",
      "Epoch: 22500, loss: 0.00220\n",
      "Epoch: 22600, loss: 0.00212\n",
      "Epoch: 22700, loss: 0.00204\n",
      "Epoch: 22800, loss: 0.00197\n",
      "Epoch: 22900, loss: 0.00190\n",
      "Epoch: 23000, loss: 0.00183\n",
      "Epoch: 23100, loss: 0.00176\n",
      "Epoch: 23200, loss: 0.00169\n",
      "Epoch: 23300, loss: 0.00162\n",
      "Epoch: 23400, loss: 0.00156\n",
      "Epoch: 23500, loss: 0.00150\n",
      "Epoch: 23600, loss: 0.00144\n",
      "Epoch: 23700, loss: 0.00138\n",
      "Epoch: 23800, loss: 0.00133\n",
      "Epoch: 23900, loss: 0.00128\n",
      "Epoch: 24000, loss: 0.00124\n",
      "Epoch: 24100, loss: 0.00120\n",
      "Epoch: 24200, loss: 0.00116\n",
      "Epoch: 24300, loss: 0.00113\n",
      "Epoch: 24400, loss: 0.00110\n",
      "Epoch: 24500, loss: 0.00107\n",
      "Epoch: 24600, loss: 0.00104\n",
      "Epoch: 24700, loss: 0.00101\n",
      "Epoch: 24800, loss: 0.00099\n",
      "Epoch: 24900, loss: 0.00096\n",
      "Epoch: 25000, loss: 0.00094\n",
      "Epoch: 25100, loss: 0.00092\n",
      "Epoch: 25200, loss: 0.00090\n",
      "Epoch: 25300, loss: 0.00088\n",
      "Epoch: 25400, loss: 0.00087\n",
      "Epoch: 25500, loss: 0.00086\n",
      "Epoch: 25600, loss: 0.00085\n",
      "Epoch: 25700, loss: 0.00084\n",
      "Epoch: 25800, loss: 0.00083\n",
      "Epoch: 25900, loss: 0.00083\n",
      "Epoch: 26000, loss: 0.00082\n",
      "Epoch: 26100, loss: 0.00081\n",
      "Epoch: 26200, loss: 0.00081\n",
      "Epoch: 26300, loss: 0.00080\n",
      "Epoch: 26400, loss: 0.00079\n",
      "Epoch: 26500, loss: 0.00079\n",
      "Epoch: 26600, loss: 0.00078\n",
      "Epoch: 26700, loss: 0.00078\n",
      "Epoch: 26800, loss: 0.00077\n",
      "Epoch: 26900, loss: 0.00077\n",
      "Epoch: 27000, loss: 0.00076\n",
      "Epoch: 27100, loss: 0.00076\n",
      "Epoch: 27200, loss: 0.00075\n",
      "Epoch: 27300, loss: 0.00074\n",
      "Epoch: 27400, loss: 0.00073\n",
      "Epoch: 27500, loss: 0.00071\n",
      "Epoch: 27600, loss: 0.00069\n",
      "Epoch: 27700, loss: 0.00068\n",
      "Epoch: 27800, loss: 0.00067\n",
      "Epoch: 27900, loss: 0.00067\n",
      "Epoch: 28000, loss: 0.00066\n",
      "Epoch: 28100, loss: 0.00066\n",
      "Epoch: 28200, loss: 0.00065\n",
      "Epoch: 28300, loss: 0.00065\n",
      "Epoch: 28400, loss: 0.00064\n",
      "Epoch: 28500, loss: 0.00064\n",
      "Epoch: 28600, loss: 0.00063\n",
      "Epoch: 28700, loss: 0.00062\n",
      "Epoch: 28800, loss: 0.00062\n",
      "Epoch: 28900, loss: 0.00061\n",
      "Epoch: 29000, loss: 0.00061\n",
      "Epoch: 29100, loss: 0.00060\n",
      "Epoch: 29200, loss: 0.00059\n",
      "Epoch: 29300, loss: 0.00059\n",
      "Epoch: 29400, loss: 0.00058\n",
      "Epoch: 29500, loss: 0.00057\n",
      "Epoch: 29600, loss: 0.00057\n"
     ]
    },
    {
     "name": "stdout",
     "output_type": "stream",
     "text": [
      "Epoch: 29700, loss: 0.00056\n",
      "Epoch: 29800, loss: 0.00056\n",
      "Epoch: 29900, loss: 0.00055\n"
     ]
    }
   ],
   "source": [
    "for epoch in range(num_epochs):\n",
    "  outputs = lstm1.forward(X_train_tensors_final.to(device)) #forward pass\n",
    "  optimizer.zero_grad() #caluclate the gradient, manually setting to 0\n",
    " \n",
    "  # obtain the loss function\n",
    "  loss = loss_function(outputs, y_train_tensors.to(device))\n",
    "\n",
    "  loss.backward() #calculates the loss of the loss function\n",
    " \n",
    "  optimizer.step() #improve from loss, i.e backprop\n",
    "  if epoch % 100 == 0:\n",
    "    print(\"Epoch: %d, loss: %1.5f\" % (epoch, loss.item())) "
   ]
  },
  {
   "cell_type": "code",
   "execution_count": 80,
   "id": "db8852ec",
   "metadata": {},
   "outputs": [],
   "source": [
    "df_X_ss = ss.transform(df.drop(columns='Volume'))\n",
    "df_y_mm = mm.transform(df.iloc[:, 5:6])\n",
    "\n",
    "df_X_ss = Variable(torch.Tensor(df_X_ss)) #converting to Tensors\n",
    "df_y_mm = Variable(torch.Tensor(df_y_mm))\n",
    "#reshaping the dataset\n",
    "df_X_ss = torch.reshape(df_X_ss, (df_X_ss.shape[0], 1, df_X_ss.shape[1]))"
   ]
  },
  {
   "cell_type": "code",
   "execution_count": 84,
   "id": "8f00ac8a",
   "metadata": {},
   "outputs": [
    {
     "data": {
      "image/png": "[encoded data removed]",
      "text/plain": [
       "<Figure size 720x432 with 1 Axes>"
      ]
     },
     "metadata": {
      "needs_background": "light"
     },
     "output_type": "display_data"
    }
   ],
   "source": [
    "train_predict = lstm1(df_X_ss.to(device))#forward pass\n",
    "data_predict = train_predict.data.detach().cpu().numpy() #numpy conversion\n",
    "dataY_plot = df_y_mm.data.numpy()\n",
    "\n",
    "data_predict = mm.inverse_transform(data_predict) #reverse transformation\n",
    "dataY_plot = mm.inverse_transform(dataY_plot)\n",
    "plt.figure(figsize=(10,6)) #plotting\n",
    "plt.axvline(x=550, c='r', linestyle='--') #size of the training set\n",
    "\n",
    "plt.plot(dataY_plot, label='Actual Data') #actual plot\n",
    "plt.plot(data_predict, label='Predicted Data') #predicted plot\n",
    "plt.title('Time-Series Prediction')\n",
    "plt.legend()\n",
    "plt.show() "
   ]
  },
  {
   "cell_type": "code",
   "execution_count": null,
   "id": "44ef1e3a",
   "metadata": {},
   "outputs": [],
   "source": []
  }
 ],
 "metadata": {
  "kernelspec": {
   "display_name": "Python 3 (ipykernel)",
   "language": "python",
   "name": "python3"
  },
  "language_info": {
   "codemirror_mode": {
    "name": "ipython",
    "version": 3
   },
   "file_extension": ".py",
   "mimetype": "text/x-python",
   "name": "python",
   "nbconvert_exporter": "python",
   "pygments_lexer": "ipython3",
   "version": "3.9.12"
  }
 },
 "nbformat": 4,
 "nbformat_minor": 5
}
