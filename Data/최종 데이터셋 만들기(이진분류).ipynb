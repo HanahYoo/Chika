{
 "cells": [
  {
   "cell_type": "code",
   "execution_count": 14,
   "id": "06740e6d",
   "metadata": {},
   "outputs": [],
   "source": [
    "import numpy as np\n",
    "import pandas as pd\n",
    "from sklearn.preprocessing import StandardScaler"
   ]
  },
  {
   "cell_type": "code",
   "execution_count": 21,
   "id": "a595f687",
   "metadata": {},
   "outputs": [
    {
     "name": "stdout",
     "output_type": "stream",
     "text": [
      "/Users/choejuhui/Desktop/Datasets(Right)\n"
     ]
    }
   ],
   "source": [
    "cd/Users/choejuhui/Desktop/Datasets(Right)"
   ]
  },
  {
   "cell_type": "code",
   "execution_count": 1,
   "id": "9d4c4a65",
   "metadata": {},
   "outputs": [],
   "source": [
    "def distance(x1, y1, x2, y2):\n",
    "    m = (y2-y1) / (x2-x1)\n",
    "    return m"
   ]
  },
  {
   "cell_type": "code",
   "execution_count": 25,
   "id": "9357eb69",
   "metadata": {},
   "outputs": [],
   "source": [
    "# 포지션 => 기울기로 변환\n",
    "# coef.shape = (300,1)\n",
    "def Coefficient(df): \n",
    "    coef = []\n",
    "    for i in range(49, 351):\n",
    "        frame1 = df[i][gradlab1][0:2]\n",
    "        frame2 = df[i][gradlab2][0:2]\n",
    "        coef.append(distance(frame1[0], frame1[1], frame2[0], frame2[1]))\n",
    "    coef = pd.DataFrame(coef, columns= ['coef'])\n",
    "    \n",
    "    q3=coef['coef'].quantile(0.75)\n",
    "    q1=coef['coef'].quantile(0.25)\n",
    "    iqr=q3-q1\n",
    "    outlier_top=q3+1.5*iqr\n",
    "    outlier_bottom=q1-1.5*iqr\n",
    "    idx=coef[(coef['coef']<outlier_bottom) | (coef['coef']>outlier_top)].index\n",
    "    \n",
    "    idx_list=[]\n",
    "    for i in idx:\n",
    "        idx_list.append(str(i))\n",
    "    idx_list.append('end')\n",
    "\n",
    "    idx_string = ' '.join(idx_list)\n",
    "    idx_string_split = idx_string.split('end')\n",
    "    outlier_str = idx_string_split[0].strip()\n",
    "    outlier = list(map(int, outlier_str.split(' ')[:-1]))\n",
    "\n",
    "    for i in range(len(coef)-1):\n",
    "        if i in outlier:\n",
    "            if i == 0:\n",
    "                continue\n",
    "            elif i != (len(coef)-1):\n",
    "                coef['coef'][i] = (coef['coef'][i-1] + coef['coef'][i+1])/2\n",
    "            else:\n",
    "                break\n",
    "                \n",
    "    coef = np.array(coef)[1:301]\n",
    "    \n",
    "    return coef"
   ]
  },
  {
   "cell_type": "code",
   "execution_count": 4,
   "id": "797a2090",
   "metadata": {},
   "outputs": [],
   "source": [
    "# 가속도 넘파이 이상치 변환\n",
    "# acc_array.shape = (300,2)\n",
    "def Acceleration(pos_1, array_1, acclab):\n",
    "    df = pd.DataFrame(array_1[:,acclab,:], columns=['x','y','z'])\n",
    "    idx_list=[]\n",
    "    for i in ['x','y','z']:\n",
    "        q3=df[i].quantile(0.75)\n",
    "        q1=df[i].quantile(0.25)\n",
    "        iqr=q3-q1\n",
    "        outlier_top=q3+1.5*iqr\n",
    "        outlier_bottom=q1-1.5*iqr\n",
    "\n",
    "        idx=df[(df[i]<outlier_bottom) | (df[i]>outlier_top)].index\n",
    "        for i in idx:\n",
    "            idx_list.append(str(i))\n",
    "        idx_list.append('end')\n",
    "    \n",
    "    idx_string = ' '.join(idx_list)\n",
    "    idx_string_split = idx_string.split('end')\n",
    "    x_outlier_str = idx_string_split[0].strip()\n",
    "    y_outlier_str = idx_string_split[1].strip()\n",
    "    x_outlier = list(map(int, x_outlier_str.split(' ')[:-1]))\n",
    "    y_outlier = list(map(int, y_outlier_str.split(' ')[:-1]))\n",
    "    \n",
    "    acc_1_parsed = array_1[:,acclab,:]\n",
    "    for i in range(len(pos_1)-1):\n",
    "        if i in x_outlier:\n",
    "            acc_1_parsed[i][0] = (acc_1_parsed[i-1][0] + acc_1_parsed[i+1][0])/2 \n",
    "        if i in y_outlier:\n",
    "            acc_1_parsed[i][1] = (acc_1_parsed[i-1][1] + acc_1_parsed[i+1][1])/2 \n",
    "       \n",
    "    final_df = pd.DataFrame(acc_1_parsed, columns = ['x','y','z'])\n",
    "    acc_array = StandardScaler().fit_transform(final_df)\n",
    "    acc_array = acc_array[49:349,:]\n",
    "    \n",
    "    return acc_array[:,:2] "
   ]
  },
  {
   "cell_type": "code",
   "execution_count": 22,
   "id": "5acb16a0",
   "metadata": {},
   "outputs": [],
   "source": [
    "num_session = 21\n",
    "gesture_list = ['URF','UMF','ULF','DLF','DMF','DRF','URB','UMB','ULB','DLB','DMB','DRB','URO','ULO','DLO','DRO']\n",
    "right_gesture = gesture_list[0]\n",
    "hand = 'Right'\n",
    "\n",
    "acclab1 = 8\n",
    "acclab2 = 12\n",
    "gradlab1 = 8\n",
    "gradlab2 = 12"
   ]
  },
  {
   "cell_type": "code",
   "execution_count": 23,
   "id": "934e92db",
   "metadata": {},
   "outputs": [],
   "source": [
    "def preprocessing(gesture):\n",
    "    data2 = np.zeros((1,300,6))\n",
    "    for i in range(1, num_session+1):\n",
    "        data = np.zeros((300,1))\n",
    "        pos = np.load('%s_%s_p_%d.npy' % (hand, gesture, i))\n",
    "        acc = np.load('%s_%s_a_%d.npy' % (hand, gesture, i))\n",
    "        acc1 = Acceleration(pos, acc, acclab1)\n",
    "        acc2 = Acceleration(pos, acc, acclab2)\n",
    "        coef = Coefficient(pos)\n",
    "        if gesture == right_gesture:\n",
    "            label = np.ones((300,1))\n",
    "        else:\n",
    "            label = np.zeros((300,1))\n",
    "        data = np.hstack((data,acc1,acc2,coef,label))\n",
    "        data = data[:, 1:].reshape((1,300,6))\n",
    "        data2 = np.vstack((data2,data))\n",
    "        \n",
    "    return data2"
   ]
  },
  {
   "cell_type": "code",
   "execution_count": 26,
   "id": "c78540f7",
   "metadata": {},
   "outputs": [],
   "source": [
    "target_data = preprocessing('URF')\n",
    "error_data = preprocessing('DLB')"
   ]
  },
  {
   "cell_type": "code",
   "execution_count": 31,
   "id": "e36203e2",
   "metadata": {},
   "outputs": [
    {
     "data": {
      "text/plain": [
       "(42, 300, 6)"
      ]
     },
     "execution_count": 31,
     "metadata": {},
     "output_type": "execute_result"
    }
   ],
   "source": [
    "data = np.vstack((target_data[1:], error_data[1:]))\n",
    "data.shape"
   ]
  },
  {
   "cell_type": "code",
   "execution_count": 32,
   "id": "5acb1245",
   "metadata": {},
   "outputs": [],
   "source": [
    "np.save('data_URF_DLB.npy', data)"
   ]
  }
 ],
 "metadata": {
  "kernelspec": {
   "display_name": "Python 3 (ipykernel)",
   "language": "python",
   "name": "python3"
  },
  "language_info": {
   "codemirror_mode": {
    "name": "ipython",
    "version": 3
   },
   "file_extension": ".py",
   "mimetype": "text/x-python",
   "name": "python",
   "nbconvert_exporter": "python",
   "pygments_lexer": "ipython3",
   "version": "3.10.4"
  }
 },
 "nbformat": 4,
 "nbformat_minor": 5
}
