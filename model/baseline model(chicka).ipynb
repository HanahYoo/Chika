{
 "cells": [
  {
   "cell_type": "code",
   "execution_count": 2,
   "id": "7b0cc1be",
   "metadata": {},
   "outputs": [],
   "source": [
    "import torch\n",
    "import torch.nn as nn"
   ]
  },
  {
   "cell_type": "code",
   "execution_count": null,
   "id": "0de319a4",
   "metadata": {},
   "outputs": [],
   "source": [
    "input = torch.randn(100,3,3) #(batch, seq_len_, input_size)\n",
    "input_dim= 3\n",
    "sequence_length = 3\n",
    "hidden_dim = 6\n",
    "layers = 2\n",
    "dropout_rate= 0.5\n",
    "num_classes = 2"
   ]
  },
  {
   "cell_type": "code",
   "execution_count": 3,
   "id": "474b0ecb",
   "metadata": {},
   "outputs": [],
   "source": [
    "class LSTM_Chicka(nn.Module):\n",
    "    def __init__(self, num_classes, input_dim, hidden_dim, layers, seq_length, dropout_rate):\n",
    "        super(LSTM_Chicka,self).__init__()\n",
    "        self.lstm =  nn.LSTM(input_size = input_size, hidden_size = hidden_size, num_layers = num_layers,sequence_length = seq_length, batch_first = True,dropout = dropout_rate)\n",
    "        self.layer_1 = nn.Linear(hidden_size, 256)\n",
    "        self.layer_2 = nn.Linear(256,64)\n",
    "        self.layer_3 = nn.Linear(64,16)\n",
    "        self.layer_out = nn.Linear(16, num_classes) \n",
    "        self.relu = nn.ReLU()  \n",
    "    def forward(self,x):\n",
    "        h_0 = torch.tensor(torch.zeros(self.num_layers,x.size(0), self.hidden_size)) # x.size(0) batch size \n",
    "        c_0 = torch.tensor(torch.zeros(self.num_layers, x.size(0), self.hidden_size))\n",
    "        \n",
    "        output, (hn,cn) = self.lstm(x,(h_0,c_0))\n",
    "        \n",
    "        hn = hn.view(-1, self.hidden_size)\n",
    "        out = self.relu(hn)\n",
    "        out = self.layer_1(out) \n",
    "        out = self.relu(out) \n",
    "        out = self.layer_2(out)\n",
    "        out = self.relu(out)\n",
    "        out = self.layer_3(out)\n",
    "        out = self.relu(out)\n",
    "        out = self.layer_out(out) \n",
    "\n",
    "        return out\n",
    "        "
   ]
  },
  {
   "cell_type": "code",
   "execution_count": 3,
   "id": "0f9e3746",
   "metadata": {},
   "outputs": [
    {
     "ename": "NameError",
     "evalue": "name 'num_classes' is not defined",
     "output_type": "error",
     "traceback": [
      "\u001b[1;31m---------------------------------------------------------------------------\u001b[0m",
      "\u001b[1;31mNameError\u001b[0m                                 Traceback (most recent call last)",
      "Input \u001b[1;32mIn [3]\u001b[0m, in \u001b[0;36m<cell line: 1>\u001b[1;34m()\u001b[0m\n\u001b[1;32m----> 1\u001b[0m model \u001b[38;5;241m=\u001b[39m LSTM_Chicka(\u001b[43mnum_classes\u001b[49m,input_size, hidden_size, num_layers, seq_length,dropout_rate)\n\u001b[0;32m      2\u001b[0m criterion \u001b[38;5;241m=\u001b[39m torch\u001b[38;5;241m.\u001b[39mnn\u001b[38;5;241m.\u001b[39mBCELoss\n\u001b[0;32m      3\u001b[0m optimizer \u001b[38;5;241m=\u001b[39m torch\u001b[38;5;241m.\u001b[39moptim\u001b[38;5;241m.\u001b[39mAdam(model\u001b[38;5;241m.\u001b[39mparameters(), lr\u001b[38;5;241m=\u001b[39m\u001b[38;5;241m0.01\u001b[39m, momentum\u001b[38;5;241m=\u001b[39m\u001b[38;5;241m0.9\u001b[39m)\n",
      "\u001b[1;31mNameError\u001b[0m: name 'num_classes' is not defined"
     ]
    }
   ],
   "source": [
    "model = LSTM_Chicka(num_classes,input_size, hidden_size, num_layers, seq_length,dropout_rate)\n",
    "criterion = torch.nn.BCELoss\n",
    "optimizer = torch.optim.Adam(model.parameters(), lr=0.01, momentum=0.9)\n",
    "scheduler = torch.optim.lr_scheduler.ReduceLROnPlateau(optimizer= optimizer)"
   ]
  },
  {
   "cell_type": "code",
   "execution_count": null,
   "id": "c008b8a0",
   "metadata": {},
   "outputs": [],
   "source": [
    "num_epochs = 100 \n",
    "\n",
    "for epoch in range(num_epochs) : \n",
    "\n",
    "    outputs = LSTM_Chicka.forward(train_x_tensor_final)\n",
    "\n",
    "    optimizer.zero_grad()\n",
    "\n",
    "    loss = criterion(outputs, train_y_tensor)\n",
    "\n",
    "    loss.backward()\n",
    "\n",
    "    optimizer.step() # improve from loss = back propagation\n",
    "\n",
    "    if epoch % 200 == 0 :\n",
    "\n",
    "        print(\"Epoch : %d, loss : %1.5f\" % (epoch, loss.item()))\n",
    "        \n",
    "# output 1. sequence length   2. batch 크기  3. 은닉층의 크기 : 12"
   ]
  },
  {
   "cell_type": "code",
   "execution_count": null,
   "id": "c664e857",
   "metadata": {},
   "outputs": [],
   "source": [
    "test_predict = LSTM_Chicka(train_x_tensor_final) "
   ]
  }
 ],
 "metadata": {
  "kernelspec": {
   "display_name": "Python 3 (ipykernel)",
   "language": "python",
   "name": "python3"
  },
  "language_info": {
   "codemirror_mode": {
    "name": "ipython",
    "version": 3
   },
   "file_extension": ".py",
   "mimetype": "text/x-python",
   "name": "python",
   "nbconvert_exporter": "python",
   "pygments_lexer": "ipython3",
   "version": "3.9.12"
  }
 },
 "nbformat": 4,
 "nbformat_minor": 5
}
