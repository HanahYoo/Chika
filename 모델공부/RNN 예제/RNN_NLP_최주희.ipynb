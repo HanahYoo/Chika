{
  "nbformat": 4,
  "nbformat_minor": 0,
  "metadata": {
    "colab": {
      "name": "\bRNN 예제 - NLP",
      "provenance": []
    },
    "kernelspec": {
      "name": "python3",
      "display_name": "Python 3"
    },
    "language_info": {
      "name": "python"
    }
  },
  "cells": [
    {
      "cell_type": "code",
      "execution_count": 1,
      "metadata": {
        "id": "6xukZ3xsmVIa"
      },
      "outputs": [],
      "source": [
        "import numpy as np\n",
        "import torch\n",
        "import torch.nn as nn\n",
        "import torch.optim as optim\n",
        "\n",
        "sentences = [\"i like dog\", \"i love coffee\", \"i hate milk\", \"you like cat\", \"you love milk\", \"you hate coffee\"]\n",
        "dtype = torch.float"
      ]
    },
    {
      "cell_type": "code",
      "source": [
        "word_list = list(set(\" \".join(sentences).split())) \n",
        "word_dict = {w: i for i, w in enumerate(word_list)}\n",
        "number_dict = {i: w for i, w in enumerate(word_list)}\n",
        "n_class = len(word_dict)"
      ],
      "metadata": {
        "id": "6rQ_dD46mdLY"
      },
      "execution_count": 2,
      "outputs": []
    },
    {
      "cell_type": "code",
      "source": [
        "len(word_dict)"
      ],
      "metadata": {
        "colab": {
          "base_uri": "https://localhost:8080/"
        },
        "id": "Cn3ijkHims2c",
        "outputId": "cb7c8ecb-eca8-4d00-d27e-1480e2c758f2"
      },
      "execution_count": 7,
      "outputs": [
        {
          "output_type": "execute_result",
          "data": {
            "text/plain": [
              "9"
            ]
          },
          "metadata": {},
          "execution_count": 7
        }
      ]
    },
    {
      "cell_type": "code",
      "source": [
        "batch_size = len(sentences)\n",
        "n_step = 2  # 학습 하려고 하는 문장의 길이 - 1 앞에 두 단어를 보고 뒤에 단어 예측. \n",
        "n_hidden = 5  # 은닉층 사이즈\n",
        "\n",
        "def make_batch(sentences):\n",
        "  input_batch = []\n",
        "  target_batch = []\n",
        "\n",
        "  for sen in sentences:\n",
        "    word = sen.split()\n",
        "    input = [word_dict[n] for n in word[:-1]]\n",
        "    target = word_dict[word[-1]]\n",
        "\n",
        "    input_batch.append(np.eye(n_class)[input])  # One-Hot Encoding\n",
        "    target_batch.append(target)\n",
        "  \n",
        "  return input_batch, target_batch\n",
        "\n",
        "input_batch, target_batch = make_batch(sentences)\n",
        "input_batch = torch.tensor(input_batch, dtype=torch.float32, requires_grad=True)\n",
        "target_batch = torch.tensor(target_batch, dtype=torch.int64)"
      ],
      "metadata": {
        "colab": {
          "base_uri": "https://localhost:8080/"
        },
        "id": "oazybv7AmgWu",
        "outputId": "80aac32d-9f68-4326-e68d-f5c1569e47a2"
      },
      "execution_count": 5,
      "outputs": [
        {
          "output_type": "stream",
          "name": "stderr",
          "text": [
            "/usr/local/lib/python3.7/dist-packages/ipykernel_launcher.py:20: UserWarning: Creating a tensor from a list of numpy.ndarrays is extremely slow. Please consider converting the list to a single numpy.ndarray with numpy.array() before converting to a tensor. (Triggered internally at  ../torch/csrc/utils/tensor_new.cpp:201.)\n"
          ]
        }
      ]
    },
    {
      "cell_type": "code",
      "source": [
        "class TextRNN(nn.Module):\n",
        "  def __init__(self):\n",
        "    super(TextRNN, self).__init__()\n",
        "\n",
        "    self.rnn = nn.RNN(input_size=n_class, hidden_size=n_hidden, dropout=0.3)\n",
        "    self.W = nn.Parameter(torch.randn([n_hidden, n_class]).type(dtype))\n",
        "    self.b = nn.Parameter(torch.randn([n_class]).type(dtype))\n",
        "    self.Softmax = nn.Softmax(dim=1)\n",
        "\n",
        "  def forward(self, hidden, X):\n",
        "    X = X.transpose(0, 1)\n",
        "    outputs, hidden = self.rnn(X, hidden)\n",
        "    outputs = outputs[-1]  # 최종 예측 Hidden Layer\n",
        "    model = torch.mm(outputs, self.W) + self.b  # 최종 예측 최종 출력 층\n",
        "    return model"
      ],
      "metadata": {
        "id": "T-BKbpmynVxC"
      },
      "execution_count": 6,
      "outputs": []
    },
    {
      "cell_type": "code",
      "source": [
        "model = TextRNN()\n",
        "criterion = nn.CrossEntropyLoss()\n",
        "optimizer = optim.Adam(model.parameters(), lr=0.01)\n",
        "\n",
        "for epoch in range(500):\n",
        "  hidden = torch.zeros(1, batch_size, n_hidden, requires_grad=True)\n",
        "  output = model(hidden, input_batch)\n",
        "  loss = criterion(output, target_batch)\n",
        "\n",
        "  if (epoch + 1) % 100 == 0:\n",
        "    print('Epoch:', '%04d' % (epoch + 1), 'cost =', '{:.6f}'.format(loss))\n",
        "  \n",
        "  optimizer.zero_grad()\n",
        "  loss.backward()\n",
        "  optimizer.step()\n",
        "\n",
        "input = [sen.split()[:2] for sen in sentences]\n",
        "\n",
        "hidden = torch.zeros(1, batch_size, n_hidden, requires_grad=True)\n",
        "predict = model(hidden, input_batch).data.max(1, keepdim=True)[1]\n",
        "print([sen.split()[:2] for sen in sentences], '->', [number_dict[n.item()] for n in predict.squeeze()])"
      ],
      "metadata": {
        "colab": {
          "base_uri": "https://localhost:8080/"
        },
        "id": "b4eJcECLnqld",
        "outputId": "050a74f8-6d80-433c-e26a-06f934921005"
      },
      "execution_count": 8,
      "outputs": [
        {
          "output_type": "stream",
          "name": "stderr",
          "text": [
            "/usr/local/lib/python3.7/dist-packages/torch/nn/modules/rnn.py:65: UserWarning: dropout option adds dropout after all but last recurrent layer, so non-zero dropout expects num_layers greater than 1, but got dropout=0.3 and num_layers=1\n",
            "  \"num_layers={}\".format(dropout, num_layers))\n"
          ]
        },
        {
          "output_type": "stream",
          "name": "stdout",
          "text": [
            "Epoch: 0100 cost = 0.331609\n",
            "Epoch: 0200 cost = 0.067683\n",
            "Epoch: 0300 cost = 0.029795\n",
            "Epoch: 0400 cost = 0.017645\n",
            "Epoch: 0500 cost = 0.011857\n",
            "[['i', 'like'], ['i', 'love'], ['i', 'hate'], ['you', 'like'], ['you', 'love'], ['you', 'hate']] -> ['dog', 'coffee', 'milk', 'cat', 'milk', 'coffee']\n"
          ]
        }
      ]
    },
    {
      "cell_type": "code",
      "source": [
        ""
      ],
      "metadata": {
        "id": "7kJ3L9IHoJa4"
      },
      "execution_count": null,
      "outputs": []
    }
  ]
}
